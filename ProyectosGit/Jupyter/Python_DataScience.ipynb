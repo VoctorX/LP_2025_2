{
  "cells": [
    {
      "cell_type": "markdown",
      "id": "95e6f49d-94e1-418f-bff8-e5df4e5575b3",
      "metadata": {
        "tags": [],
        "id": "95e6f49d-94e1-418f-bff8-e5df4e5575b3"
      },
      "source": [
        "## 1. Variables"
      ]
    },
    {
      "cell_type": "markdown",
      "id": "d8dd37ea-6749-4695-8b9f-ded141fe889d",
      "metadata": {
        "id": "d8dd37ea-6749-4695-8b9f-ded141fe889d"
      },
      "source": [
        "Sumar 10+ 30"
      ]
    },
    {
      "cell_type": "code",
      "execution_count": 126,
      "id": "d1661814-37e0-4975-ac92-fb77651a6b49",
      "metadata": {
        "tags": [],
        "colab": {
          "base_uri": "https://localhost:8080/"
        },
        "id": "d1661814-37e0-4975-ac92-fb77651a6b49",
        "outputId": "5c3b0765-d905-48cd-8925-4d5687746838"
      },
      "outputs": [
        {
          "output_type": "stream",
          "name": "stdout",
          "text": [
            "40\n"
          ]
        }
      ],
      "source": [
        "a=10\n",
        "b=30\n",
        "print(a+b)"
      ]
    },
    {
      "cell_type": "markdown",
      "id": "48fe2cd1-1c7e-4ed6-be72-d3b489e97198",
      "metadata": {
        "tags": [],
        "id": "48fe2cd1-1c7e-4ed6-be72-d3b489e97198"
      },
      "source": [
        "Declara la variable \"sueldo\", debe valer 16000"
      ]
    },
    {
      "cell_type": "code",
      "execution_count": 127,
      "id": "e364bce9-0877-4d16-8087-10f44d16d3dd",
      "metadata": {
        "tags": [],
        "id": "e364bce9-0877-4d16-8087-10f44d16d3dd"
      },
      "outputs": [],
      "source": [
        "sueldo=16000"
      ]
    },
    {
      "cell_type": "markdown",
      "id": "a5e52d65-574a-4eff-9428-07ed9cb02dbf",
      "metadata": {
        "id": "a5e52d65-574a-4eff-9428-07ed9cb02dbf"
      },
      "source": [
        "Mostrar la variable sueldo"
      ]
    },
    {
      "cell_type": "code",
      "execution_count": 128,
      "id": "730bc6a8-cf71-4ba5-a971-2c268314d11e",
      "metadata": {
        "tags": [],
        "colab": {
          "base_uri": "https://localhost:8080/"
        },
        "id": "730bc6a8-cf71-4ba5-a971-2c268314d11e",
        "outputId": "c402e58f-53d4-465b-e8be-cd54fedea475"
      },
      "outputs": [
        {
          "output_type": "stream",
          "name": "stdout",
          "text": [
            "16000\n"
          ]
        }
      ],
      "source": [
        "print(sueldo)"
      ]
    },
    {
      "cell_type": "markdown",
      "id": "974d386a-9bb5-40ce-b4c7-8b71cc7311d4",
      "metadata": {
        "id": "974d386a-9bb5-40ce-b4c7-8b71cc7311d4"
      },
      "source": [
        "Declarar la variable \"bono\", debe valer 4000"
      ]
    },
    {
      "cell_type": "code",
      "execution_count": 129,
      "id": "b188e3a9-ca4f-47f1-b678-001eed67d8e9",
      "metadata": {
        "tags": [],
        "id": "b188e3a9-ca4f-47f1-b678-001eed67d8e9"
      },
      "outputs": [],
      "source": [
        "bono=4000"
      ]
    },
    {
      "cell_type": "markdown",
      "id": "3b46908c-0f68-4c84-84ee-203ad1429274",
      "metadata": {
        "id": "3b46908c-0f68-4c84-84ee-203ad1429274"
      },
      "source": [
        "Declarar la variable total, debe ser la suma de sueldo y bono"
      ]
    },
    {
      "cell_type": "code",
      "execution_count": 130,
      "id": "906243ad-3994-483d-b9c8-8dd97bbbb06a",
      "metadata": {
        "tags": [],
        "id": "906243ad-3994-483d-b9c8-8dd97bbbb06a"
      },
      "outputs": [],
      "source": [
        "total=sueldo+bono"
      ]
    },
    {
      "cell_type": "markdown",
      "id": "972cca46-67b6-47a1-8435-00f0b227258f",
      "metadata": {
        "tags": [],
        "id": "972cca46-67b6-47a1-8435-00f0b227258f"
      },
      "source": [
        "Declarar la variable \"neto\", debe ser el resultado de restar 2000 al sueldo total"
      ]
    },
    {
      "cell_type": "code",
      "execution_count": 131,
      "id": "b4f2dfcb-be2e-44a3-bc60-536138bddf4c",
      "metadata": {
        "tags": [],
        "id": "b4f2dfcb-be2e-44a3-bc60-536138bddf4c"
      },
      "outputs": [],
      "source": [
        "neto=total-2000"
      ]
    },
    {
      "cell_type": "markdown",
      "id": "4df59d0e-be9c-41cc-aa7e-141ed452aacb",
      "metadata": {
        "tags": [],
        "id": "4df59d0e-be9c-41cc-aa7e-141ed452aacb"
      },
      "source": [
        "Declarar la variable \"anual\", debe ser el resultado de multiplicar neto por 12"
      ]
    },
    {
      "cell_type": "code",
      "execution_count": 132,
      "id": "503bbcaa-778d-4720-9878-16224ec64e5c",
      "metadata": {
        "tags": [],
        "id": "503bbcaa-778d-4720-9878-16224ec64e5c"
      },
      "outputs": [],
      "source": [
        "anual=neto*12"
      ]
    },
    {
      "cell_type": "markdown",
      "id": "250f2a2b-06c9-4ac8-b82c-422e1009390e",
      "metadata": {
        "tags": [],
        "id": "250f2a2b-06c9-4ac8-b82c-422e1009390e"
      },
      "source": [
        "Declarar la variable \"diario\", debe ser el resultado de dividir neto entre 30"
      ]
    },
    {
      "cell_type": "code",
      "execution_count": 133,
      "id": "7ac394d6-5a0c-4f34-ad86-279fad732771",
      "metadata": {
        "tags": [],
        "id": "7ac394d6-5a0c-4f34-ad86-279fad732771"
      },
      "outputs": [],
      "source": [
        "diario=neto/30"
      ]
    },
    {
      "cell_type": "markdown",
      "id": "7a14559a-732d-48c3-a58e-cb0757251df0",
      "metadata": {
        "tags": [],
        "id": "7a14559a-732d-48c3-a58e-cb0757251df0"
      },
      "source": [
        "Usar el operador \"<\" para calcular si el sueldo diario es menor a 700"
      ]
    },
    {
      "cell_type": "code",
      "execution_count": 134,
      "id": "33197b59-3187-4ad4-ba28-cc341696a405",
      "metadata": {
        "tags": [],
        "id": "33197b59-3187-4ad4-ba28-cc341696a405",
        "colab": {
          "base_uri": "https://localhost:8080/"
        },
        "outputId": "9394a9f2-ed16-4b2a-a789-d4a692e61492"
      },
      "outputs": [
        {
          "output_type": "stream",
          "name": "stdout",
          "text": [
            "El sueldo diario es menor a 700\n"
          ]
        }
      ],
      "source": [
        "if diario<700:\n",
        "  print(\"El sueldo diario es menor a 700\")"
      ]
    },
    {
      "cell_type": "markdown",
      "id": "2a41875a-27be-4639-93cd-fd5ec11d3c45",
      "metadata": {
        "id": "2a41875a-27be-4639-93cd-fd5ec11d3c45"
      },
      "source": [
        "Usar el operador \">\" para calcular si el sueldo diario es mayor a 1000"
      ]
    },
    {
      "cell_type": "code",
      "execution_count": 135,
      "id": "3eae77db-a1e3-4cc3-9ce4-33fd7d931cea",
      "metadata": {
        "tags": [],
        "id": "3eae77db-a1e3-4cc3-9ce4-33fd7d931cea"
      },
      "outputs": [],
      "source": [
        "if diario>700:\n",
        "  print(\"El sueldo diario es mayor a 700\")"
      ]
    },
    {
      "cell_type": "markdown",
      "id": "c1c1a66b-f3f5-49d0-8c52-87e375430c53",
      "metadata": {
        "id": "c1c1a66b-f3f5-49d0-8c52-87e375430c53"
      },
      "source": [
        "## 2. Cadenas"
      ]
    },
    {
      "cell_type": "markdown",
      "id": "17772919-efb5-4471-9483-a1cbf7d7e33a",
      "metadata": {
        "id": "17772919-efb5-4471-9483-a1cbf7d7e33a"
      },
      "source": [
        "Declarar la variable \"hola\", debe contener \"hola mundo\""
      ]
    },
    {
      "cell_type": "code",
      "execution_count": 136,
      "id": "0b31b38e-dd5f-4992-b86e-25b41b586cce",
      "metadata": {
        "tags": [],
        "id": "0b31b38e-dd5f-4992-b86e-25b41b586cce"
      },
      "outputs": [],
      "source": [
        "hola= \"hola mundo\""
      ]
    },
    {
      "cell_type": "markdown",
      "id": "9b724430-0a39-4695-b9ca-ed85db2ce485",
      "metadata": {
        "id": "9b724430-0a39-4695-b9ca-ed85db2ce485"
      },
      "source": [
        "Mostrar la variable hola usando la funcion print"
      ]
    },
    {
      "cell_type": "code",
      "execution_count": 137,
      "id": "9e943874-40e2-4a46-8164-8c2bf35b19f5",
      "metadata": {
        "tags": [],
        "colab": {
          "base_uri": "https://localhost:8080/"
        },
        "id": "9e943874-40e2-4a46-8164-8c2bf35b19f5",
        "outputId": "3e80de2c-8f2c-4593-8003-3831ce24872f"
      },
      "outputs": [
        {
          "output_type": "stream",
          "name": "stdout",
          "text": [
            "hola mundo\n"
          ]
        }
      ],
      "source": [
        "print(hola)"
      ]
    },
    {
      "cell_type": "markdown",
      "id": "e6cc4783-cdb6-4918-a8ee-6cd6dee84bc0",
      "metadata": {
        "tags": [],
        "id": "e6cc4783-cdb6-4918-a8ee-6cd6dee84bc0"
      },
      "source": [
        "Mostrar un texto usando saltos de líneas"
      ]
    },
    {
      "cell_type": "code",
      "execution_count": 138,
      "id": "72674494-40f3-4b60-bd67-799a537b9fa8",
      "metadata": {
        "tags": [],
        "colab": {
          "base_uri": "https://localhost:8080/"
        },
        "id": "72674494-40f3-4b60-bd67-799a537b9fa8",
        "outputId": "6a1deae9-f37c-4002-ee4d-5b43fa23eef7"
      },
      "outputs": [
        {
          "output_type": "stream",
          "name": "stdout",
          "text": [
            "hola mundo\n",
            "6 de Octubre de 2025\n"
          ]
        }
      ],
      "source": [
        "print(\"hola mundo\\n6 de Octubre de 2025\")"
      ]
    },
    {
      "cell_type": "markdown",
      "id": "0cd3c424-8da0-4b9c-abed-15cf0d3b4290",
      "metadata": {
        "id": "0cd3c424-8da0-4b9c-abed-15cf0d3b4290"
      },
      "source": [
        "Declarar la variable nombre"
      ]
    },
    {
      "cell_type": "code",
      "execution_count": 139,
      "id": "5384f1af-70b1-4774-86bf-e7d79086f372",
      "metadata": {
        "tags": [],
        "id": "5384f1af-70b1-4774-86bf-e7d79086f372"
      },
      "outputs": [],
      "source": [
        "nombre= \"\""
      ]
    },
    {
      "cell_type": "markdown",
      "id": "ade358ae-e3cb-4ad2-9dce-5f1d4800d889",
      "metadata": {
        "id": "ade358ae-e3cb-4ad2-9dce-5f1d4800d889"
      },
      "source": [
        "Usar print y la variable \"nombre\" para mostrar \"Hola Dan\""
      ]
    },
    {
      "cell_type": "code",
      "execution_count": 140,
      "id": "49e3ee32-2dd7-4956-86aa-c0fea805e494",
      "metadata": {
        "tags": [],
        "colab": {
          "base_uri": "https://localhost:8080/"
        },
        "id": "49e3ee32-2dd7-4956-86aa-c0fea805e494",
        "outputId": "483e8566-fae5-415d-b1de-b161beb58f44"
      },
      "outputs": [
        {
          "output_type": "stream",
          "name": "stdout",
          "text": [
            "Hola Dan\n"
          ]
        }
      ],
      "source": [
        "nombre= \"Dan\"\n",
        "print(\"Hola\", nombre)"
      ]
    },
    {
      "cell_type": "markdown",
      "id": "fbecf8f8-b7c6-4d9d-be48-5a868f583bd6",
      "metadata": {
        "id": "fbecf8f8-b7c6-4d9d-be48-5a868f583bd6"
      },
      "source": [
        "Volver a mostrar el texto anterior, usando formatted string literals"
      ]
    },
    {
      "cell_type": "code",
      "execution_count": 141,
      "id": "2b1bb6d0-7ac4-4f9c-95df-429201c4cb5a",
      "metadata": {
        "tags": [],
        "colab": {
          "base_uri": "https://localhost:8080/"
        },
        "id": "2b1bb6d0-7ac4-4f9c-95df-429201c4cb5a",
        "outputId": "151c39a8-7434-4bbf-8902-b19df9bf7b4c"
      },
      "outputs": [
        {
          "output_type": "stream",
          "name": "stdout",
          "text": [
            "Hola Dan\n"
          ]
        }
      ],
      "source": [
        "print(f\"Hola\", nombre)"
      ]
    },
    {
      "cell_type": "markdown",
      "id": "3035e7b1-fb42-41a5-af22-f1df07f0cbee",
      "metadata": {
        "id": "3035e7b1-fb42-41a5-af22-f1df07f0cbee"
      },
      "source": [
        "Repetir la cadena \"nombre\" 4 veces"
      ]
    },
    {
      "cell_type": "code",
      "execution_count": 142,
      "id": "a28cba42-dc08-4803-85cf-186d861d18e7",
      "metadata": {
        "tags": [],
        "colab": {
          "base_uri": "https://localhost:8080/"
        },
        "id": "a28cba42-dc08-4803-85cf-186d861d18e7",
        "outputId": "8c95da21-02c7-4e69-8efb-716a395ec568"
      },
      "outputs": [
        {
          "output_type": "stream",
          "name": "stdout",
          "text": [
            "Dan\n",
            "Dan\n",
            "Dan\n",
            "Dan\n"
          ]
        }
      ],
      "source": [
        "for i in range(0,4):\n",
        "  print(nombre)"
      ]
    },
    {
      "cell_type": "markdown",
      "id": "e6d83210-9770-4f9d-a375-4c48545d46f0",
      "metadata": {
        "tags": [],
        "id": "e6d83210-9770-4f9d-a375-4c48545d46f0"
      },
      "source": [
        "Convertir la variable \"nombre\" a mayúsculas"
      ]
    },
    {
      "cell_type": "code",
      "execution_count": 143,
      "id": "facc64d0-f7da-47c4-857c-1a1d185c5e06",
      "metadata": {
        "tags": [],
        "colab": {
          "base_uri": "https://localhost:8080/",
          "height": 36
        },
        "id": "facc64d0-f7da-47c4-857c-1a1d185c5e06",
        "outputId": "65fd7ed4-be5f-4e6f-dac3-53079642c44e"
      },
      "outputs": [
        {
          "output_type": "execute_result",
          "data": {
            "text/plain": [
              "'DAN'"
            ],
            "application/vnd.google.colaboratory.intrinsic+json": {
              "type": "string"
            }
          },
          "metadata": {},
          "execution_count": 143
        }
      ],
      "source": [
        "nombre.upper()"
      ]
    },
    {
      "cell_type": "markdown",
      "id": "9bcc87a4-da94-4deb-81d5-b454711ced6e",
      "metadata": {
        "tags": [],
        "id": "9bcc87a4-da94-4deb-81d5-b454711ced6e"
      },
      "source": [
        "Calcular la cantidad de letras en la variable \"nombre\""
      ]
    },
    {
      "cell_type": "code",
      "execution_count": 144,
      "id": "26eedcd5-98ce-4a1a-933f-8c18602ea180",
      "metadata": {
        "tags": [],
        "colab": {
          "base_uri": "https://localhost:8080/"
        },
        "id": "26eedcd5-98ce-4a1a-933f-8c18602ea180",
        "outputId": "3cfa29a0-131f-4127-f628-648aff4524bd"
      },
      "outputs": [
        {
          "output_type": "stream",
          "name": "stdout",
          "text": [
            "3\n"
          ]
        }
      ],
      "source": [
        "print(len(nombre))"
      ]
    },
    {
      "cell_type": "markdown",
      "id": "0b712be8-15fd-4331-8202-7b325473f010",
      "metadata": {
        "tags": [],
        "id": "0b712be8-15fd-4331-8202-7b325473f010"
      },
      "source": [
        "Usar \"input\" y \"len\" para calcular el tamaño de la cadena dada por el usuario"
      ]
    },
    {
      "cell_type": "code",
      "execution_count": 145,
      "id": "061acc45-3beb-49cd-a397-64275303d7fe",
      "metadata": {
        "tags": [],
        "colab": {
          "base_uri": "https://localhost:8080/"
        },
        "id": "061acc45-3beb-49cd-a397-64275303d7fe",
        "outputId": "ffb71dc8-d9fb-49f4-9a71-3dc5c2edf5d9"
      },
      "outputs": [
        {
          "output_type": "stream",
          "name": "stdout",
          "text": [
            "Digita el nombre: vic\n",
            "Tu nombre tiene 3 caracteres\n"
          ]
        }
      ],
      "source": [
        "nom=(input(\"Digita el nombre: \"))\n",
        "print(\"Tu nombre tiene\", len(nom),\"caracteres\")"
      ]
    },
    {
      "cell_type": "markdown",
      "id": "393f596f-2634-4e07-bc27-ba4d9fe29fba",
      "metadata": {
        "id": "393f596f-2634-4e07-bc27-ba4d9fe29fba"
      },
      "source": [
        "## 3. Listas"
      ]
    },
    {
      "cell_type": "markdown",
      "id": "a8d998ee-98e9-4439-8ebd-cf43f0f343d2",
      "metadata": {
        "id": "a8d998ee-98e9-4439-8ebd-cf43f0f343d2"
      },
      "source": [
        "Crear una lista con nombres"
      ]
    },
    {
      "cell_type": "code",
      "execution_count": 146,
      "id": "91adfe60-59f3-4f7c-b26c-47626e5aa55f",
      "metadata": {
        "tags": [],
        "id": "91adfe60-59f3-4f7c-b26c-47626e5aa55f"
      },
      "outputs": [],
      "source": [
        "nombre=[\"Sara\", \"Victor\", \"Valentina\", \"Andres\"]"
      ]
    },
    {
      "cell_type": "markdown",
      "id": "aa72da71-1fe4-4995-a5f4-11798daf32c7",
      "metadata": {
        "id": "aa72da71-1fe4-4995-a5f4-11798daf32c7"
      },
      "source": [
        "Mostrar el segundo nombre:"
      ]
    },
    {
      "cell_type": "code",
      "execution_count": 147,
      "id": "fe29a762-3069-4590-88fe-10a42cd768a6",
      "metadata": {
        "tags": [],
        "colab": {
          "base_uri": "https://localhost:8080/"
        },
        "id": "fe29a762-3069-4590-88fe-10a42cd768a6",
        "outputId": "66a6bb4d-1916-4970-efd5-f1da232a3266"
      },
      "outputs": [
        {
          "output_type": "stream",
          "name": "stdout",
          "text": [
            "Victor\n"
          ]
        }
      ],
      "source": [
        "print(nombre[1])"
      ]
    },
    {
      "cell_type": "markdown",
      "id": "ffd24bbc-5e7c-4a0c-8490-2ad0a6079c91",
      "metadata": {
        "id": "ffd24bbc-5e7c-4a0c-8490-2ad0a6079c91"
      },
      "source": [
        "Mostrar todos los nombres a partir del segundo"
      ]
    },
    {
      "cell_type": "code",
      "execution_count": 148,
      "id": "afcbabd2-02ca-4e48-b99b-e316088e3f2d",
      "metadata": {
        "tags": [],
        "colab": {
          "base_uri": "https://localhost:8080/"
        },
        "id": "afcbabd2-02ca-4e48-b99b-e316088e3f2d",
        "outputId": "00bd9f8b-dbb1-4c33-ca69-c7b695e994b6"
      },
      "outputs": [
        {
          "output_type": "execute_result",
          "data": {
            "text/plain": [
              "['Valentina', 'Andres']"
            ]
          },
          "metadata": {},
          "execution_count": 148
        }
      ],
      "source": [
        "nombre[2:]"
      ]
    },
    {
      "cell_type": "markdown",
      "id": "252b6647-6f17-489f-862d-7f13029709f2",
      "metadata": {
        "id": "252b6647-6f17-489f-862d-7f13029709f2"
      },
      "source": [
        "Mostrar los primeros 3 nombres"
      ]
    },
    {
      "cell_type": "code",
      "execution_count": 149,
      "id": "91466a55-74d4-4fab-8b98-c70b7e1c249d",
      "metadata": {
        "tags": [],
        "colab": {
          "base_uri": "https://localhost:8080/"
        },
        "id": "91466a55-74d4-4fab-8b98-c70b7e1c249d",
        "outputId": "1d919637-ad7f-4444-e663-4bfe16ecf2fd"
      },
      "outputs": [
        {
          "output_type": "execute_result",
          "data": {
            "text/plain": [
              "['Sara', 'Victor', 'Valentina']"
            ]
          },
          "metadata": {},
          "execution_count": 149
        }
      ],
      "source": [
        "nombre[:3]"
      ]
    },
    {
      "cell_type": "markdown",
      "id": "3dd4f997-1b7d-4e84-a643-6d2ec1cbc714",
      "metadata": {
        "tags": [],
        "id": "3dd4f997-1b7d-4e84-a643-6d2ec1cbc714"
      },
      "source": [
        "Buscar el indice de \"Maria\""
      ]
    },
    {
      "cell_type": "code",
      "execution_count": 150,
      "id": "25d0a349-0176-4b0a-9621-d0c3c2c46eb9",
      "metadata": {
        "tags": [],
        "colab": {
          "base_uri": "https://localhost:8080/"
        },
        "id": "25d0a349-0176-4b0a-9621-d0c3c2c46eb9",
        "outputId": "89c915bc-93af-4343-f555-bef55927336d"
      },
      "outputs": [
        {
          "output_type": "stream",
          "name": "stdout",
          "text": [
            "El nombre no se encuentra en la lista\n"
          ]
        }
      ],
      "source": [
        "indice=\"Maria\"\n",
        "\n",
        "if indice in nombre:\n",
        "  print(\"El nombre se encuentra en la lista\")\n",
        "else:\n",
        "  print(\"El nombre no se encuentra en la lista\")"
      ]
    },
    {
      "cell_type": "markdown",
      "id": "c30b478c-21b8-4608-bebb-021534b74810",
      "metadata": {
        "id": "c30b478c-21b8-4608-bebb-021534b74810"
      },
      "source": [
        "Agregar un nombre a la lista"
      ]
    },
    {
      "cell_type": "code",
      "execution_count": 151,
      "id": "2ee3bddf-33f6-499c-bf53-ef9df02c0307",
      "metadata": {
        "tags": [],
        "colab": {
          "base_uri": "https://localhost:8080/"
        },
        "id": "2ee3bddf-33f6-499c-bf53-ef9df02c0307",
        "outputId": "9174565f-835a-4465-dd5b-50b038740cbb"
      },
      "outputs": [
        {
          "output_type": "stream",
          "name": "stdout",
          "text": [
            "Agregar nombre: pepe\n",
            "['Sara', 'Victor', 'Valentina', 'Andres', 'pepe']\n"
          ]
        }
      ],
      "source": [
        "agregar=(input(\"Agregar nombre: \"))\n",
        "nombre.append(agregar)\n",
        "print(nombre)"
      ]
    },
    {
      "cell_type": "markdown",
      "id": "6a42c9b8-1563-4c2e-b219-90f8fd4cff53",
      "metadata": {
        "id": "6a42c9b8-1563-4c2e-b219-90f8fd4cff53"
      },
      "source": [
        "Eliminar el cuarto nombre de la lista"
      ]
    },
    {
      "cell_type": "code",
      "execution_count": 152,
      "id": "bd1797f4-8319-4aa1-a5d2-34e05ca7fb1b",
      "metadata": {
        "tags": [],
        "colab": {
          "base_uri": "https://localhost:8080/"
        },
        "id": "bd1797f4-8319-4aa1-a5d2-34e05ca7fb1b",
        "outputId": "39666e43-0a18-4234-e1ec-6d7e54ecb2d1"
      },
      "outputs": [
        {
          "output_type": "stream",
          "name": "stdout",
          "text": [
            "['Sara', 'Victor', 'Valentina', 'pepe']\n"
          ]
        }
      ],
      "source": [
        "nombre.pop(3)\n",
        "print(nombre)"
      ]
    },
    {
      "cell_type": "markdown",
      "id": "aa0e0247-d4ed-464c-b4d3-6395bec14e7a",
      "metadata": {
        "id": "aa0e0247-d4ed-464c-b4d3-6395bec14e7a"
      },
      "source": [
        "Crea una lista de listas en Python, donde cada sublista contenga tres elementos: el nombre del estudiante, la edad y el promedio."
      ]
    },
    {
      "cell_type": "code",
      "execution_count": 153,
      "id": "a1b904b1-ea82-43c9-98c0-74b218d3290f",
      "metadata": {
        "tags": [],
        "id": "a1b904b1-ea82-43c9-98c0-74b218d3290f"
      },
      "outputs": [],
      "source": [
        "lista= [\n",
        "    [\"Juan\", 20, 4.5],\n",
        "    [\"Sara\", 22, 3.0],\n",
        "    [\"Victor\", 18, 5.0],\n",
        "    [\"Ana\", 21, 4.2]\n",
        "]"
      ]
    },
    {
      "cell_type": "markdown",
      "id": "6cd5501e-020c-45b8-b7cc-70e78e98d193",
      "metadata": {
        "id": "6cd5501e-020c-45b8-b7cc-70e78e98d193"
      },
      "source": [
        "Mostrar el nombre y promedio del segundo estudiante en una cadena de texto, ej. \"El alumno [Nombre] tiene un promedio de [Promedio]\""
      ]
    },
    {
      "cell_type": "code",
      "source": [
        "print(f\"El alumno {lista[1][0]} tiene un promedio de {lista[1][2]}\")"
      ],
      "metadata": {
        "id": "YbjJUSXQXKQ3",
        "outputId": "e0ee2a63-9eb5-41a0-9b17-3def229af995",
        "colab": {
          "base_uri": "https://localhost:8080/"
        }
      },
      "id": "YbjJUSXQXKQ3",
      "execution_count": 154,
      "outputs": [
        {
          "output_type": "stream",
          "name": "stdout",
          "text": [
            "El alumno Sara tiene un promedio de 3.0\n"
          ]
        }
      ]
    },
    {
      "cell_type": "markdown",
      "id": "13722cfe-ac79-442a-80dd-5d5f3d8794b0",
      "metadata": {
        "id": "13722cfe-ac79-442a-80dd-5d5f3d8794b0"
      },
      "source": [
        "## Diccionarios"
      ]
    },
    {
      "cell_type": "markdown",
      "id": "d560eec7-fa50-4ebb-b4a2-f94c8632f909",
      "metadata": {
        "tags": [],
        "id": "d560eec7-fa50-4ebb-b4a2-f94c8632f909"
      },
      "source": [
        "Crear un diccionario con la siguiente información sobre un libro: \"Autor\", \"Año de lanzamiento\", \"Páginas\", \"Costo\", \"EdiciónLim\", \"E-libro\""
      ]
    },
    {
      "cell_type": "code",
      "execution_count": 155,
      "id": "c45842eb-0300-4e77-b8d0-2b9b5f103240",
      "metadata": {
        "tags": [],
        "id": "c45842eb-0300-4e77-b8d0-2b9b5f103240"
      },
      "outputs": [],
      "source": [
        "libro={\n",
        "    \"Autor\":\"Victor Cordoba\",\n",
        "    \"Año de lanzamiento\": 2025,\n",
        "    \"Paginas\": 35,\n",
        "    \"Costo\":38000,\n",
        "    \"Edicion Limitada\":False,\n",
        "    \"E-libro\":True\n",
        "}"
      ]
    },
    {
      "cell_type": "markdown",
      "id": "09d4a579-9497-4775-a250-6c20c95fdf2b",
      "metadata": {
        "id": "09d4a579-9497-4775-a250-6c20c95fdf2b"
      },
      "source": [
        "Acceder al autor del libro anterior"
      ]
    },
    {
      "cell_type": "code",
      "execution_count": 156,
      "id": "02982814-e223-466f-a75e-aaf85eed44a2",
      "metadata": {
        "tags": [],
        "id": "02982814-e223-466f-a75e-aaf85eed44a2",
        "colab": {
          "base_uri": "https://localhost:8080/"
        },
        "outputId": "251ad292-5553-4f36-ebe2-296b97f3042e"
      },
      "outputs": [
        {
          "output_type": "stream",
          "name": "stdout",
          "text": [
            "Victor Cordoba\n"
          ]
        }
      ],
      "source": [
        "print(libro[\"Autor\"])"
      ]
    },
    {
      "cell_type": "markdown",
      "id": "80db6644-3e60-48a4-8373-1b49c8dd5b4d",
      "metadata": {
        "id": "80db6644-3e60-48a4-8373-1b49c8dd5b4d"
      },
      "source": [
        "Agregar el campo \"Género\", debe ser igual a \"Novela\""
      ]
    },
    {
      "cell_type": "code",
      "execution_count": 157,
      "id": "4a5e4646-5ae8-41c7-b810-50b280d01d0c",
      "metadata": {
        "tags": [],
        "id": "4a5e4646-5ae8-41c7-b810-50b280d01d0c",
        "colab": {
          "base_uri": "https://localhost:8080/"
        },
        "outputId": "9424fbe1-98d0-4e24-c748-eb821f86b177"
      },
      "outputs": [
        {
          "output_type": "execute_result",
          "data": {
            "text/plain": [
              "{'Autor': 'Victor Cordoba',\n",
              " 'Año de lanzamiento': 2025,\n",
              " 'Paginas': 35,\n",
              " 'Costo': 38000,\n",
              " 'Edicion Limitada': False,\n",
              " 'E-libro': True,\n",
              " 'Genero': 'Novela'}"
            ]
          },
          "metadata": {},
          "execution_count": 157
        }
      ],
      "source": [
        "libro[\"Genero\"] = \"Novela\"\n",
        "libro"
      ]
    },
    {
      "cell_type": "markdown",
      "id": "2a1e8e23-9d12-4480-8e21-c004c68235bb",
      "metadata": {
        "id": "2a1e8e23-9d12-4480-8e21-c004c68235bb"
      },
      "source": [
        "Eliminar la clave-valor \"Páginas\""
      ]
    },
    {
      "cell_type": "code",
      "execution_count": 158,
      "id": "4be828c0-82f4-4f39-b7a2-e4ca63e511ac",
      "metadata": {
        "tags": [],
        "id": "4be828c0-82f4-4f39-b7a2-e4ca63e511ac",
        "colab": {
          "base_uri": "https://localhost:8080/"
        },
        "outputId": "396b1c95-d232-4ce2-fca3-db9b5160a6dc"
      },
      "outputs": [
        {
          "output_type": "execute_result",
          "data": {
            "text/plain": [
              "{'Autor': 'Victor Cordoba',\n",
              " 'Año de lanzamiento': 2025,\n",
              " 'Costo': 38000,\n",
              " 'Edicion Limitada': False,\n",
              " 'E-libro': True,\n",
              " 'Genero': 'Novela'}"
            ]
          },
          "metadata": {},
          "execution_count": 158
        }
      ],
      "source": [
        "libro.pop('Paginas')\n",
        "libro"
      ]
    },
    {
      "cell_type": "markdown",
      "id": "9ea27f17-e347-4308-bc57-5756ba65b4bb",
      "metadata": {
        "id": "9ea27f17-e347-4308-bc57-5756ba65b4bb"
      },
      "source": [
        "Comprobar si existe la clave-valor \"Autor\""
      ]
    },
    {
      "cell_type": "code",
      "execution_count": 159,
      "id": "a18afc98-5ea4-4561-9c47-be12df4dd39a",
      "metadata": {
        "tags": [],
        "id": "a18afc98-5ea4-4561-9c47-be12df4dd39a",
        "colab": {
          "base_uri": "https://localhost:8080/"
        },
        "outputId": "512a9778-2765-4b44-86af-becebb4bdbcf"
      },
      "outputs": [
        {
          "output_type": "stream",
          "name": "stdout",
          "text": [
            "La clave 'Autor' existe en el diccionario\n",
            "El autor es: Victor Cordoba\n"
          ]
        }
      ],
      "source": [
        "if \"Autor\" in libro:\n",
        "    print(\"La clave 'Autor' existe en el diccionario\")\n",
        "    print(\"El autor es:\", libro[\"Autor\"])\n",
        "else:\n",
        "    print(\"La clave 'Autor' NO existe en el diccionario\")"
      ]
    },
    {
      "cell_type": "markdown",
      "id": "fe087fb0-a3d9-430b-bd97-6c1ef395f0f2",
      "metadata": {
        "id": "fe087fb0-a3d9-430b-bd97-6c1ef395f0f2"
      },
      "source": [
        "Obtener el nombre de todas las llaves en el diccionario \"libro\""
      ]
    },
    {
      "cell_type": "code",
      "execution_count": 160,
      "id": "0cabf4fa-d2cf-4495-9798-3af7a3d49e71",
      "metadata": {
        "tags": [],
        "id": "0cabf4fa-d2cf-4495-9798-3af7a3d49e71",
        "colab": {
          "base_uri": "https://localhost:8080/"
        },
        "outputId": "c70ec910-d2bc-48d3-d9ab-311c897568c2"
      },
      "outputs": [
        {
          "output_type": "stream",
          "name": "stdout",
          "text": [
            "dict_keys(['Autor', 'Año de lanzamiento', 'Costo', 'Edicion Limitada', 'E-libro', 'Genero'])\n"
          ]
        }
      ],
      "source": [
        "print(libro.keys())"
      ]
    },
    {
      "cell_type": "markdown",
      "id": "e2d97f53-0724-4cad-a907-b568241e41bf",
      "metadata": {
        "id": "e2d97f53-0724-4cad-a907-b568241e41bf"
      },
      "source": [
        "Obtener todos los valores en el diccionario \"libro\""
      ]
    },
    {
      "cell_type": "code",
      "execution_count": 161,
      "id": "d44c0720-5f9b-4dcc-97cd-c81495003e4d",
      "metadata": {
        "tags": [],
        "id": "d44c0720-5f9b-4dcc-97cd-c81495003e4d",
        "colab": {
          "base_uri": "https://localhost:8080/"
        },
        "outputId": "f9824405-0c7f-4057-ac37-7ac0fcf1f027"
      },
      "outputs": [
        {
          "output_type": "stream",
          "name": "stdout",
          "text": [
            "dict_values(['Victor Cordoba', 2025, 38000, False, True, 'Novela'])\n"
          ]
        }
      ],
      "source": [
        "print(libro.values())"
      ]
    },
    {
      "cell_type": "markdown",
      "id": "f87e798e-1d7e-4bba-a8aa-8036bf773929",
      "metadata": {
        "id": "f87e798e-1d7e-4bba-a8aa-8036bf773929"
      },
      "source": [
        "## Bucle For"
      ]
    },
    {
      "cell_type": "markdown",
      "id": "ebea20a0-3d83-4d95-92df-79f5fc0ead5b",
      "metadata": {
        "id": "ebea20a0-3d83-4d95-92df-79f5fc0ead5b"
      },
      "source": [
        "Imprimir los primeros 5 numeros pares:"
      ]
    },
    {
      "cell_type": "code",
      "execution_count": 162,
      "id": "1ccbd18c-c908-41dd-83dc-07099668270f",
      "metadata": {
        "tags": [],
        "id": "1ccbd18c-c908-41dd-83dc-07099668270f",
        "colab": {
          "base_uri": "https://localhost:8080/"
        },
        "outputId": "591a6eea-13d7-438e-b1f3-fa3d74cdc420"
      },
      "outputs": [
        {
          "output_type": "stream",
          "name": "stdout",
          "text": [
            "2\n",
            "4\n",
            "6\n",
            "8\n",
            "10\n"
          ]
        }
      ],
      "source": [
        "for i in range(2,12,2): #(inicio,final,avance)\n",
        "  print(i)\n"
      ]
    },
    {
      "cell_type": "markdown",
      "id": "aacc2185-ec5a-4705-8623-41367e20360f",
      "metadata": {
        "id": "aacc2185-ec5a-4705-8623-41367e20360f"
      },
      "source": [
        "Imprimir los siguientes nombres"
      ]
    },
    {
      "cell_type": "code",
      "execution_count": 163,
      "id": "4e06fdf0-cc28-497a-8519-f37265642e8e",
      "metadata": {
        "tags": [],
        "id": "4e06fdf0-cc28-497a-8519-f37265642e8e"
      },
      "outputs": [],
      "source": [
        "nombres = [\"Pedro\", \"Ana\", \"Luis\", \"Valentina\"]"
      ]
    },
    {
      "cell_type": "code",
      "source": [
        "for nombre in nombres:\n",
        "    print(nombre)"
      ],
      "metadata": {
        "colab": {
          "base_uri": "https://localhost:8080/"
        },
        "id": "vVrP0HvSf4O6",
        "outputId": "05a2b22c-5e39-4430-819f-cc5409e0bc5d"
      },
      "id": "vVrP0HvSf4O6",
      "execution_count": 164,
      "outputs": [
        {
          "output_type": "stream",
          "name": "stdout",
          "text": [
            "Pedro\n",
            "Ana\n",
            "Luis\n",
            "Valentina\n"
          ]
        }
      ]
    },
    {
      "cell_type": "markdown",
      "id": "30c82ea2-5e78-4074-b787-773ad274929f",
      "metadata": {
        "id": "30c82ea2-5e78-4074-b787-773ad274929f"
      },
      "source": [
        "Mostrar el nombre y el indice de cada valor en una sola cadena de texto (Ej. \"El nombre Pedro tiene el índice 0\")"
      ]
    },
    {
      "cell_type": "code",
      "execution_count": 165,
      "id": "41a623fa-1c96-44be-9170-2f25eff3cff5",
      "metadata": {
        "tags": [],
        "id": "41a623fa-1c96-44be-9170-2f25eff3cff5",
        "colab": {
          "base_uri": "https://localhost:8080/"
        },
        "outputId": "9e5441fd-4593-4708-c8c8-23891864fc77"
      },
      "outputs": [
        {
          "output_type": "stream",
          "name": "stdout",
          "text": [
            "El nombre Pedro tiene el indice 0\n",
            "\n",
            "El nombre Ana tiene el indice 1\n",
            "\n",
            "El nombre Luis tiene el indice 2\n",
            "\n",
            "El nombre Valentina tiene el indice 3\n",
            "\n"
          ]
        }
      ],
      "source": [
        "for nombre in nombres:\n",
        "    print(f\"El nombre {nombre} tiene el indice {nombres.index(nombre)}\\n\")"
      ]
    },
    {
      "cell_type": "markdown",
      "id": "814725bc-059e-418c-b7c0-ef14f39801fe",
      "metadata": {
        "id": "814725bc-059e-418c-b7c0-ef14f39801fe"
      },
      "source": [
        "Utiliza una lista de comprensión para crear una nueva lista que contenga cadenas de texto con el formato \"La persona [índice] se llama [nombre]\""
      ]
    },
    {
      "cell_type": "code",
      "execution_count": 166,
      "id": "e515484c-cca6-4a19-9193-1eb0c78697c2",
      "metadata": {
        "tags": [],
        "id": "e515484c-cca6-4a19-9193-1eb0c78697c2",
        "colab": {
          "base_uri": "https://localhost:8080/"
        },
        "outputId": "abe99b30-3a05-4fe0-eeda-6ef173e9025c"
      },
      "outputs": [
        {
          "output_type": "stream",
          "name": "stdout",
          "text": [
            "['La persona 0 se llama Pedro', 'La persona 1 se llama Ana', 'La persona 2 se llama Luis', 'La persona 3 se llama Valentina']\n"
          ]
        }
      ],
      "source": [
        "listanom = [f\"La persona {i} se llama {nombre}\" for i, nombre in enumerate(nombres)]\n",
        "print(listanom)"
      ]
    },
    {
      "cell_type": "markdown",
      "id": "460035cf-7812-4616-a7e4-58d921d9c503",
      "metadata": {
        "id": "460035cf-7812-4616-a7e4-58d921d9c503"
      },
      "source": [
        "Usar la siguiente lista de diccionarios para imprimir los datos de cada médico"
      ]
    },
    {
      "cell_type": "code",
      "execution_count": 167,
      "id": "d3f48197-c88d-432f-a6c4-9f693669ad20",
      "metadata": {
        "tags": [],
        "id": "d3f48197-c88d-432f-a6c4-9f693669ad20"
      },
      "outputs": [],
      "source": [
        "doctores = [\n",
        "    {\n",
        "        \"nombre\": \"Dr. Juan Pérez\",\n",
        "        \"especialidad\": \"Cardiología\",\n",
        "        \"antiguedad\": 15\n",
        "    },\n",
        "    {\n",
        "        \"nombre\": \"Dr. Pedro López\",\n",
        "        \"especialidad\": \"Dermatología\",\n",
        "        \"antiguedad\": 10\n",
        "    },\n",
        "    {\n",
        "        \"nombre\": \"Dr. Carlos Ramírez\",\n",
        "        \"especialidad\": \"Neurología\",\n",
        "        \"antiguedad\": 20\n",
        "    }\n",
        "]"
      ]
    },
    {
      "cell_type": "code",
      "execution_count": 168,
      "id": "2b159563-9b1b-4b94-a2af-dec5792ea1f5",
      "metadata": {
        "tags": [],
        "id": "2b159563-9b1b-4b94-a2af-dec5792ea1f5",
        "colab": {
          "base_uri": "https://localhost:8080/"
        },
        "outputId": "dcf7c2c1-638d-48ac-dfae-2e94534fc09e"
      },
      "outputs": [
        {
          "output_type": "stream",
          "name": "stdout",
          "text": [
            "Nombre: Dr. Juan Pérez\n",
            "Especialidad: Cardiología\n",
            "Antigüedad: 15 años\n",
            "------------\n",
            "Nombre: Dr. Pedro López\n",
            "Especialidad: Dermatología\n",
            "Antigüedad: 10 años\n",
            "------------\n",
            "Nombre: Dr. Carlos Ramírez\n",
            "Especialidad: Neurología\n",
            "Antigüedad: 20 años\n",
            "------------\n"
          ]
        }
      ],
      "source": [
        "for doctor in doctores:\n",
        "    print(f\"Nombre: {doctor['nombre']}\")\n",
        "    print(f\"Especialidad: {doctor['especialidad']}\")\n",
        "    print(f\"Antigüedad: {doctor['antiguedad']} años\")\n",
        "    print(\"------------\")"
      ]
    },
    {
      "cell_type": "markdown",
      "id": "3b5dc406-e6f4-49aa-822d-57c4ff8ad446",
      "metadata": {
        "tags": [],
        "id": "3b5dc406-e6f4-49aa-822d-57c4ff8ad446"
      },
      "source": [
        "## Condicionales"
      ]
    },
    {
      "cell_type": "markdown",
      "id": "7106fd95-2ca2-4f2d-90b6-5a458a213d17",
      "metadata": {
        "tags": [],
        "id": "7106fd95-2ca2-4f2d-90b6-5a458a213d17"
      },
      "source": [
        "Usar \"if\" para verificar si la edad dada es mayor o igual a 18, en caso de ser cierto, mostrar \"Es mayor de edad\""
      ]
    },
    {
      "cell_type": "code",
      "execution_count": 169,
      "id": "0e564a5a-5201-4c7b-b707-93f6e32c2574",
      "metadata": {
        "tags": [],
        "id": "0e564a5a-5201-4c7b-b707-93f6e32c2574",
        "colab": {
          "base_uri": "https://localhost:8080/"
        },
        "outputId": "70736d3e-3466-4339-a780-c8de4f08df61"
      },
      "outputs": [
        {
          "output_type": "stream",
          "name": "stdout",
          "text": [
            "Digite su edad: 24\n",
            "Es mayor de edad\n"
          ]
        }
      ],
      "source": [
        "edad=int(input(\"Digite su edad: \"))\n",
        "if edad>= 18:\n",
        "  print(\"Es mayor de edad\")"
      ]
    },
    {
      "cell_type": "markdown",
      "id": "0a0f04b1-5a5e-4ae6-bf3c-ecf0d7785bd1",
      "metadata": {
        "id": "0a0f04b1-5a5e-4ae6-bf3c-ecf0d7785bd1"
      },
      "source": [
        "Usar \"if\" para verificar si la edad dada es mayor o igual a 18:\n",
        "- En caso de ser cierto, mostrar \"Es mayor de edad\"\n",
        "- En caso de ser falso, mostrar \"Es menor de edad\""
      ]
    },
    {
      "cell_type": "code",
      "execution_count": 170,
      "id": "fbb07413-3789-47f4-9655-50569617c3ae",
      "metadata": {
        "tags": [],
        "id": "fbb07413-3789-47f4-9655-50569617c3ae",
        "colab": {
          "base_uri": "https://localhost:8080/"
        },
        "outputId": "9f2d2ab8-7116-4da9-8365-6e33663aacc1"
      },
      "outputs": [
        {
          "output_type": "stream",
          "name": "stdout",
          "text": [
            "Digite su edad: 5\n",
            "Es menor de edad\n"
          ]
        }
      ],
      "source": [
        "edad=int(input(\"Digite su edad: \"))\n",
        "if edad>= 18:\n",
        "  print(\"Es mayor de edad\")\n",
        "else:\n",
        "  print(\"Es menor de edad\")"
      ]
    },
    {
      "cell_type": "markdown",
      "id": "ad092c88-af83-46b2-8735-6b324dfc3779",
      "metadata": {
        "tags": [],
        "id": "ad092c88-af83-46b2-8735-6b324dfc3779"
      },
      "source": [
        "Usar \"input\" para pedir una contraseña al usuario, posteriormente, aceptarla si tiene un tamaño mayor a 8 y menor a 20 caracteres"
      ]
    },
    {
      "cell_type": "code",
      "execution_count": 171,
      "id": "01f5af33-a697-4430-ae84-817198913257",
      "metadata": {
        "tags": [],
        "id": "01f5af33-a697-4430-ae84-817198913257",
        "colab": {
          "base_uri": "https://localhost:8080/"
        },
        "outputId": "b02c8420-4d37-40f5-da28-6ece60600ba8"
      },
      "outputs": [
        {
          "output_type": "stream",
          "name": "stdout",
          "text": [
            "Digite su contraseña: victor123\n",
            "Tu contraseña es valida\n"
          ]
        }
      ],
      "source": [
        "contraseña=input(\"Digite su contraseña: \")\n",
        "if len(contraseña)< 20 and len(contraseña) > 8:\n",
        "  print(\"Tu contraseña es valida\")\n",
        "else:\n",
        "  print(\"Tu contraseña no es valida\")"
      ]
    },
    {
      "cell_type": "markdown",
      "id": "32000c05-6c3d-4302-af27-29ad4879ec90",
      "metadata": {
        "tags": [],
        "id": "32000c05-6c3d-4302-af27-29ad4879ec90"
      },
      "source": [
        "Encontrar el numero mayor en la siguiente lista:"
      ]
    },
    {
      "cell_type": "code",
      "execution_count": 172,
      "id": "5659d292-4c50-415e-88c4-c641e7fa57c3",
      "metadata": {
        "tags": [],
        "id": "5659d292-4c50-415e-88c4-c641e7fa57c3"
      },
      "outputs": [],
      "source": [
        "numeros = [18, 23, 5, 2007]"
      ]
    },
    {
      "cell_type": "code",
      "execution_count": 173,
      "id": "5f1f0c23-7dd8-459d-918d-bacc291e99db",
      "metadata": {
        "tags": [],
        "id": "5f1f0c23-7dd8-459d-918d-bacc291e99db",
        "colab": {
          "base_uri": "https://localhost:8080/"
        },
        "outputId": "84609892-7ba1-4a16-fc85-567a8f31247d"
      },
      "outputs": [
        {
          "output_type": "stream",
          "name": "stdout",
          "text": [
            "El mayor número es: 2007\n"
          ]
        }
      ],
      "source": [
        "print(\"El mayor número es:\", max(numeros))"
      ]
    },
    {
      "cell_type": "markdown",
      "id": "75277cf4-5156-4b03-834c-ca05cda57420",
      "metadata": {
        "tags": [],
        "id": "75277cf4-5156-4b03-834c-ca05cda57420"
      },
      "source": [
        "Validar que el correo empiece con dr_ y termine con @medical.com"
      ]
    },
    {
      "cell_type": "code",
      "execution_count": 174,
      "id": "65d4ac51-8a2e-420a-890d-825ac67c49eb",
      "metadata": {
        "tags": [],
        "id": "65d4ac51-8a2e-420a-890d-825ac67c49eb",
        "colab": {
          "base_uri": "https://localhost:8080/"
        },
        "outputId": "851d0b84-b2ab-4d1c-b1ae-1da1c09d978d"
      },
      "outputs": [
        {
          "output_type": "stream",
          "name": "stdout",
          "text": [
            "Digite su correo: cordobavictorml@gmail.com\n",
            "El correo no es válido\n"
          ]
        }
      ],
      "source": [
        "correo = input(\"Digite su correo: \")\n",
        "\n",
        "if correo.startswith(\"dr_\") and correo.endswith(\"@medical.com\"):\n",
        "    print(\"El correo es válido\")\n",
        "else:\n",
        "    print(\"El correo no es válido\")\n"
      ]
    },
    {
      "cell_type": "markdown",
      "id": "43c90449-3f0d-4ae6-8bd9-6564e681e1ae",
      "metadata": {
        "id": "43c90449-3f0d-4ae6-8bd9-6564e681e1ae"
      },
      "source": [
        "Validar que el correo termine con \"@medical.com\" o \"@hospital.com\""
      ]
    },
    {
      "cell_type": "code",
      "execution_count": 175,
      "id": "442624f3-55f2-4125-b211-7debc4ee4c41",
      "metadata": {
        "tags": [],
        "id": "442624f3-55f2-4125-b211-7debc4ee4c41",
        "colab": {
          "base_uri": "https://localhost:8080/"
        },
        "outputId": "61f34a14-778f-41d4-d164-8a28c62478fb"
      },
      "outputs": [
        {
          "output_type": "stream",
          "name": "stdout",
          "text": [
            "Digite su correo: victor@medical.com\n",
            "El correo es válido\n"
          ]
        }
      ],
      "source": [
        "correo = input(\"Digite su correo: \")\n",
        "\n",
        "if correo.endswith(\"@hospital.com\") or correo.endswith(\"@medical.com\"):\n",
        "    print(\"El correo es válido\")\n",
        "else:\n",
        "    print(\"El correo no es válido\")"
      ]
    },
    {
      "cell_type": "markdown",
      "id": "5d841ebb-7bf2-4751-8660-59914cc7d2ce",
      "metadata": {
        "id": "5d841ebb-7bf2-4751-8660-59914cc7d2ce"
      },
      "source": [
        "## Funciones"
      ]
    },
    {
      "cell_type": "markdown",
      "id": "97c4a61b-e95b-4ac4-8519-e83961a0b1ad",
      "metadata": {
        "id": "97c4a61b-e95b-4ac4-8519-e83961a0b1ad"
      },
      "source": [
        "Define una función que solicite al usuario su nombre y luego imprima un mensaje de bienvenida"
      ]
    },
    {
      "cell_type": "code",
      "execution_count": 176,
      "id": "208462d9-a034-4919-a797-a4949c5dad0a",
      "metadata": {
        "tags": [],
        "id": "208462d9-a034-4919-a797-a4949c5dad0a",
        "colab": {
          "base_uri": "https://localhost:8080/"
        },
        "outputId": "97dbebf8-7fd4-47a2-b7c4-190cdaf3c0c6"
      },
      "outputs": [
        {
          "output_type": "stream",
          "name": "stdout",
          "text": [
            "Digite su nombre: pepe\n",
            "¡Bienvenido! pepe\n"
          ]
        }
      ],
      "source": [
        "def datos():\n",
        "  nombre=input(\"Digite su nombre: \")\n",
        "  print(\"¡Bienvenido!\", nombre)\n",
        "datos()"
      ]
    },
    {
      "cell_type": "markdown",
      "id": "cd7db0ae-ac60-484e-89f5-c44666acf983",
      "metadata": {
        "id": "cd7db0ae-ac60-484e-89f5-c44666acf983"
      },
      "source": [
        "Define una función que calcule y devuelva el área de un círculo dado su radio"
      ]
    },
    {
      "cell_type": "code",
      "execution_count": 177,
      "id": "99a7b0fb-2390-49cb-9d2e-4ee46ef24231",
      "metadata": {
        "tags": [],
        "id": "99a7b0fb-2390-49cb-9d2e-4ee46ef24231",
        "colab": {
          "base_uri": "https://localhost:8080/"
        },
        "outputId": "87831933-f65e-4fea-ce26-adc4aa0b6a3e"
      },
      "outputs": [
        {
          "output_type": "stream",
          "name": "stdout",
          "text": [
            "Digite el radio del círculo: 20\n",
            "El área del círculo es: 1256.6370614359173\n"
          ]
        }
      ],
      "source": [
        "import numpy as np\n",
        "\n",
        "def area(radio):\n",
        "    return np.pi * (radio ** 2)\n",
        "\n",
        "radio = float(input(\"Digite el radio del círculo: \"))\n",
        "print(\"El área del círculo es:\", area(radio))"
      ]
    },
    {
      "cell_type": "markdown",
      "id": "118882b6-e898-4a95-8453-7edcc40c8782",
      "metadata": {
        "id": "118882b6-e898-4a95-8453-7edcc40c8782"
      },
      "source": [
        "Define una función que calcule y devuelva el precio total de un producto dado su precio base y un impuesto (por defecto del 19%)"
      ]
    },
    {
      "cell_type": "code",
      "execution_count": 178,
      "id": "df64d51e-cf4d-498f-b333-f8c2a5e46018",
      "metadata": {
        "id": "df64d51e-cf4d-498f-b333-f8c2a5e46018",
        "colab": {
          "base_uri": "https://localhost:8080/"
        },
        "outputId": "bcbc23d0-498f-4d42-9522-d63b9b4772ae"
      },
      "outputs": [
        {
          "output_type": "stream",
          "name": "stdout",
          "text": [
            "Digite el precio base del producto: 20000\n",
            "El precio total con impuesto es: 23800.0\n"
          ]
        }
      ],
      "source": [
        "def precio_total(precio):\n",
        "    total = precio * (1.19)\n",
        "    return total\n",
        "\n",
        "precio = float(input(\"Digite el precio base del producto: \"))\n",
        "print(\"El precio total con impuesto es:\", precio_total(precio))"
      ]
    },
    {
      "cell_type": "markdown",
      "id": "b06d8fd1-98e9-484b-aa05-eb4bf729e8ca",
      "metadata": {
        "id": "b06d8fd1-98e9-484b-aa05-eb4bf729e8ca"
      },
      "source": [
        "Define una función que reciba un número variable de argumentos y devuelva el promedio de dichos números."
      ]
    },
    {
      "cell_type": "code",
      "execution_count": 179,
      "id": "0c8fee66-16f9-446d-89a1-3afaa39f273d",
      "metadata": {
        "id": "0c8fee66-16f9-446d-89a1-3afaa39f273d",
        "colab": {
          "base_uri": "https://localhost:8080/"
        },
        "outputId": "3a93b0e1-29e8-497c-b722-e3156e27e896"
      },
      "outputs": [
        {
          "output_type": "stream",
          "name": "stdout",
          "text": [
            "Digite los números separados por espacio: 3 3 3\n",
            "El promedio es: 3.0\n"
          ]
        }
      ],
      "source": [
        "def promedio(*args):\n",
        "    if len(args) == 0:\n",
        "        return 0\n",
        "    return sum(args) / len(args)\n",
        "\n",
        "\n",
        "entrada = input(\"Digite los números separados por espacio: \")\n",
        "numeros = [float(x) for x in entrada.split()]\n",
        "\n",
        "print(\"El promedio es:\", promedio(*numeros))\n"
      ]
    },
    {
      "cell_type": "markdown",
      "id": "84a28c67-2474-4e0a-9414-21dcc72820a8",
      "metadata": {
        "id": "84a28c67-2474-4e0a-9414-21dcc72820a8"
      },
      "source": [
        "## Numpy"
      ]
    },
    {
      "cell_type": "code",
      "source": [
        "import numpy as np"
      ],
      "metadata": {
        "id": "YingY4CJpiWU"
      },
      "id": "YingY4CJpiWU",
      "execution_count": 180,
      "outputs": []
    },
    {
      "cell_type": "markdown",
      "id": "e9a0927d-4670-4c47-91fc-a1308548fe36",
      "metadata": {
        "tags": [],
        "id": "e9a0927d-4670-4c47-91fc-a1308548fe36"
      },
      "source": [
        "Crear un array con los precios de una cafetería"
      ]
    },
    {
      "cell_type": "code",
      "execution_count": 181,
      "id": "3a8f0888-c6ae-436a-9465-6789031b43b5",
      "metadata": {
        "tags": [],
        "id": "3a8f0888-c6ae-436a-9465-6789031b43b5",
        "colab": {
          "base_uri": "https://localhost:8080/"
        },
        "outputId": "271acc35-759e-4316-e419-0d067c55fc26"
      },
      "outputs": [
        {
          "output_type": "execute_result",
          "data": {
            "text/plain": [
              "array([7500, 2500, 3000])"
            ]
          },
          "metadata": {},
          "execution_count": 181
        }
      ],
      "source": [
        "np.array([7500, 2500, 3000])"
      ]
    },
    {
      "cell_type": "markdown",
      "id": "c2ef00b4-2a5d-4cb3-aa7d-3df02d750922",
      "metadata": {
        "id": "c2ef00b4-2a5d-4cb3-aa7d-3df02d750922"
      },
      "source": [
        "Crear un array de NumPy utilizando los datos de la variable \"precios\""
      ]
    },
    {
      "cell_type": "code",
      "execution_count": 182,
      "id": "43bedc29-a647-4f68-a67d-3d4b5b836a71",
      "metadata": {
        "tags": [],
        "id": "43bedc29-a647-4f68-a67d-3d4b5b836a71",
        "colab": {
          "base_uri": "https://localhost:8080/"
        },
        "outputId": "4b3ae3ea-1136-4d42-f530-96c96438f3a0"
      },
      "outputs": [
        {
          "output_type": "stream",
          "name": "stdout",
          "text": [
            "[7500 2500 3000]\n"
          ]
        }
      ],
      "source": [
        "precios = np.array([7500, 2500, 3000])\n",
        "print(precios)"
      ]
    },
    {
      "cell_type": "markdown",
      "id": "3107a9d2-63a2-47a4-b5dc-5cb9d20c5bc0",
      "metadata": {
        "id": "3107a9d2-63a2-47a4-b5dc-5cb9d20c5bc0"
      },
      "source": [
        "Sumar 3 unidades a cada elemento del array \"precios\"."
      ]
    },
    {
      "cell_type": "code",
      "source": [
        "total = precios + 3\n",
        "print(total)"
      ],
      "metadata": {
        "id": "NdRdyPizjCfJ",
        "colab": {
          "base_uri": "https://localhost:8080/"
        },
        "outputId": "490823a3-ecdb-4652-c538-09790c4fbcd4"
      },
      "id": "NdRdyPizjCfJ",
      "execution_count": 183,
      "outputs": [
        {
          "output_type": "stream",
          "name": "stdout",
          "text": [
            "[7503 2503 3003]\n"
          ]
        }
      ]
    },
    {
      "cell_type": "markdown",
      "id": "c406e766-5be6-4c62-8cf1-f9ee47d476ae",
      "metadata": {
        "id": "c406e766-5be6-4c62-8cf1-f9ee47d476ae"
      },
      "source": [
        "Seleccionar el segundo valor en la lista"
      ]
    },
    {
      "cell_type": "code",
      "execution_count": 184,
      "id": "69484c74-27ff-49fc-b456-726d41ebe9fe",
      "metadata": {
        "tags": [],
        "id": "69484c74-27ff-49fc-b456-726d41ebe9fe",
        "colab": {
          "base_uri": "https://localhost:8080/"
        },
        "outputId": "e51b650b-7939-4800-a252-fe1478f1bc6f"
      },
      "outputs": [
        {
          "output_type": "execute_result",
          "data": {
            "text/plain": [
              "np.int64(2500)"
            ]
          },
          "metadata": {},
          "execution_count": 184
        }
      ],
      "source": [
        "np.array([7500, 2500, 3000])[1]"
      ]
    },
    {
      "cell_type": "markdown",
      "id": "72520663-99ba-4cd2-b4de-db11cb8600cc",
      "metadata": {
        "id": "72520663-99ba-4cd2-b4de-db11cb8600cc"
      },
      "source": [
        "Agregar el precio 600 al array de numpy"
      ]
    },
    {
      "cell_type": "code",
      "execution_count": 185,
      "id": "61ef7e78-1fc4-47c9-9638-c6a46ce747ae",
      "metadata": {
        "tags": [],
        "id": "61ef7e78-1fc4-47c9-9638-c6a46ce747ae",
        "colab": {
          "base_uri": "https://localhost:8080/"
        },
        "outputId": "5ba1feac-3143-4f8f-9370-5b5a2b3b1c40"
      },
      "outputs": [
        {
          "output_type": "stream",
          "name": "stdout",
          "text": [
            "[7500 2500 3000  600]\n"
          ]
        }
      ],
      "source": [
        "precios = np.append(precios, 600)\n",
        "print(precios)"
      ]
    },
    {
      "cell_type": "markdown",
      "id": "db26b2b3-511a-4454-885a-dc4f756eae55",
      "metadata": {
        "id": "db26b2b3-511a-4454-885a-dc4f756eae55"
      },
      "source": [
        "Borrar el elemento con índice 2"
      ]
    },
    {
      "cell_type": "code",
      "source": [
        "print(np.delete(precios, 2))"
      ],
      "metadata": {
        "colab": {
          "base_uri": "https://localhost:8080/"
        },
        "id": "YP_Ga_fAkKYW",
        "outputId": "76edb1c5-4873-412e-9aaa-ccf6cefcc061"
      },
      "id": "YP_Ga_fAkKYW",
      "execution_count": 186,
      "outputs": [
        {
          "output_type": "stream",
          "name": "stdout",
          "text": [
            "[7500 2500  600]\n"
          ]
        }
      ]
    },
    {
      "cell_type": "markdown",
      "id": "e44d1900-585e-466c-9e9f-e7b1450673b5",
      "metadata": {
        "id": "e44d1900-585e-466c-9e9f-e7b1450673b5"
      },
      "source": [
        "Filtrar y mostrar los elementos del array \"precios\" que sean menores a 5."
      ]
    },
    {
      "cell_type": "code",
      "execution_count": 187,
      "id": "b1af12ce-c0f8-4b77-9b26-7a9d1e18da60",
      "metadata": {
        "tags": [],
        "id": "b1af12ce-c0f8-4b77-9b26-7a9d1e18da60",
        "colab": {
          "base_uri": "https://localhost:8080/"
        },
        "outputId": "ab56133a-ef0b-4607-903a-f480c1b006be"
      },
      "outputs": [
        {
          "output_type": "execute_result",
          "data": {
            "text/plain": [
              "array([], dtype=int64)"
            ]
          },
          "metadata": {},
          "execution_count": 187
        }
      ],
      "source": [
        "np.array([7500, 2500, 3000])[np.array([7500, 2500, 3000]) < 5]"
      ]
    },
    {
      "cell_type": "markdown",
      "id": "1d15de22-3161-4351-bdec-0311f29d2ad3",
      "metadata": {
        "id": "1d15de22-3161-4351-bdec-0311f29d2ad3"
      },
      "source": [
        "Obtener el valor mínimo, el valor máximo, el promedio y la desviación estándar de los elementos en el array \"precios\""
      ]
    },
    {
      "cell_type": "code",
      "source": [
        "print(\"Valor mínimo:\", np.min(precios))"
      ],
      "metadata": {
        "colab": {
          "base_uri": "https://localhost:8080/"
        },
        "id": "IwKTo6EKlXWs",
        "outputId": "aace4bda-e2fd-4025-ba9e-f30a07714697"
      },
      "id": "IwKTo6EKlXWs",
      "execution_count": 188,
      "outputs": [
        {
          "output_type": "stream",
          "name": "stdout",
          "text": [
            "Valor mínimo: 600\n"
          ]
        }
      ]
    },
    {
      "cell_type": "code",
      "source": [
        "print(\"Valor máximo:\", np.max(precios))"
      ],
      "metadata": {
        "colab": {
          "base_uri": "https://localhost:8080/"
        },
        "id": "8AlOcR1KOcbc",
        "outputId": "93b33963-8796-437f-d5be-2fdad2b741e6"
      },
      "id": "8AlOcR1KOcbc",
      "execution_count": 189,
      "outputs": [
        {
          "output_type": "stream",
          "name": "stdout",
          "text": [
            "Valor máximo: 7500\n"
          ]
        }
      ]
    },
    {
      "cell_type": "code",
      "source": [
        "print(\"Promedio:\", np.mean(precios))"
      ],
      "metadata": {
        "colab": {
          "base_uri": "https://localhost:8080/"
        },
        "id": "J8Xd8su4OeaF",
        "outputId": "e541c9fc-3265-46f3-f69e-1a9fc14a32a6"
      },
      "id": "J8Xd8su4OeaF",
      "execution_count": 190,
      "outputs": [
        {
          "output_type": "stream",
          "name": "stdout",
          "text": [
            "Promedio: 3400.0\n"
          ]
        }
      ]
    },
    {
      "cell_type": "code",
      "source": [
        "# Mostrar solo dos decimales de desviacion tipica estandar\n",
        "print(f\"Desviación estándar: {np.std(precios):.3f}\")\n",
        "print(\"Desviación estándar:\", np.std(precios))"
      ],
      "metadata": {
        "colab": {
          "base_uri": "https://localhost:8080/"
        },
        "id": "X1aK5wJZOgBU",
        "outputId": "0c4478d4-96bc-4e02-c1a4-a019bcd684de"
      },
      "id": "X1aK5wJZOgBU",
      "execution_count": 191,
      "outputs": [
        {
          "output_type": "stream",
          "name": "stdout",
          "text": [
            "Desviación estándar: 2530.810\n",
            "Desviación estándar: 2530.8101469687526\n"
          ]
        }
      ]
    },
    {
      "cell_type": "markdown",
      "id": "6ad0091f-933f-488e-9a2c-9ee7b215fb33",
      "metadata": {
        "id": "6ad0091f-933f-488e-9a2c-9ee7b215fb33"
      },
      "source": [
        "Crear un array de NumPy utilizando los datos de la variable \"calif_esp\" y asignarlo a la variable \"calif_arr\""
      ]
    },
    {
      "cell_type": "code",
      "execution_count": 192,
      "id": "fe36a8f6-99d7-4733-addf-b5f4ebc4aedd",
      "metadata": {
        "tags": [],
        "id": "fe36a8f6-99d7-4733-addf-b5f4ebc4aedd"
      },
      "outputs": [],
      "source": [
        "calif_esp=[\n",
        "    [85, 90, 78],\n",
        "    [88, 92, 80],\n",
        "    [87, 91, 83],\n",
        "    [84, 85, 82]\n",
        "]"
      ]
    },
    {
      "cell_type": "code",
      "execution_count": 193,
      "id": "8394d0bb-b012-4f21-9372-0c5beeca97da",
      "metadata": {
        "tags": [],
        "id": "8394d0bb-b012-4f21-9372-0c5beeca97da",
        "colab": {
          "base_uri": "https://localhost:8080/"
        },
        "outputId": "ef21c5f6-16bb-4103-d3e9-9fb8458a6f3e"
      },
      "outputs": [
        {
          "output_type": "stream",
          "name": "stdout",
          "text": [
            "[[85 90 78]\n",
            " [88 92 80]\n",
            " [87 91 83]\n",
            " [84 85 82]]\n"
          ]
        }
      ],
      "source": [
        "calif_arr = np.array(calif_esp)\n",
        "print(calif_arr)"
      ]
    },
    {
      "cell_type": "markdown",
      "id": "f4d1a64f-c586-4abe-9c91-bec4d5274560",
      "metadata": {
        "id": "f4d1a64f-c586-4abe-9c91-bec4d5274560"
      },
      "source": [
        "Obtener la forma (shape) del array \"calif_arr\""
      ]
    },
    {
      "cell_type": "code",
      "execution_count": 194,
      "id": "036913e1-8810-4f4a-8178-c0496c62ee98",
      "metadata": {
        "tags": [],
        "id": "036913e1-8810-4f4a-8178-c0496c62ee98",
        "colab": {
          "base_uri": "https://localhost:8080/"
        },
        "outputId": "c058fdd3-8202-414a-85d4-3ee495356771"
      },
      "outputs": [
        {
          "output_type": "stream",
          "name": "stdout",
          "text": [
            "(4, 3)\n"
          ]
        }
      ],
      "source": [
        "print(calif_arr.shape)"
      ]
    },
    {
      "cell_type": "markdown",
      "metadata": {
        "id": "37ed08ca"
      },
      "source": [
        "Obtener el número de dimensiones (ndim) del array \"calif_arr\"."
      ],
      "id": "37ed08ca"
    },
    {
      "cell_type": "code",
      "execution_count": 195,
      "id": "9a9c1243-3131-40c3-90e0-7897c3dea51b",
      "metadata": {
        "tags": [],
        "id": "9a9c1243-3131-40c3-90e0-7897c3dea51b",
        "colab": {
          "base_uri": "https://localhost:8080/"
        },
        "outputId": "29eb10e5-30be-4023-b982-684f11bc5c06"
      },
      "outputs": [
        {
          "output_type": "stream",
          "name": "stdout",
          "text": [
            "2\n"
          ]
        }
      ],
      "source": [
        "print(calif_arr.ndim)"
      ]
    },
    {
      "cell_type": "markdown",
      "id": "e4cf6d10-f302-42e8-8608-eb82f1a57623",
      "metadata": {
        "id": "e4cf6d10-f302-42e8-8608-eb82f1a57623"
      },
      "source": [
        "Obtener el número total de elementos (size) en el array \"calif_arr\"."
      ]
    },
    {
      "cell_type": "code",
      "execution_count": 196,
      "id": "61d1ce5b-dade-4a1d-8e80-4787994d55ce",
      "metadata": {
        "tags": [],
        "id": "61d1ce5b-dade-4a1d-8e80-4787994d55ce",
        "colab": {
          "base_uri": "https://localhost:8080/"
        },
        "outputId": "897b5721-263a-4bd3-d377-b55c65e6a878"
      },
      "outputs": [
        {
          "output_type": "stream",
          "name": "stdout",
          "text": [
            "12\n"
          ]
        }
      ],
      "source": [
        "print(calif_arr.size)"
      ]
    },
    {
      "cell_type": "markdown",
      "id": "4b39584a-2b75-455a-8020-340e168549d1",
      "metadata": {
        "id": "4b39584a-2b75-455a-8020-340e168549d1"
      },
      "source": [
        "Reorganizar el array \"calif_arr\" para que tenga una forma de 2 filas y 6 columnas utilizando el método \"reshape\""
      ]
    },
    {
      "cell_type": "code",
      "execution_count": 197,
      "id": "ff889dc2-9826-438e-bd4d-ba0ce70d09be",
      "metadata": {
        "tags": [],
        "id": "ff889dc2-9826-438e-bd4d-ba0ce70d09be",
        "colab": {
          "base_uri": "https://localhost:8080/"
        },
        "outputId": "c6a10981-d870-403c-b6c5-1827b879eff9"
      },
      "outputs": [
        {
          "output_type": "stream",
          "name": "stdout",
          "text": [
            "[[85 90 78 88 92 80]\n",
            " [87 91 83 84 85 82]]\n"
          ]
        }
      ],
      "source": [
        "print(calif_arr.reshape(2,6))"
      ]
    },
    {
      "cell_type": "markdown",
      "id": "6cf43659-fc75-45b8-8b40-1d3e49f1c484",
      "metadata": {
        "id": "6cf43659-fc75-45b8-8b40-1d3e49f1c484"
      },
      "source": [
        "Crear una matriz de NumPy llena de ceros con dimensiones de 2 filas y 5 columnas utilizando \"zeros\""
      ]
    },
    {
      "cell_type": "code",
      "execution_count": 198,
      "id": "68e685df-abef-445d-834c-79be33593af3",
      "metadata": {
        "tags": [],
        "id": "68e685df-abef-445d-834c-79be33593af3",
        "colab": {
          "base_uri": "https://localhost:8080/"
        },
        "outputId": "3987c4c3-7d80-4617-a8a7-d99f08e48214"
      },
      "outputs": [
        {
          "output_type": "stream",
          "name": "stdout",
          "text": [
            "[[0. 0. 0. 0. 0.]\n",
            " [0. 0. 0. 0. 0.]]\n"
          ]
        }
      ],
      "source": [
        "zeros_array = np.zeros((2, 5))\n",
        "print(zeros_array)"
      ]
    },
    {
      "cell_type": "markdown",
      "id": "9885bda0-ffdd-4193-9315-566bac044d2b",
      "metadata": {
        "id": "9885bda0-ffdd-4193-9315-566bac044d2b"
      },
      "source": [
        "Crear un array de NumPy que contenga números en un rango desde 0 hasta 15 (exclusivo), con una distancia de 3 unidades, utilizando \"arange\""
      ]
    },
    {
      "cell_type": "code",
      "execution_count": 199,
      "id": "0fbf8bde-4216-4d36-abf2-8998095da247",
      "metadata": {
        "tags": [],
        "id": "0fbf8bde-4216-4d36-abf2-8998095da247",
        "colab": {
          "base_uri": "https://localhost:8080/"
        },
        "outputId": "f54df993-8f36-4ec3-f08c-dbd37ea11dce"
      },
      "outputs": [
        {
          "output_type": "stream",
          "name": "stdout",
          "text": [
            "[ 0  3  6  9 12]\n"
          ]
        }
      ],
      "source": [
        "arange_array = np.arange(0, 15, 3)\n",
        "print(arange_array)"
      ]
    },
    {
      "cell_type": "markdown",
      "id": "1bd8c842-b669-42a3-a15f-7f7ad0f7ad87",
      "metadata": {
        "id": "1bd8c842-b669-42a3-a15f-7f7ad0f7ad87"
      },
      "source": [
        "Crear un array de NumPy que contenga 6 valores equidistantes en el intervalo de 0 a 10 (incluyendo el inicio y final), utilizando \"linspace\""
      ]
    },
    {
      "cell_type": "code",
      "execution_count": 200,
      "id": "2d64389e-1620-4d27-bf27-c780f850ba07",
      "metadata": {
        "tags": [],
        "id": "2d64389e-1620-4d27-bf27-c780f850ba07",
        "colab": {
          "base_uri": "https://localhost:8080/"
        },
        "outputId": "40030b7b-8fc0-4ec8-b989-3ac769b5d0d6"
      },
      "outputs": [
        {
          "output_type": "stream",
          "name": "stdout",
          "text": [
            "[ 0.  2.  4.  6.  8. 10.]\n"
          ]
        }
      ],
      "source": [
        "linspace_array = np.linspace(0, 10, 6)\n",
        "print(linspace_array)"
      ]
    },
    {
      "cell_type": "markdown",
      "id": "5c439a26-f43f-4d19-8346-e16281be9874",
      "metadata": {
        "id": "5c439a26-f43f-4d19-8346-e16281be9874"
      },
      "source": [
        "Crear un generador de números aleatorios (rg) con la semilla igual a 2"
      ]
    },
    {
      "cell_type": "code",
      "execution_count": 201,
      "id": "cbb0a03b-24eb-4ddb-9313-f4d2bb5b86d7",
      "metadata": {
        "tags": [],
        "id": "cbb0a03b-24eb-4ddb-9313-f4d2bb5b86d7"
      },
      "outputs": [],
      "source": [
        "rg = np.random.default_rng(2)"
      ]
    },
    {
      "cell_type": "markdown",
      "id": "7e51f520-0725-4a3a-9ab6-62a9cf756d1f",
      "metadata": {
        "id": "7e51f520-0725-4a3a-9ab6-62a9cf756d1f"
      },
      "source": [
        "Generar un array de 300 números aleatorios entre 0 y 1 utilizando el generador de números aleatorios rg creado previamente"
      ]
    },
    {
      "cell_type": "code",
      "execution_count": 202,
      "id": "a3a2d459-15a3-455e-abb6-a2e6f96378d8",
      "metadata": {
        "tags": [],
        "id": "a3a2d459-15a3-455e-abb6-a2e6f96378d8",
        "colab": {
          "base_uri": "https://localhost:8080/"
        },
        "outputId": "112400a9-b24b-480b-ac56-6ea87a7ae8ba"
      },
      "outputs": [
        {
          "output_type": "execute_result",
          "data": {
            "text/plain": [
              "array([0.26161213, 0.29849114, 0.81422574, 0.09191594, 0.60010053,\n",
              "       0.72856053, 0.18790107, 0.05514663, 0.27496937, 0.65743301,\n",
              "       0.56226566, 0.15006226, 0.43263079, 0.6692973 , 0.42278467,\n",
              "       0.6331844 , 0.96743595, 0.68306482, 0.39162483, 0.18725257,\n",
              "       0.34596067, 0.51106597, 0.89120941, 0.77556394, 0.3181466 ,\n",
              "       0.9242169 , 0.47090989, 0.69375884, 0.10720731, 0.10454356,\n",
              "       0.20190745, 0.88444967, 0.67981146, 0.84923632, 0.64443627,\n",
              "       0.4065424 , 0.51657819, 0.59344352, 0.86211798, 0.43818617,\n",
              "       0.89224011, 0.61371694, 0.82935613, 0.49805605, 0.69251813,\n",
              "       0.33902537, 0.5228285 , 0.21622339, 0.1007036 , 0.03860413,\n",
              "       0.70194948, 0.45643062, 0.89773415, 0.8351832 , 0.38509513,\n",
              "       0.97367877, 0.59206201, 0.76588331, 0.40719436, 0.19616991,\n",
              "       0.17177702, 0.18120623, 0.60380552, 0.11263286, 0.01991075,\n",
              "       0.83299696, 0.09941112, 0.45058454, 0.48849857, 0.62027241,\n",
              "       0.50401448, 0.93734314, 0.75039659, 0.5744665 , 0.61727214,\n",
              "       0.50655149, 0.96476181, 0.22662606, 0.68902714, 0.55509668,\n",
              "       0.04201179, 0.29615   , 0.92716694, 0.78456486, 0.01283109,\n",
              "       0.29662633, 0.00980535, 0.82746694, 0.11036759, 0.05745518,\n",
              "       0.98188334, 0.44586988, 0.318393  , 0.04901339, 0.38959528,\n",
              "       0.36603906, 0.52348079, 0.00678547, 0.14796288, 0.20988653,\n",
              "       0.44050452, 0.30230337, 0.61332768, 0.28543261, 0.90963301,\n",
              "       0.96186996, 0.05943487, 0.20905972, 0.56302318, 0.77066023,\n",
              "       0.06402423, 0.18480268, 0.45672012, 0.66869076, 0.90332793,\n",
              "       0.86697296, 0.79375542, 0.05273214, 0.97663649, 0.61462795,\n",
              "       0.08611582, 0.25492878, 0.62075408, 0.38564012, 0.44660348,\n",
              "       0.80458507, 0.82403098, 0.54678698, 0.7924511 , 0.40600493,\n",
              "       0.97448184, 0.60515917, 0.96769798, 0.04398769, 0.88269265,\n",
              "       0.55937719, 0.71363903, 0.19259498, 0.54869138, 0.28927792,\n",
              "       0.10548048, 0.00318677, 0.90684002, 0.67090432, 0.20502173,\n",
              "       0.25781868, 0.46559431, 0.81828725, 0.1176256 , 0.96778483,\n",
              "       0.94391077, 0.2446601 , 0.64078186, 0.36009753, 0.69732334,\n",
              "       0.0869161 , 0.46996588, 0.5884908 , 0.62647574, 0.69279547,\n",
              "       0.89138137, 0.24125021, 0.15319432, 0.39060694, 0.56882815,\n",
              "       0.96052876, 0.71050559, 0.73844255, 0.97271705, 0.26774316,\n",
              "       0.25946163, 0.42254084, 0.29542001, 0.65110339, 0.95171392,\n",
              "       0.15351149, 0.51794768, 0.6775781 , 0.49317767, 0.91374384,\n",
              "       0.73689799, 0.8821768 , 0.11176499, 0.1957635 , 0.06570423,\n",
              "       0.8293195 , 0.96281866, 0.01399102, 0.78925364, 0.7278312 ,\n",
              "       0.90818679, 0.27038547, 0.71477718, 0.23742288, 0.0760332 ,\n",
              "       0.74520406, 0.04221297, 0.69959446, 0.28346246, 0.4874234 ,\n",
              "       0.89153315, 0.24340788, 0.46832438, 0.35504945, 0.19038089,\n",
              "       0.47365147, 0.18163033, 0.79900749, 0.61482164, 0.28313075,\n",
              "       0.973105  , 0.34527684, 0.67125666, 0.73322373, 0.26522639,\n",
              "       0.0117638 , 0.89261588, 0.95641651, 0.17022808, 0.15360521,\n",
              "       0.43266742, 0.59756957, 0.98898263, 0.96349612, 0.98785284,\n",
              "       0.24556942, 0.5988832 , 0.43586914, 0.2314023 , 0.06537737,\n",
              "       0.16872837, 0.35845173, 0.08802173, 0.15073899, 0.04465149,\n",
              "       0.62290627, 0.49271648, 0.243553  , 0.52634874, 0.42444678,\n",
              "       0.65915322, 0.93266722, 0.35329211, 0.64515153, 0.21891674,\n",
              "       0.9398994 , 0.61769248, 0.15874744, 0.25705106, 0.15915136,\n",
              "       0.17913403, 0.30679886, 0.82307044, 0.4570588 , 0.27716997,\n",
              "       0.41907586, 0.26739823, 0.73368242, 0.05878125, 0.28922856,\n",
              "       0.32324609, 0.18151952, 0.73815578, 0.18024736, 0.30048134,\n",
              "       0.05647656, 0.75558564, 0.36386302, 0.65592839, 0.2172361 ,\n",
              "       0.02180019, 0.32241816, 0.77906385, 0.83744578, 0.34883976,\n",
              "       0.84694078, 0.05034893, 0.52211454, 0.25742242, 0.43907769,\n",
              "       0.22164182, 0.89356662, 0.30217467, 0.94529193, 0.10909018,\n",
              "       0.42983101, 0.44344493, 0.70943479, 0.34502227, 0.49249496,\n",
              "       0.07044906, 0.31103146, 0.72498432, 0.10591139, 0.46253567,\n",
              "       0.23672695, 0.1654845 , 0.12131551, 0.81386593, 0.68665702])"
            ]
          },
          "metadata": {},
          "execution_count": 202
        }
      ],
      "source": [
        "\n",
        "random = rg.random(300)\n",
        "random"
      ]
    },
    {
      "cell_type": "markdown",
      "source": [
        "#Matplodlib"
      ],
      "metadata": {
        "id": "4gSrtsuAXO70"
      },
      "id": "4gSrtsuAXO70"
    },
    {
      "cell_type": "markdown",
      "id": "2b58d495-1885-48ac-92eb-94f31a736bc0",
      "metadata": {
        "id": "2b58d495-1885-48ac-92eb-94f31a736bc0"
      },
      "source": [
        "Crear un histograma utilizando matplotlib para visualizar la distribución de los datos"
      ]
    },
    {
      "cell_type": "code",
      "source": [
        "import matplotlib.pyplot as plt\n",
        "import numpy as np\n",
        "\n",
        "# Calculate histogram data\n",
        "counts, bins = np.histogram(random, bins=20) # Use 20 bins as in the previous histogram example\n",
        "\n",
        "# Normalize counts to map to colors\n",
        "norm = plt.Normalize(counts.min(), counts.max())\n",
        "cmap = plt.cm.RdYlGn # Red-Yellow-Green colormap\n",
        "\n",
        "# Plot the histogram with colored bars\n",
        "plt.bar(bins[:-1], counts, width=np.diff(bins), color=cmap(norm(counts)))\n",
        "\n",
        "plt.title(\"Distribucion de datos\")\n",
        "plt.xlabel(\"Valor\")\n",
        "plt.ylabel(\"Frecuencia\")\n",
        "\n",
        "plt.show()"
      ],
      "metadata": {
        "colab": {
          "base_uri": "https://localhost:8080/",
          "height": 472
        },
        "id": "erKKuAbdyKbb",
        "outputId": "09527d2e-c07f-4ade-9d2c-e7f0d07e8eb9"
      },
      "id": "erKKuAbdyKbb",
      "execution_count": 203,
      "outputs": [
        {
          "output_type": "display_data",
          "data": {
            "text/plain": [
              "<Figure size 640x480 with 1 Axes>"
            ],
            "image/png": "[encoded data removed]"
          },
          "metadata": {}
        }
      ]
    },
    {
      "cell_type": "markdown",
      "id": "53981499-c49a-46f0-9019-34510ffd3625",
      "metadata": {
        "id": "53981499-c49a-46f0-9019-34510ffd3625"
      },
      "source": [
        "Generar un array de 400 números aleatorios distribuidos normalmente con media 20 y desviación estándar 10 utilizando el generador de números aleatorios \"rg\""
      ]
    },
    {
      "cell_type": "code",
      "source": [
        "\n",
        "normal = rg.normal(20, 10, 400)\n",
        "\n",
        "print(normal)"
      ],
      "metadata": {
        "colab": {
          "base_uri": "https://localhost:8080/"
        },
        "id": "3AtgMRrq0Klo",
        "outputId": "dfd0589b-1f6c-4f71-f8af-4198ade8a57d"
      },
      "id": "3AtgMRrq0Klo",
      "execution_count": 204,
      "outputs": [
        {
          "output_type": "stream",
          "name": "stdout",
          "text": [
            "[20.78846475 22.70925779  8.40370183  0.89100222 12.32851774 27.62168572\n",
            " 35.82805612 26.03991051 24.9828091  11.61233146 35.34293845 33.4380632\n",
            " 14.69167513 19.53629331 10.03948077 34.67206885 24.06354169 19.04935331\n",
            " 24.069      24.4062229  15.88503297  7.58434814  7.16254631  2.61633487\n",
            " 24.6125302  42.18541839  3.00930702 21.38287459 24.10983943 10.15374323\n",
            " 22.04425802  9.03063101 32.00402119 14.05750944 21.00560383 26.84241585\n",
            " 15.70180631  2.08769177 14.68744341 27.62995268 19.15467343 22.29789184\n",
            "  9.19598193 21.43222911 27.2816699  20.3644802  39.0801459  17.92206422\n",
            "  9.58649764  3.82340758 31.52005891 19.40981756 30.1162178  24.57668919\n",
            " 36.25084291 32.66107363 16.22445438 22.73884901 30.85371993  7.63924856\n",
            " 34.50895975 32.11993342 29.82925863 17.99067839 23.0214104   8.82760759\n",
            " 20.57954174 14.12620479 20.86563965 15.05373737 22.83803512 31.79332176\n",
            "  6.90396816 29.25390876  0.0818743  -1.61033351 18.80631324 20.06729382\n",
            " 24.42800854  3.5261473  19.40061357 21.26524697 32.55204983 18.96160414\n",
            " 25.28991748 10.2257445  18.12445366 15.54464679 27.03304379 10.11180723\n",
            " 11.65677543 25.75988169 37.89436662 23.82703331 23.03560293 16.53857606\n",
            " 30.88425229 25.39916957 37.33192719 23.3071151  10.51323082 14.30058499\n",
            " 10.12595447  7.49179107 32.63717427 28.07336908  7.61355624 37.81320683\n",
            " 22.44560726 10.43108011 23.86221941 19.30805745 12.27345246  0.57065708\n",
            " 20.36719904 22.91995848 -5.79077381 25.54907329 26.17633315 15.30204393\n",
            " 21.12123055 17.19341838 11.62897434 16.3994502  33.51603835  5.49382913\n",
            " 22.37192281 21.84117756 12.92369696 15.59660794  5.99586596 11.4803781\n",
            " 20.1495183  23.26715903 11.01623198 50.56342449 14.2965545  21.27330004\n",
            " 17.69419919 16.00220215 33.01068923 15.21188619 33.34388815 31.41816282\n",
            "  9.54334837 30.35493494 13.49621915 47.36458726 16.14169633 10.59073766\n",
            "  0.88923729  7.06954838 14.19351088 10.01972197  7.71313104 13.0466027\n",
            " 17.93452256 34.49347375  2.96705111 14.48359002 10.46106395  4.84852206\n",
            "  7.33863343 10.9426516  27.17043436 18.06099424 14.62014887 26.11291695\n",
            " 22.80769493 17.76671156 23.84285843 11.71649015 26.27381342 24.66924948\n",
            " 15.87695725  7.80523832 35.2006436  20.94201013 50.5126499  13.46590929\n",
            " 28.52843015 15.65780839 22.53668053 28.33391212 12.00692189 18.99909535\n",
            " 21.60941593 21.13480104 25.96451029 30.2556317  28.33628339 22.63012556\n",
            " 16.52627053  8.70316418 12.64501541 14.71451213 26.82714063 16.36389821\n",
            "  7.57661233 26.26347153 11.96749303 12.34171396 17.73728589 24.73177846\n",
            " -4.13183502  8.78546013 21.75589149 16.35839001 11.35455485 14.58547116\n",
            " 33.85254015 15.4427173  27.12664963 27.91869082 15.49778984 24.43439067\n",
            " 15.49762384 13.89582491  8.74005639 28.74956252 16.0184066  14.47857593\n",
            "  8.72555081 38.08844963 27.41805612 18.67195526 13.05265627  4.70200004\n",
            " 22.91813672 22.88421812  5.91599314 31.6155036  27.75956368 10.37926257\n",
            " 14.4430346  15.72679373 21.60678961 18.54430575  3.61060909 34.74097476\n",
            " 23.1631042  32.60773373 32.54822347 17.92099183 23.41962136 27.36664612\n",
            " 27.69613428 18.3608124  13.81814528 20.3528657  11.98457233 14.44066022\n",
            " -0.30179341 20.83642671  9.73108659 14.44160311 19.47299661 23.13835121\n",
            " 38.89171809 22.04396363  5.86735048 21.30746497 14.04274157 23.99385479\n",
            " 13.14472223 12.91593215 14.8873623  13.72437326  1.75219008 13.31728299\n",
            " 19.85988905 32.00488754 17.06821982 16.28257645 25.79838413 25.39402517\n",
            " 35.99525279 25.8511155  19.80549714 33.38328991 35.29481925 15.24621589\n",
            " 21.5813988   3.19359394 16.35872527 11.1624844  17.85927534 15.18365453\n",
            " 18.33950135 18.96965469 24.93468116 22.30938481 14.3819568   7.10836973\n",
            " 32.34851766 34.1730242  15.45555017 25.61414319  4.73895092  4.37785039\n",
            " 17.3011548  34.71681701  9.53448507 11.65875707 36.07594754  1.06552087\n",
            " 26.46222247 24.87813917 17.93729223 21.8862497  46.21741647  8.73156799\n",
            " 16.86059804 17.61876588 13.10318905  6.58117115 35.93300267 22.20095074\n",
            "  2.42007862 12.97195757 24.05400697 24.03420129  5.59672879 19.08573132\n",
            " 22.60881734 23.92571851 23.94599595  1.76985778 38.46982812 22.11133609\n",
            " 38.05989722 48.63098988 18.3944263   7.66237301 28.64130534 18.19166442\n",
            " 15.48590194  9.66713611 36.87784568 15.57325539  6.00415221 15.52428613\n",
            "  8.42741159 21.57904166 15.80635428  9.42575783 26.01766159 13.56566088\n",
            " 27.23761235 32.60983504 16.38047225 13.53485627 21.99296066 28.91449541\n",
            " 19.97206939 21.3995585  19.73109207 23.11214621 26.28743013 12.93937076\n",
            " 15.17466164 20.43588928 13.34267863 21.3612545  25.36149115 19.78278142\n",
            " 13.96450329 12.22797675 37.51225438 28.78505841  8.80078504 11.58973228\n",
            " 38.7384471  35.11297706 21.28176319 31.578489    5.13018702 20.01311955\n",
            " 27.40809183  1.40032649 12.1700577  27.82854848 31.31629884 14.06692523\n",
            " 22.89809439 36.00712554 16.18066914  6.66635947 19.38592394 16.06842358\n",
            " 33.01048276 21.6011556  11.97905409 44.00544569 14.99882998 24.72445798\n",
            " 26.76231543 27.84322087 21.72915898 25.86673839]\n"
          ]
        }
      ]
    },
    {
      "cell_type": "markdown",
      "id": "05129468-e062-4d4e-b405-9e0b9ef8cf6c",
      "metadata": {
        "id": "05129468-e062-4d4e-b405-9e0b9ef8cf6c"
      },
      "source": [
        "Crear un histograma utilizando matplotlib con los datos aleatorios anteriores, siguiendo la distribución normal, dividido en 20 bins"
      ]
    },
    {
      "cell_type": "code",
      "execution_count": 205,
      "id": "45e7f4ec-2a7e-4a03-a80f-da32fc4a45e2",
      "metadata": {
        "id": "45e7f4ec-2a7e-4a03-a80f-da32fc4a45e2",
        "colab": {
          "base_uri": "https://localhost:8080/",
          "height": 472
        },
        "outputId": "b0d45115-dd7f-424b-c219-fe59008b3fe6"
      },
      "outputs": [
        {
          "output_type": "display_data",
          "data": {
            "text/plain": [
              "<Figure size 640x480 with 1 Axes>"
            ],
            "image/png": "[encoded data removed]"
          },
          "metadata": {}
        }
      ],
      "source": [
        "import matplotlib.pyplot as plt\n",
        "\n",
        "# Crear histograma con 20 bins\n",
        "plt.hist(normal, bins=20, edgecolor='black')\n",
        "\n",
        "# Títulos y etiquetas\n",
        "plt.title(\"Histograma de datos normales (media=20, σ=10)\")\n",
        "plt.xlabel(\"Valores\")\n",
        "plt.ylabel(\"Frecuencia\")\n",
        "\n",
        "# Mostrar gráfico\n",
        "plt.show()"
      ]
    },
    {
      "cell_type": "markdown",
      "id": "e0b95686-6fa1-402a-a810-d1538260cf18",
      "metadata": {
        "id": "e0b95686-6fa1-402a-a810-d1538260cf18"
      },
      "source": [
        "## Pandas"
      ]
    },
    {
      "cell_type": "code",
      "execution_count": 206,
      "id": "229cb0fa-cd8e-4caa-b439-4a20b3245a20",
      "metadata": {
        "id": "229cb0fa-cd8e-4caa-b439-4a20b3245a20"
      },
      "outputs": [],
      "source": [
        "import pandas as pd"
      ]
    },
    {
      "cell_type": "markdown",
      "id": "f7bf1730-4310-46e9-96af-f304494ff348",
      "metadata": {
        "id": "f7bf1730-4310-46e9-96af-f304494ff348"
      },
      "source": [
        "Crear una Serie de pandas llamada amigos que use la lista \"edades\" como valores y la lista \"nombres\" como índices:"
      ]
    },
    {
      "cell_type": "code",
      "execution_count": 207,
      "id": "cfaedd14-3bf8-47cf-9ae4-e369b32d9400",
      "metadata": {
        "tags": [],
        "id": "cfaedd14-3bf8-47cf-9ae4-e369b32d9400",
        "colab": {
          "base_uri": "https://localhost:8080/",
          "height": 241
        },
        "outputId": "24f9b993-dbbc-4204-8197-8c7a8a86e2c1"
      },
      "outputs": [
        {
          "output_type": "execute_result",
          "data": {
            "text/plain": [
              "Juan     25\n",
              "Ana      30\n",
              "Pedro    35\n",
              "Maria    40\n",
              "Luis     45\n",
              "dtype: int64"
            ],
            "text/html": [
              "<div>\n",
              "<style scoped>\n",
              "    .dataframe tbody tr th:only-of-type {\n",
              "        vertical-align: middle;\n",
              "    }\n",
              "\n",
              "    .dataframe tbody tr th {\n",
              "        vertical-align: top;\n",
              "    }\n",
              "\n",
              "    .dataframe thead th {\n",
              "        text-align: right;\n",
              "    }\n",
              "</style>\n",
              "<table border=\"1\" class=\"dataframe\">\n",
              "  <thead>\n",
              "    <tr style=\"text-align: right;\">\n",
              "      <th></th>\n",
              "      <th>0</th>\n",
              "    </tr>\n",
              "  </thead>\n",
              "  <tbody>\n",
              "    <tr>\n",
              "      <th>Juan</th>\n",
              "      <td>25</td>\n",
              "    </tr>\n",
              "    <tr>\n",
              "      <th>Ana</th>\n",
              "      <td>30</td>\n",
              "    </tr>\n",
              "    <tr>\n",
              "      <th>Pedro</th>\n",
              "      <td>35</td>\n",
              "    </tr>\n",
              "    <tr>\n",
              "      <th>Maria</th>\n",
              "      <td>40</td>\n",
              "    </tr>\n",
              "    <tr>\n",
              "      <th>Luis</th>\n",
              "      <td>45</td>\n",
              "    </tr>\n",
              "  </tbody>\n",
              "</table>\n",
              "</div><br><label><b>dtype:</b> int64</label>"
            ]
          },
          "metadata": {},
          "execution_count": 207
        }
      ],
      "source": [
        "\n",
        "nombres= ['Juan', 'Ana', 'Pedro', 'Maria', 'Luis']\n",
        "edades=[25, 30, 35, 40, 45]\n",
        "amigos = pd.Series(data=edades, index=nombres)\n",
        "amigos"
      ]
    },
    {
      "cell_type": "markdown",
      "id": "5edcc4fb-5cea-47fb-b1de-75936629e64c",
      "metadata": {
        "id": "5edcc4fb-5cea-47fb-b1de-75936629e64c"
      },
      "source": [
        "Acceder al valor asociado con el índice \"Juan\" en la Serie amigos"
      ]
    },
    {
      "cell_type": "code",
      "execution_count": 208,
      "id": "910a459d-e557-4b27-a1d7-6e8994cc0483",
      "metadata": {
        "tags": [],
        "id": "910a459d-e557-4b27-a1d7-6e8994cc0483",
        "colab": {
          "base_uri": "https://localhost:8080/"
        },
        "outputId": "a8de3a77-f39f-4cae-ce64-dd3eaf65bc60"
      },
      "outputs": [
        {
          "output_type": "stream",
          "name": "stdout",
          "text": [
            "25\n"
          ]
        }
      ],
      "source": [
        "print(amigos[\"Juan\"])"
      ]
    },
    {
      "cell_type": "markdown",
      "id": "abc77b25-2d33-4b54-a29f-a332445dfbe3",
      "metadata": {
        "id": "abc77b25-2d33-4b54-a29f-a332445dfbe3"
      },
      "source": [
        "Obtener todos los valores de la Serie amigos:"
      ]
    },
    {
      "cell_type": "code",
      "execution_count": 209,
      "id": "26766918-fcda-4d86-9e46-e603836a513d",
      "metadata": {
        "tags": [],
        "id": "26766918-fcda-4d86-9e46-e603836a513d",
        "colab": {
          "base_uri": "https://localhost:8080/"
        },
        "outputId": "f269ddad-8e00-4e45-9307-bd42aaa3e593"
      },
      "outputs": [
        {
          "output_type": "stream",
          "name": "stdout",
          "text": [
            "[25 30 35 40 45]\n"
          ]
        }
      ],
      "source": [
        "print(amigos.values)"
      ]
    },
    {
      "cell_type": "markdown",
      "id": "604882ef-6265-4eec-8db5-785ca898631e",
      "metadata": {
        "tags": [],
        "id": "604882ef-6265-4eec-8db5-785ca898631e"
      },
      "source": [
        "Obtener todos los índices de la Serie amigos:"
      ]
    },
    {
      "cell_type": "code",
      "execution_count": 210,
      "id": "9264fe7d-f2c6-4722-a562-c9c098563dbe",
      "metadata": {
        "tags": [],
        "id": "9264fe7d-f2c6-4722-a562-c9c098563dbe",
        "colab": {
          "base_uri": "https://localhost:8080/"
        },
        "outputId": "f6591ee3-dfcc-40a0-d0ae-0a587c7a8794"
      },
      "outputs": [
        {
          "output_type": "stream",
          "name": "stdout",
          "text": [
            "Index(['Juan', 'Ana', 'Pedro', 'Maria', 'Luis'], dtype='object')\n"
          ]
        }
      ],
      "source": [
        "print(amigos.index)"
      ]
    },
    {
      "cell_type": "markdown",
      "id": "9843c02a-defc-4488-81b9-4fdae92b0af3",
      "metadata": {
        "id": "9843c02a-defc-4488-81b9-4fdae92b0af3"
      },
      "source": [
        "Mostrar los primeros dos elementos de la Serie \"amigos\""
      ]
    },
    {
      "cell_type": "code",
      "execution_count": 211,
      "id": "0a3e0bf5-1125-45aa-81f2-943b50aac273",
      "metadata": {
        "tags": [],
        "id": "0a3e0bf5-1125-45aa-81f2-943b50aac273",
        "colab": {
          "base_uri": "https://localhost:8080/"
        },
        "outputId": "78916c3e-99af-4814-ddfa-8f82a7614519"
      },
      "outputs": [
        {
          "output_type": "stream",
          "name": "stdout",
          "text": [
            "Juan    25\n",
            "Ana     30\n",
            "dtype: int64\n"
          ]
        }
      ],
      "source": [
        "print(amigos.head(2))"
      ]
    },
    {
      "cell_type": "markdown",
      "id": "3585789d-8928-4898-8a43-ee8a8e80402a",
      "metadata": {
        "id": "3585789d-8928-4898-8a43-ee8a8e80402a"
      },
      "source": [
        "Mostrar los últimos dos elementos de la Serie amigos:"
      ]
    },
    {
      "cell_type": "code",
      "execution_count": 212,
      "id": "086c6a37-912f-4d98-acce-7d74c167bc19",
      "metadata": {
        "tags": [],
        "id": "086c6a37-912f-4d98-acce-7d74c167bc19",
        "colab": {
          "base_uri": "https://localhost:8080/"
        },
        "outputId": "0a2ff85c-40f4-49e2-ec96-cc3bedb483e5"
      },
      "outputs": [
        {
          "output_type": "stream",
          "name": "stdout",
          "text": [
            "Maria    40\n",
            "Luis     45\n",
            "dtype: int64\n"
          ]
        }
      ],
      "source": [
        "print(amigos.tail(2))"
      ]
    },
    {
      "cell_type": "markdown",
      "id": "320aed20-c573-4147-9e04-324c2556faf5",
      "metadata": {
        "id": "320aed20-c573-4147-9e04-324c2556faf5"
      },
      "source": [
        "Ordenar los valores de la Serie amigos en orden ascendente"
      ]
    },
    {
      "cell_type": "code",
      "execution_count": 213,
      "id": "5dbc202f-31cf-4763-a7bc-c893b7fdf945",
      "metadata": {
        "tags": [],
        "id": "5dbc202f-31cf-4763-a7bc-c893b7fdf945",
        "colab": {
          "base_uri": "https://localhost:8080/"
        },
        "outputId": "8ecf4803-50b9-44b0-96b5-ddc67c5fade4"
      },
      "outputs": [
        {
          "output_type": "stream",
          "name": "stdout",
          "text": [
            "<bound method Series.max of Juan     25\n",
            "Ana      30\n",
            "Pedro    35\n",
            "Maria    40\n",
            "Luis     45\n",
            "dtype: int64>\n"
          ]
        }
      ],
      "source": [
        "print(amigos.max)"
      ]
    },
    {
      "cell_type": "markdown",
      "id": "4c2ee295-5140-4c06-86c4-4cbfa3e6f8ab",
      "metadata": {
        "id": "4c2ee295-5140-4c06-86c4-4cbfa3e6f8ab"
      },
      "source": [
        "Convertir la lista de strings \"fechas_str\" en un objeto Series de pandas de tipo datetime, y asignarlo a la variable cumpleaños"
      ]
    },
    {
      "cell_type": "code",
      "execution_count": 214,
      "id": "cea7e275-ec9a-4164-9229-f79391216d76",
      "metadata": {
        "tags": [],
        "id": "cea7e275-ec9a-4164-9229-f79391216d76"
      },
      "outputs": [],
      "source": [
        "fechas_str = [\"1998-10-01\", \"2000-05-15\", \"1995-08-20\", \"1992-04-30\", \"1987-11-12\"]"
      ]
    },
    {
      "cell_type": "code",
      "execution_count": 215,
      "id": "9f671cab-a6db-4ac7-995b-e0630a002e96",
      "metadata": {
        "tags": [],
        "id": "9f671cab-a6db-4ac7-995b-e0630a002e96",
        "colab": {
          "base_uri": "https://localhost:8080/"
        },
        "outputId": "405b8b9d-1e44-47b8-970e-43dc21f48fd1"
      },
      "outputs": [
        {
          "output_type": "stream",
          "name": "stdout",
          "text": [
            "DatetimeIndex(['1998-10-01', '2000-05-15', '1995-08-20', '1992-04-30',\n",
            "               '1987-11-12'],\n",
            "              dtype='datetime64[ns]', freq=None)\n"
          ]
        }
      ],
      "source": [
        "cumpleaños = pd.to_datetime(fechas_str)\n",
        "print(cumpleaños)"
      ]
    },
    {
      "cell_type": "markdown",
      "id": "2b534370-fe6f-4452-bd6e-2ab864e4f387",
      "metadata": {
        "id": "2b534370-fe6f-4452-bd6e-2ab864e4f387"
      },
      "source": [
        "Obtener el día del mes para cada fecha en la Serie \"cumpleaños\""
      ]
    },
    {
      "cell_type": "code",
      "execution_count": 216,
      "id": "e6d16c37-61ed-4cd2-ba38-262b97901990",
      "metadata": {
        "tags": [],
        "id": "e6d16c37-61ed-4cd2-ba38-262b97901990",
        "colab": {
          "base_uri": "https://localhost:8080/"
        },
        "outputId": "eb3a398b-f4d7-4d02-8c18-233b9c03ec4c"
      },
      "outputs": [
        {
          "output_type": "stream",
          "name": "stdout",
          "text": [
            "Index([1, 15, 20, 30, 12], dtype='int32')\n"
          ]
        }
      ],
      "source": [
        "print(cumpleaños.day)"
      ]
    },
    {
      "cell_type": "markdown",
      "id": "0f71708a-6ca4-4a5a-b1fe-c291b04856f9",
      "metadata": {
        "id": "0f71708a-6ca4-4a5a-b1fe-c291b04856f9"
      },
      "source": [
        "Obtener el mes para cada fecha en la Serie \"cumpleaños\""
      ]
    },
    {
      "cell_type": "code",
      "execution_count": 217,
      "id": "91c23bef-c50f-474f-8f0f-2074fba4899d",
      "metadata": {
        "tags": [],
        "id": "91c23bef-c50f-474f-8f0f-2074fba4899d",
        "colab": {
          "base_uri": "https://localhost:8080/"
        },
        "outputId": "f2efc2b1-a446-41b7-ff48-497e3c19b886"
      },
      "outputs": [
        {
          "output_type": "stream",
          "name": "stdout",
          "text": [
            "Index([10, 5, 8, 4, 11], dtype='int32')\n"
          ]
        }
      ],
      "source": [
        "print(cumpleaños.month)"
      ]
    },
    {
      "cell_type": "markdown",
      "id": "b457235d-152b-4e99-a9d3-5f630b4140e3",
      "metadata": {
        "id": "b457235d-152b-4e99-a9d3-5f630b4140e3"
      },
      "source": [
        "Obtener el día de la semana para cada fecha en la Serie cumpleaños"
      ]
    },
    {
      "cell_type": "code",
      "execution_count": 218,
      "id": "7a091580-49b6-466e-9e32-5a9ccf93badb",
      "metadata": {
        "tags": [],
        "id": "7a091580-49b6-466e-9e32-5a9ccf93badb",
        "colab": {
          "base_uri": "https://localhost:8080/"
        },
        "outputId": "7fb11d0b-866a-4f1c-a72e-731d51813cef"
      },
      "outputs": [
        {
          "output_type": "stream",
          "name": "stdout",
          "text": [
            "Index([3, 0, 6, 3, 3], dtype='int32')\n"
          ]
        }
      ],
      "source": [
        "print(cumpleaños.dayofweek)"
      ]
    },
    {
      "cell_type": "markdown",
      "id": "2bcc4a7d-2ac0-458d-92d1-ec470027b8d3",
      "metadata": {
        "id": "2bcc4a7d-2ac0-458d-92d1-ec470027b8d3"
      },
      "source": [
        "Formatear cada fecha en la Serie cumpleaños al formato \"mm/dd/yy\""
      ]
    },
    {
      "cell_type": "code",
      "source": [
        "print(cumpleaños.strftime('%m/%d/%y'))"
      ],
      "metadata": {
        "colab": {
          "base_uri": "https://localhost:8080/"
        },
        "id": "Y2S383yvGgJg",
        "outputId": "3abf3563-1aa6-4725-b779-e90e480fd25c"
      },
      "id": "Y2S383yvGgJg",
      "execution_count": 219,
      "outputs": [
        {
          "output_type": "stream",
          "name": "stdout",
          "text": [
            "Index(['10/01/98', '05/15/00', '08/20/95', '04/30/92', '11/12/87'], dtype='object')\n"
          ]
        }
      ]
    },
    {
      "cell_type": "markdown",
      "id": "8a6fbe27-cfb0-42e5-ae8d-004b67a81a8a",
      "metadata": {
        "tags": [],
        "id": "8a6fbe27-cfb0-42e5-ae8d-004b67a81a8a"
      },
      "source": [
        "Crear un DataFrame de pandas utilizando la lista de diccionarios futbolistas, estableciendo la columna \"id\" como índice:"
      ]
    },
    {
      "cell_type": "code",
      "execution_count": 220,
      "id": "acf38fa8-1b1a-4818-befb-575b8c823b70",
      "metadata": {
        "tags": [],
        "id": "acf38fa8-1b1a-4818-befb-575b8c823b70"
      },
      "outputs": [],
      "source": [
        "futbolistas = [\n",
        "    {\"id\": 1, \"nombre\": \"Juan Pérez\", \"horas_entrenamiento\": 20, \"posición\": \"Delantero\", \"liga\": 1},\n",
        "    {\"id\": 2, \"nombre\": \"Carlos Ruiz\", \"horas_entrenamiento\": 18, \"posición\": \"Defensa\", \"liga\": 1},\n",
        "    {\"id\": 3, \"nombre\": \"Luis Gómez\", \"horas_entrenamiento\": 22, \"posición\": \"Centrocampista\", \"liga\": 1},\n",
        "    {\"id\": 4, \"nombre\": \"Miguel Fernández\", \"horas_entrenamiento\": 19, \"posición\": \"Portero\", \"liga\": 1},\n",
        "    {\"id\": 5, \"nombre\": \"Andrés Martínez\", \"horas_entrenamiento\": 21, \"posición\": \"Delantero\", \"liga\": 1},\n",
        "    {\"id\": 6, \"nombre\": \"Pedro Sánchez\", \"horas_entrenamiento\": 20, \"posición\": \"Centrocampista\", \"liga\": 2},\n",
        "    {\"id\": 7, \"nombre\": \"José López\", \"horas_entrenamiento\": 17, \"posición\": \"Defensa\", \"liga\": 2},\n",
        "    {\"id\": 8, \"nombre\": \"Fernando Díaz\", \"horas_entrenamiento\": 23, \"posición\": \"Delantero\", \"liga\": 2},\n",
        "    {\"id\": 9, \"nombre\": \"David Herrera\", \"horas_entrenamiento\": 16, \"posición\": \"Portero\", \"liga\": 2},\n",
        "    {\"id\": 10, \"nombre\": \"Rafael González\", \"horas_entrenamiento\": 19, \"posición\": \"Defensa\", \"liga\": 2},\n",
        "    {\"id\": 11, \"nombre\": \"Alberto Ramírez\", \"horas_entrenamiento\": 21, \"posición\": \"Delantero\", \"liga\": 3},\n",
        "    {\"id\": 12, \"nombre\": \"Gabriel Muñoz\", \"horas_entrenamiento\": 18, \"posición\": \"Centrocampista\", \"liga\": 3},\n",
        "    {\"id\": 13, \"nombre\": \"Mario Castillo\", \"horas_entrenamiento\": 20, \"posición\": \"Defensa\", \"liga\": 3},\n",
        "    {\"id\": 14, \"nombre\": \"Enrique Jiménez\", \"horas_entrenamiento\": 17, \"posición\": \"Portero\", \"liga\": 3},\n",
        "    {\"id\": 15, \"nombre\": \"Jorge Romero\", \"horas_entrenamiento\": 22, \"posición\": \"Delantero\", \"liga\": 4},\n",
        "    {\"id\": 16, \"nombre\": \"Ricardo Hernández\", \"horas_entrenamiento\": 19, \"posición\": \"Defensa\", \"liga\": 4},\n",
        "    {\"id\": 17, \"nombre\": \"Diego Vega\", \"horas_entrenamiento\": 20, \"posición\": \"Centrocampista\", \"liga\": 4},\n",
        "    {\"id\": 18, \"nombre\": \"Adrián Navarro\", \"horas_entrenamiento\": 21, \"posición\": \"Portero\", \"liga\": 4},\n",
        "    {\"id\": 19, \"nombre\": \"Pablo Flores\", \"horas_entrenamiento\": 23, \"posición\": \"Delantero\", \"liga\": 1},\n",
        "    {\"id\": 20, \"nombre\": \"Santiago Torres\", \"horas_entrenamiento\": 16, \"posición\": \"Defensa\", \"liga\": 1}\n",
        "]"
      ]
    },
    {
      "cell_type": "code",
      "execution_count": 221,
      "id": "085ddbc7-5368-489e-963d-f49fca6d0de4",
      "metadata": {
        "tags": [],
        "id": "085ddbc7-5368-489e-963d-f49fca6d0de4",
        "colab": {
          "base_uri": "https://localhost:8080/",
          "height": 708
        },
        "outputId": "4cfad2cd-0332-43c4-f309-7ac3c37cb8fd"
      },
      "outputs": [
        {
          "output_type": "display_data",
          "data": {
            "text/plain": [
              "               nombre  horas_entrenamiento        posición  liga\n",
              "id                                                              \n",
              "1          Juan Pérez                   20       Delantero     1\n",
              "2         Carlos Ruiz                   18         Defensa     1\n",
              "3          Luis Gómez                   22  Centrocampista     1\n",
              "4    Miguel Fernández                   19         Portero     1\n",
              "5     Andrés Martínez                   21       Delantero     1\n",
              "6       Pedro Sánchez                   20  Centrocampista     2\n",
              "7          José López                   17         Defensa     2\n",
              "8       Fernando Díaz                   23       Delantero     2\n",
              "9       David Herrera                   16         Portero     2\n",
              "10    Rafael González                   19         Defensa     2\n",
              "11    Alberto Ramírez                   21       Delantero     3\n",
              "12      Gabriel Muñoz                   18  Centrocampista     3\n",
              "13     Mario Castillo                   20         Defensa     3\n",
              "14    Enrique Jiménez                   17         Portero     3\n",
              "15       Jorge Romero                   22       Delantero     4\n",
              "16  Ricardo Hernández                   19         Defensa     4\n",
              "17         Diego Vega                   20  Centrocampista     4\n",
              "18     Adrián Navarro                   21         Portero     4\n",
              "19       Pablo Flores                   23       Delantero     1\n",
              "20    Santiago Torres                   16         Defensa     1"
            ],
            "text/html": [
              "\n",
              "  <div id=\"df-1814db10-07d6-421a-b063-15d9ad62480d\" class=\"colab-df-container\">\n",
              "    <div>\n",
              "<style scoped>\n",
              "    .dataframe tbody tr th:only-of-type {\n",
              "        vertical-align: middle;\n",
              "    }\n",
              "\n",
              "    .dataframe tbody tr th {\n",
              "        vertical-align: top;\n",
              "    }\n",
              "\n",
              "    .dataframe thead th {\n",
              "        text-align: right;\n",
              "    }\n",
              "</style>\n",
              "<table border=\"1\" class=\"dataframe\">\n",
              "  <thead>\n",
              "    <tr style=\"text-align: right;\">\n",
              "      <th></th>\n",
              "      <th>nombre</th>\n",
              "      <th>horas_entrenamiento</th>\n",
              "      <th>posición</th>\n",
              "      <th>liga</th>\n",
              "    </tr>\n",
              "    <tr>\n",
              "      <th>id</th>\n",
              "      <th></th>\n",
              "      <th></th>\n",
              "      <th></th>\n",
              "      <th></th>\n",
              "    </tr>\n",
              "  </thead>\n",
              "  <tbody>\n",
              "    <tr>\n",
              "      <th>1</th>\n",
              "      <td>Juan Pérez</td>\n",
              "      <td>20</td>\n",
              "      <td>Delantero</td>\n",
              "      <td>1</td>\n",
              "    </tr>\n",
              "    <tr>\n",
              "      <th>2</th>\n",
              "      <td>Carlos Ruiz</td>\n",
              "      <td>18</td>\n",
              "      <td>Defensa</td>\n",
              "      <td>1</td>\n",
              "    </tr>\n",
              "    <tr>\n",
              "      <th>3</th>\n",
              "      <td>Luis Gómez</td>\n",
              "      <td>22</td>\n",
              "      <td>Centrocampista</td>\n",
              "      <td>1</td>\n",
              "    </tr>\n",
              "    <tr>\n",
              "      <th>4</th>\n",
              "      <td>Miguel Fernández</td>\n",
              "      <td>19</td>\n",
              "      <td>Portero</td>\n",
              "      <td>1</td>\n",
              "    </tr>\n",
              "    <tr>\n",
              "      <th>5</th>\n",
              "      <td>Andrés Martínez</td>\n",
              "      <td>21</td>\n",
              "      <td>Delantero</td>\n",
              "      <td>1</td>\n",
              "    </tr>\n",
              "    <tr>\n",
              "      <th>6</th>\n",
              "      <td>Pedro Sánchez</td>\n",
              "      <td>20</td>\n",
              "      <td>Centrocampista</td>\n",
              "      <td>2</td>\n",
              "    </tr>\n",
              "    <tr>\n",
              "      <th>7</th>\n",
              "      <td>José López</td>\n",
              "      <td>17</td>\n",
              "      <td>Defensa</td>\n",
              "      <td>2</td>\n",
              "    </tr>\n",
              "    <tr>\n",
              "      <th>8</th>\n",
              "      <td>Fernando Díaz</td>\n",
              "      <td>23</td>\n",
              "      <td>Delantero</td>\n",
              "      <td>2</td>\n",
              "    </tr>\n",
              "    <tr>\n",
              "      <th>9</th>\n",
              "      <td>David Herrera</td>\n",
              "      <td>16</td>\n",
              "      <td>Portero</td>\n",
              "      <td>2</td>\n",
              "    </tr>\n",
              "    <tr>\n",
              "      <th>10</th>\n",
              "      <td>Rafael González</td>\n",
              "      <td>19</td>\n",
              "      <td>Defensa</td>\n",
              "      <td>2</td>\n",
              "    </tr>\n",
              "    <tr>\n",
              "      <th>11</th>\n",
              "      <td>Alberto Ramírez</td>\n",
              "      <td>21</td>\n",
              "      <td>Delantero</td>\n",
              "      <td>3</td>\n",
              "    </tr>\n",
              "    <tr>\n",
              "      <th>12</th>\n",
              "      <td>Gabriel Muñoz</td>\n",
              "      <td>18</td>\n",
              "      <td>Centrocampista</td>\n",
              "      <td>3</td>\n",
              "    </tr>\n",
              "    <tr>\n",
              "      <th>13</th>\n",
              "      <td>Mario Castillo</td>\n",
              "      <td>20</td>\n",
              "      <td>Defensa</td>\n",
              "      <td>3</td>\n",
              "    </tr>\n",
              "    <tr>\n",
              "      <th>14</th>\n",
              "      <td>Enrique Jiménez</td>\n",
              "      <td>17</td>\n",
              "      <td>Portero</td>\n",
              "      <td>3</td>\n",
              "    </tr>\n",
              "    <tr>\n",
              "      <th>15</th>\n",
              "      <td>Jorge Romero</td>\n",
              "      <td>22</td>\n",
              "      <td>Delantero</td>\n",
              "      <td>4</td>\n",
              "    </tr>\n",
              "    <tr>\n",
              "      <th>16</th>\n",
              "      <td>Ricardo Hernández</td>\n",
              "      <td>19</td>\n",
              "      <td>Defensa</td>\n",
              "      <td>4</td>\n",
              "    </tr>\n",
              "    <tr>\n",
              "      <th>17</th>\n",
              "      <td>Diego Vega</td>\n",
              "      <td>20</td>\n",
              "      <td>Centrocampista</td>\n",
              "      <td>4</td>\n",
              "    </tr>\n",
              "    <tr>\n",
              "      <th>18</th>\n",
              "      <td>Adrián Navarro</td>\n",
              "      <td>21</td>\n",
              "      <td>Portero</td>\n",
              "      <td>4</td>\n",
              "    </tr>\n",
              "    <tr>\n",
              "      <th>19</th>\n",
              "      <td>Pablo Flores</td>\n",
              "      <td>23</td>\n",
              "      <td>Delantero</td>\n",
              "      <td>1</td>\n",
              "    </tr>\n",
              "    <tr>\n",
              "      <th>20</th>\n",
              "      <td>Santiago Torres</td>\n",
              "      <td>16</td>\n",
              "      <td>Defensa</td>\n",
              "      <td>1</td>\n",
              "    </tr>\n",
              "  </tbody>\n",
              "</table>\n",
              "</div>\n",
              "    <div class=\"colab-df-buttons\">\n",
              "\n",
              "  <div class=\"colab-df-container\">\n",
              "    <button class=\"colab-df-convert\" onclick=\"convertToInteractive('df-1814db10-07d6-421a-b063-15d9ad62480d')\"\n",
              "            title=\"Convert this dataframe to an interactive table.\"\n",
              "            style=\"display:none;\">\n",
              "\n",
              "  <svg xmlns=\"http://www.w3.org/2000/svg\" height=\"24px\" viewBox=\"0 -960 960 960\">\n",
              "    <path d=\"M120-120v-720h720v720H120Zm60-500h600v-160H180v160Zm220 220h160v-160H400v160Zm0 220h160v-160H400v160ZM180-400h160v-160H180v160Zm440 0h160v-160H620v160ZM180-180h160v-160H180v160Zm440 0h160v-160H620v160Z\"/>\n",
              "  </svg>\n",
              "    </button>\n",
              "\n",
              "  <style>\n",
              "    .colab-df-container {\n",
              "      display:flex;\n",
              "      gap: 12px;\n",
              "    }\n",
              "\n",
              "    .colab-df-convert {\n",
              "      background-color: #E8F0FE;\n",
              "      border: none;\n",
              "      border-radius: 50%;\n",
              "      cursor: pointer;\n",
              "      display: none;\n",
              "      fill: #1967D2;\n",
              "      height: 32px;\n",
              "      padding: 0 0 0 0;\n",
              "      width: 32px;\n",
              "    }\n",
              "\n",
              "    .colab-df-convert:hover {\n",
              "      background-color: #E2EBFA;\n",
              "      box-shadow: 0px 1px 2px rgba(60, 64, 67, 0.3), 0px 1px 3px 1px rgba(60, 64, 67, 0.15);\n",
              "      fill: #174EA6;\n",
              "    }\n",
              "\n",
              "    .colab-df-buttons div {\n",
              "      margin-bottom: 4px;\n",
              "    }\n",
              "\n",
              "    [theme=dark] .colab-df-convert {\n",
              "      background-color: #3B4455;\n",
              "      fill: #D2E3FC;\n",
              "    }\n",
              "\n",
              "    [theme=dark] .colab-df-convert:hover {\n",
              "      background-color: #434B5C;\n",
              "      box-shadow: 0px 1px 3px 1px rgba(0, 0, 0, 0.15);\n",
              "      filter: drop-shadow(0px 1px 2px rgba(0, 0, 0, 0.3));\n",
              "      fill: #FFFFFF;\n",
              "    }\n",
              "  </style>\n",
              "\n",
              "    <script>\n",
              "      const buttonEl =\n",
              "        document.querySelector('#df-1814db10-07d6-421a-b063-15d9ad62480d button.colab-df-convert');\n",
              "      buttonEl.style.display =\n",
              "        google.colab.kernel.accessAllowed ? 'block' : 'none';\n",
              "\n",
              "      async function convertToInteractive(key) {\n",
              "        const element = document.querySelector('#df-1814db10-07d6-421a-b063-15d9ad62480d');\n",
              "        const dataTable =\n",
              "          await google.colab.kernel.invokeFunction('convertToInteractive',\n",
              "                                                    [key], {});\n",
              "        if (!dataTable) return;\n",
              "\n",
              "        const docLinkHtml = 'Like what you see? Visit the ' +\n",
              "          '<a target=\"_blank\" href=https://colab.research.google.com/notebooks/data_table.ipynb>data table notebook</a>'\n",
              "          + ' to learn more about interactive tables.';\n",
              "        element.innerHTML = '';\n",
              "        dataTable['output_type'] = 'display_data';\n",
              "        await google.colab.output.renderOutput(dataTable, element);\n",
              "        const docLink = document.createElement('div');\n",
              "        docLink.innerHTML = docLinkHtml;\n",
              "        element.appendChild(docLink);\n",
              "      }\n",
              "    </script>\n",
              "  </div>\n",
              "\n",
              "\n",
              "    <div id=\"df-ac7ad239-f39e-4829-8f0b-07e279e0b6df\">\n",
              "      <button class=\"colab-df-quickchart\" onclick=\"quickchart('df-ac7ad239-f39e-4829-8f0b-07e279e0b6df')\"\n",
              "                title=\"Suggest charts\"\n",
              "                style=\"display:none;\">\n",
              "\n",
              "<svg xmlns=\"http://www.w3.org/2000/svg\" height=\"24px\"viewBox=\"0 0 24 24\"\n",
              "     width=\"24px\">\n",
              "    <g>\n",
              "        <path d=\"M19 3H5c-1.1 0-2 .9-2 2v14c0 1.1.9 2 2 2h14c1.1 0 2-.9 2-2V5c0-1.1-.9-2-2-2zM9 17H7v-7h2v7zm4 0h-2V7h2v10zm4 0h-2v-4h2v4z\"/>\n",
              "    </g>\n",
              "</svg>\n",
              "      </button>\n",
              "\n",
              "<style>\n",
              "  .colab-df-quickchart {\n",
              "      --bg-color: #E8F0FE;\n",
              "      --fill-color: #1967D2;\n",
              "      --hover-bg-color: #E2EBFA;\n",
              "      --hover-fill-color: #174EA6;\n",
              "      --disabled-fill-color: #AAA;\n",
              "      --disabled-bg-color: #DDD;\n",
              "  }\n",
              "\n",
              "  [theme=dark] .colab-df-quickchart {\n",
              "      --bg-color: #3B4455;\n",
              "      --fill-color: #D2E3FC;\n",
              "      --hover-bg-color: #434B5C;\n",
              "      --hover-fill-color: #FFFFFF;\n",
              "      --disabled-bg-color: #3B4455;\n",
              "      --disabled-fill-color: #666;\n",
              "  }\n",
              "\n",
              "  .colab-df-quickchart {\n",
              "    background-color: var(--bg-color);\n",
              "    border: none;\n",
              "    border-radius: 50%;\n",
              "    cursor: pointer;\n",
              "    display: none;\n",
              "    fill: var(--fill-color);\n",
              "    height: 32px;\n",
              "    padding: 0;\n",
              "    width: 32px;\n",
              "  }\n",
              "\n",
              "  .colab-df-quickchart:hover {\n",
              "    background-color: var(--hover-bg-color);\n",
              "    box-shadow: 0 1px 2px rgba(60, 64, 67, 0.3), 0 1px 3px 1px rgba(60, 64, 67, 0.15);\n",
              "    fill: var(--button-hover-fill-color);\n",
              "  }\n",
              "\n",
              "  .colab-df-quickchart-complete:disabled,\n",
              "  .colab-df-quickchart-complete:disabled:hover {\n",
              "    background-color: var(--disabled-bg-color);\n",
              "    fill: var(--disabled-fill-color);\n",
              "    box-shadow: none;\n",
              "  }\n",
              "\n",
              "  .colab-df-spinner {\n",
              "    border: 2px solid var(--fill-color);\n",
              "    border-color: transparent;\n",
              "    border-bottom-color: var(--fill-color);\n",
              "    animation:\n",
              "      spin 1s steps(1) infinite;\n",
              "  }\n",
              "\n",
              "  @keyframes spin {\n",
              "    0% {\n",
              "      border-color: transparent;\n",
              "      border-bottom-color: var(--fill-color);\n",
              "      border-left-color: var(--fill-color);\n",
              "    }\n",
              "    20% {\n",
              "      border-color: transparent;\n",
              "      border-left-color: var(--fill-color);\n",
              "      border-top-color: var(--fill-color);\n",
              "    }\n",
              "    30% {\n",
              "      border-color: transparent;\n",
              "      border-left-color: var(--fill-color);\n",
              "      border-top-color: var(--fill-color);\n",
              "      border-right-color: var(--fill-color);\n",
              "    }\n",
              "    40% {\n",
              "      border-color: transparent;\n",
              "      border-right-color: var(--fill-color);\n",
              "      border-top-color: var(--fill-color);\n",
              "    }\n",
              "    60% {\n",
              "      border-color: transparent;\n",
              "      border-right-color: var(--fill-color);\n",
              "    }\n",
              "    80% {\n",
              "      border-color: transparent;\n",
              "      border-right-color: var(--fill-color);\n",
              "      border-bottom-color: var(--fill-color);\n",
              "    }\n",
              "    90% {\n",
              "      border-color: transparent;\n",
              "      border-bottom-color: var(--fill-color);\n",
              "    }\n",
              "  }\n",
              "</style>\n",
              "\n",
              "      <script>\n",
              "        async function quickchart(key) {\n",
              "          const quickchartButtonEl =\n",
              "            document.querySelector('#' + key + ' button');\n",
              "          quickchartButtonEl.disabled = true;  // To prevent multiple clicks.\n",
              "          quickchartButtonEl.classList.add('colab-df-spinner');\n",
              "          try {\n",
              "            const charts = await google.colab.kernel.invokeFunction(\n",
              "                'suggestCharts', [key], {});\n",
              "          } catch (error) {\n",
              "            console.error('Error during call to suggestCharts:', error);\n",
              "          }\n",
              "          quickchartButtonEl.classList.remove('colab-df-spinner');\n",
              "          quickchartButtonEl.classList.add('colab-df-quickchart-complete');\n",
              "        }\n",
              "        (() => {\n",
              "          let quickchartButtonEl =\n",
              "            document.querySelector('#df-ac7ad239-f39e-4829-8f0b-07e279e0b6df button');\n",
              "          quickchartButtonEl.style.display =\n",
              "            google.colab.kernel.accessAllowed ? 'block' : 'none';\n",
              "        })();\n",
              "      </script>\n",
              "    </div>\n",
              "\n",
              "  <div id=\"id_35c51e19-ddea-4adb-b5e3-d546db325b9c\">\n",
              "    <style>\n",
              "      .colab-df-generate {\n",
              "        background-color: #E8F0FE;\n",
              "        border: none;\n",
              "        border-radius: 50%;\n",
              "        cursor: pointer;\n",
              "        display: none;\n",
              "        fill: #1967D2;\n",
              "        height: 32px;\n",
              "        padding: 0 0 0 0;\n",
              "        width: 32px;\n",
              "      }\n",
              "\n",
              "      .colab-df-generate:hover {\n",
              "        background-color: #E2EBFA;\n",
              "        box-shadow: 0px 1px 2px rgba(60, 64, 67, 0.3), 0px 1px 3px 1px rgba(60, 64, 67, 0.15);\n",
              "        fill: #174EA6;\n",
              "      }\n",
              "\n",
              "      [theme=dark] .colab-df-generate {\n",
              "        background-color: #3B4455;\n",
              "        fill: #D2E3FC;\n",
              "      }\n",
              "\n",
              "      [theme=dark] .colab-df-generate:hover {\n",
              "        background-color: #434B5C;\n",
              "        box-shadow: 0px 1px 3px 1px rgba(0, 0, 0, 0.15);\n",
              "        filter: drop-shadow(0px 1px 2px rgba(0, 0, 0, 0.3));\n",
              "        fill: #FFFFFF;\n",
              "      }\n",
              "    </style>\n",
              "    <button class=\"colab-df-generate\" onclick=\"generateWithVariable('df_futbolistas')\"\n",
              "            title=\"Generate code using this dataframe.\"\n",
              "            style=\"display:none;\">\n",
              "\n",
              "  <svg xmlns=\"http://www.w3.org/2000/svg\" height=\"24px\"viewBox=\"0 0 24 24\"\n",
              "       width=\"24px\">\n",
              "    <path d=\"M7,19H8.4L18.45,9,17,7.55,7,17.6ZM5,21V16.75L18.45,3.32a2,2,0,0,1,2.83,0l1.4,1.43a1.91,1.91,0,0,1,.58,1.4,1.91,1.91,0,0,1-.58,1.4L9.25,21ZM18.45,9,17,7.55Zm-12,3A5.31,5.31,0,0,0,4.9,8.1,5.31,5.31,0,0,0,1,6.5,5.31,5.31,0,0,0,4.9,4.9,5.31,5.31,0,0,0,6.5,1,5.31,5.31,0,0,0,8.1,4.9,5.31,5.31,0,0,0,12,6.5,5.46,5.46,0,0,0,6.5,12Z\"/>\n",
              "  </svg>\n",
              "    </button>\n",
              "    <script>\n",
              "      (() => {\n",
              "      const buttonEl =\n",
              "        document.querySelector('#id_35c51e19-ddea-4adb-b5e3-d546db325b9c button.colab-df-generate');\n",
              "      buttonEl.style.display =\n",
              "        google.colab.kernel.accessAllowed ? 'block' : 'none';\n",
              "\n",
              "      buttonEl.onclick = () => {\n",
              "        google.colab.notebook.generateWithVariable('df_futbolistas');\n",
              "      }\n",
              "      })();\n",
              "    </script>\n",
              "  </div>\n",
              "\n",
              "    </div>\n",
              "  </div>\n"
            ],
            "application/vnd.google.colaboratory.intrinsic+json": {
              "type": "dataframe",
              "variable_name": "df_futbolistas",
              "summary": "{\n  \"name\": \"df_futbolistas\",\n  \"rows\": 20,\n  \"fields\": [\n    {\n      \"column\": \"id\",\n      \"properties\": {\n        \"dtype\": \"number\",\n        \"std\": 5,\n        \"min\": 1,\n        \"max\": 20,\n        \"num_unique_values\": 20,\n        \"samples\": [\n          1,\n          18,\n          16\n        ],\n        \"semantic_type\": \"\",\n        \"description\": \"\"\n      }\n    },\n    {\n      \"column\": \"nombre\",\n      \"properties\": {\n        \"dtype\": \"string\",\n        \"num_unique_values\": 20,\n        \"samples\": [\n          \"Juan P\\u00e9rez\",\n          \"Adri\\u00e1n Navarro\",\n          \"Ricardo Hern\\u00e1ndez\"\n        ],\n        \"semantic_type\": \"\",\n        \"description\": \"\"\n      }\n    },\n    {\n      \"column\": \"horas_entrenamiento\",\n      \"properties\": {\n        \"dtype\": \"number\",\n        \"std\": 2,\n        \"min\": 16,\n        \"max\": 23,\n        \"num_unique_values\": 8,\n        \"samples\": [\n          18,\n          17,\n          20\n        ],\n        \"semantic_type\": \"\",\n        \"description\": \"\"\n      }\n    },\n    {\n      \"column\": \"posici\\u00f3n\",\n      \"properties\": {\n        \"dtype\": \"category\",\n        \"num_unique_values\": 4,\n        \"samples\": [\n          \"Defensa\",\n          \"Portero\",\n          \"Delantero\"\n        ],\n        \"semantic_type\": \"\",\n        \"description\": \"\"\n      }\n    },\n    {\n      \"column\": \"liga\",\n      \"properties\": {\n        \"dtype\": \"number\",\n        \"std\": 1,\n        \"min\": 1,\n        \"max\": 4,\n        \"num_unique_values\": 4,\n        \"samples\": [\n          2,\n          4,\n          1\n        ],\n        \"semantic_type\": \"\",\n        \"description\": \"\"\n      }\n    }\n  ]\n}"
            }
          },
          "metadata": {}
        }
      ],
      "source": [
        "df_futbolistas = pd.DataFrame(futbolistas).set_index(\"id\")\n",
        "display(df_futbolistas)"
      ]
    },
    {
      "cell_type": "markdown",
      "id": "9fdadd0d-67ba-4018-bfaa-a145f93ac7bb",
      "metadata": {
        "id": "9fdadd0d-67ba-4018-bfaa-a145f93ac7bb"
      },
      "source": [
        "Seleccionar las columnas \"nombre\" y \"posición\" del DataFrame \"futbolistas\""
      ]
    },
    {
      "cell_type": "code",
      "execution_count": 222,
      "id": "ab30d5e7-b528-4bf1-b060-2c6cd5985d08",
      "metadata": {
        "tags": [],
        "id": "ab30d5e7-b528-4bf1-b060-2c6cd5985d08",
        "colab": {
          "base_uri": "https://localhost:8080/",
          "height": 708
        },
        "outputId": "e2114554-1744-4a83-fd9e-e3ecee031d1f"
      },
      "outputs": [
        {
          "output_type": "execute_result",
          "data": {
            "text/plain": [
              "               nombre        posición\n",
              "id                                   \n",
              "1          Juan Pérez       Delantero\n",
              "2         Carlos Ruiz         Defensa\n",
              "3          Luis Gómez  Centrocampista\n",
              "4    Miguel Fernández         Portero\n",
              "5     Andrés Martínez       Delantero\n",
              "6       Pedro Sánchez  Centrocampista\n",
              "7          José López         Defensa\n",
              "8       Fernando Díaz       Delantero\n",
              "9       David Herrera         Portero\n",
              "10    Rafael González         Defensa\n",
              "11    Alberto Ramírez       Delantero\n",
              "12      Gabriel Muñoz  Centrocampista\n",
              "13     Mario Castillo         Defensa\n",
              "14    Enrique Jiménez         Portero\n",
              "15       Jorge Romero       Delantero\n",
              "16  Ricardo Hernández         Defensa\n",
              "17         Diego Vega  Centrocampista\n",
              "18     Adrián Navarro         Portero\n",
              "19       Pablo Flores       Delantero\n",
              "20    Santiago Torres         Defensa"
            ],
            "text/html": [
              "\n",
              "  <div id=\"df-f3d486f8-b7ed-4527-a269-7ef75e418539\" class=\"colab-df-container\">\n",
              "    <div>\n",
              "<style scoped>\n",
              "    .dataframe tbody tr th:only-of-type {\n",
              "        vertical-align: middle;\n",
              "    }\n",
              "\n",
              "    .dataframe tbody tr th {\n",
              "        vertical-align: top;\n",
              "    }\n",
              "\n",
              "    .dataframe thead th {\n",
              "        text-align: right;\n",
              "    }\n",
              "</style>\n",
              "<table border=\"1\" class=\"dataframe\">\n",
              "  <thead>\n",
              "    <tr style=\"text-align: right;\">\n",
              "      <th></th>\n",
              "      <th>nombre</th>\n",
              "      <th>posición</th>\n",
              "    </tr>\n",
              "    <tr>\n",
              "      <th>id</th>\n",
              "      <th></th>\n",
              "      <th></th>\n",
              "    </tr>\n",
              "  </thead>\n",
              "  <tbody>\n",
              "    <tr>\n",
              "      <th>1</th>\n",
              "      <td>Juan Pérez</td>\n",
              "      <td>Delantero</td>\n",
              "    </tr>\n",
              "    <tr>\n",
              "      <th>2</th>\n",
              "      <td>Carlos Ruiz</td>\n",
              "      <td>Defensa</td>\n",
              "    </tr>\n",
              "    <tr>\n",
              "      <th>3</th>\n",
              "      <td>Luis Gómez</td>\n",
              "      <td>Centrocampista</td>\n",
              "    </tr>\n",
              "    <tr>\n",
              "      <th>4</th>\n",
              "      <td>Miguel Fernández</td>\n",
              "      <td>Portero</td>\n",
              "    </tr>\n",
              "    <tr>\n",
              "      <th>5</th>\n",
              "      <td>Andrés Martínez</td>\n",
              "      <td>Delantero</td>\n",
              "    </tr>\n",
              "    <tr>\n",
              "      <th>6</th>\n",
              "      <td>Pedro Sánchez</td>\n",
              "      <td>Centrocampista</td>\n",
              "    </tr>\n",
              "    <tr>\n",
              "      <th>7</th>\n",
              "      <td>José López</td>\n",
              "      <td>Defensa</td>\n",
              "    </tr>\n",
              "    <tr>\n",
              "      <th>8</th>\n",
              "      <td>Fernando Díaz</td>\n",
              "      <td>Delantero</td>\n",
              "    </tr>\n",
              "    <tr>\n",
              "      <th>9</th>\n",
              "      <td>David Herrera</td>\n",
              "      <td>Portero</td>\n",
              "    </tr>\n",
              "    <tr>\n",
              "      <th>10</th>\n",
              "      <td>Rafael González</td>\n",
              "      <td>Defensa</td>\n",
              "    </tr>\n",
              "    <tr>\n",
              "      <th>11</th>\n",
              "      <td>Alberto Ramírez</td>\n",
              "      <td>Delantero</td>\n",
              "    </tr>\n",
              "    <tr>\n",
              "      <th>12</th>\n",
              "      <td>Gabriel Muñoz</td>\n",
              "      <td>Centrocampista</td>\n",
              "    </tr>\n",
              "    <tr>\n",
              "      <th>13</th>\n",
              "      <td>Mario Castillo</td>\n",
              "      <td>Defensa</td>\n",
              "    </tr>\n",
              "    <tr>\n",
              "      <th>14</th>\n",
              "      <td>Enrique Jiménez</td>\n",
              "      <td>Portero</td>\n",
              "    </tr>\n",
              "    <tr>\n",
              "      <th>15</th>\n",
              "      <td>Jorge Romero</td>\n",
              "      <td>Delantero</td>\n",
              "    </tr>\n",
              "    <tr>\n",
              "      <th>16</th>\n",
              "      <td>Ricardo Hernández</td>\n",
              "      <td>Defensa</td>\n",
              "    </tr>\n",
              "    <tr>\n",
              "      <th>17</th>\n",
              "      <td>Diego Vega</td>\n",
              "      <td>Centrocampista</td>\n",
              "    </tr>\n",
              "    <tr>\n",
              "      <th>18</th>\n",
              "      <td>Adrián Navarro</td>\n",
              "      <td>Portero</td>\n",
              "    </tr>\n",
              "    <tr>\n",
              "      <th>19</th>\n",
              "      <td>Pablo Flores</td>\n",
              "      <td>Delantero</td>\n",
              "    </tr>\n",
              "    <tr>\n",
              "      <th>20</th>\n",
              "      <td>Santiago Torres</td>\n",
              "      <td>Defensa</td>\n",
              "    </tr>\n",
              "  </tbody>\n",
              "</table>\n",
              "</div>\n",
              "    <div class=\"colab-df-buttons\">\n",
              "\n",
              "  <div class=\"colab-df-container\">\n",
              "    <button class=\"colab-df-convert\" onclick=\"convertToInteractive('df-f3d486f8-b7ed-4527-a269-7ef75e418539')\"\n",
              "            title=\"Convert this dataframe to an interactive table.\"\n",
              "            style=\"display:none;\">\n",
              "\n",
              "  <svg xmlns=\"http://www.w3.org/2000/svg\" height=\"24px\" viewBox=\"0 -960 960 960\">\n",
              "    <path d=\"M120-120v-720h720v720H120Zm60-500h600v-160H180v160Zm220 220h160v-160H400v160Zm0 220h160v-160H400v160ZM180-400h160v-160H180v160Zm440 0h160v-160H620v160ZM180-180h160v-160H180v160Zm440 0h160v-160H620v160Z\"/>\n",
              "  </svg>\n",
              "    </button>\n",
              "\n",
              "  <style>\n",
              "    .colab-df-container {\n",
              "      display:flex;\n",
              "      gap: 12px;\n",
              "    }\n",
              "\n",
              "    .colab-df-convert {\n",
              "      background-color: #E8F0FE;\n",
              "      border: none;\n",
              "      border-radius: 50%;\n",
              "      cursor: pointer;\n",
              "      display: none;\n",
              "      fill: #1967D2;\n",
              "      height: 32px;\n",
              "      padding: 0 0 0 0;\n",
              "      width: 32px;\n",
              "    }\n",
              "\n",
              "    .colab-df-convert:hover {\n",
              "      background-color: #E2EBFA;\n",
              "      box-shadow: 0px 1px 2px rgba(60, 64, 67, 0.3), 0px 1px 3px 1px rgba(60, 64, 67, 0.15);\n",
              "      fill: #174EA6;\n",
              "    }\n",
              "\n",
              "    .colab-df-buttons div {\n",
              "      margin-bottom: 4px;\n",
              "    }\n",
              "\n",
              "    [theme=dark] .colab-df-convert {\n",
              "      background-color: #3B4455;\n",
              "      fill: #D2E3FC;\n",
              "    }\n",
              "\n",
              "    [theme=dark] .colab-df-convert:hover {\n",
              "      background-color: #434B5C;\n",
              "      box-shadow: 0px 1px 3px 1px rgba(0, 0, 0, 0.15);\n",
              "      filter: drop-shadow(0px 1px 2px rgba(0, 0, 0, 0.3));\n",
              "      fill: #FFFFFF;\n",
              "    }\n",
              "  </style>\n",
              "\n",
              "    <script>\n",
              "      const buttonEl =\n",
              "        document.querySelector('#df-f3d486f8-b7ed-4527-a269-7ef75e418539 button.colab-df-convert');\n",
              "      buttonEl.style.display =\n",
              "        google.colab.kernel.accessAllowed ? 'block' : 'none';\n",
              "\n",
              "      async function convertToInteractive(key) {\n",
              "        const element = document.querySelector('#df-f3d486f8-b7ed-4527-a269-7ef75e418539');\n",
              "        const dataTable =\n",
              "          await google.colab.kernel.invokeFunction('convertToInteractive',\n",
              "                                                    [key], {});\n",
              "        if (!dataTable) return;\n",
              "\n",
              "        const docLinkHtml = 'Like what you see? Visit the ' +\n",
              "          '<a target=\"_blank\" href=https://colab.research.google.com/notebooks/data_table.ipynb>data table notebook</a>'\n",
              "          + ' to learn more about interactive tables.';\n",
              "        element.innerHTML = '';\n",
              "        dataTable['output_type'] = 'display_data';\n",
              "        await google.colab.output.renderOutput(dataTable, element);\n",
              "        const docLink = document.createElement('div');\n",
              "        docLink.innerHTML = docLinkHtml;\n",
              "        element.appendChild(docLink);\n",
              "      }\n",
              "    </script>\n",
              "  </div>\n",
              "\n",
              "\n",
              "    <div id=\"df-8c3c0600-1012-443e-9932-48200431503b\">\n",
              "      <button class=\"colab-df-quickchart\" onclick=\"quickchart('df-8c3c0600-1012-443e-9932-48200431503b')\"\n",
              "                title=\"Suggest charts\"\n",
              "                style=\"display:none;\">\n",
              "\n",
              "<svg xmlns=\"http://www.w3.org/2000/svg\" height=\"24px\"viewBox=\"0 0 24 24\"\n",
              "     width=\"24px\">\n",
              "    <g>\n",
              "        <path d=\"M19 3H5c-1.1 0-2 .9-2 2v14c0 1.1.9 2 2 2h14c1.1 0 2-.9 2-2V5c0-1.1-.9-2-2-2zM9 17H7v-7h2v7zm4 0h-2V7h2v10zm4 0h-2v-4h2v4z\"/>\n",
              "    </g>\n",
              "</svg>\n",
              "      </button>\n",
              "\n",
              "<style>\n",
              "  .colab-df-quickchart {\n",
              "      --bg-color: #E8F0FE;\n",
              "      --fill-color: #1967D2;\n",
              "      --hover-bg-color: #E2EBFA;\n",
              "      --hover-fill-color: #174EA6;\n",
              "      --disabled-fill-color: #AAA;\n",
              "      --disabled-bg-color: #DDD;\n",
              "  }\n",
              "\n",
              "  [theme=dark] .colab-df-quickchart {\n",
              "      --bg-color: #3B4455;\n",
              "      --fill-color: #D2E3FC;\n",
              "      --hover-bg-color: #434B5C;\n",
              "      --hover-fill-color: #FFFFFF;\n",
              "      --disabled-bg-color: #3B4455;\n",
              "      --disabled-fill-color: #666;\n",
              "  }\n",
              "\n",
              "  .colab-df-quickchart {\n",
              "    background-color: var(--bg-color);\n",
              "    border: none;\n",
              "    border-radius: 50%;\n",
              "    cursor: pointer;\n",
              "    display: none;\n",
              "    fill: var(--fill-color);\n",
              "    height: 32px;\n",
              "    padding: 0;\n",
              "    width: 32px;\n",
              "  }\n",
              "\n",
              "  .colab-df-quickchart:hover {\n",
              "    background-color: var(--hover-bg-color);\n",
              "    box-shadow: 0 1px 2px rgba(60, 64, 67, 0.3), 0 1px 3px 1px rgba(60, 64, 67, 0.15);\n",
              "    fill: var(--button-hover-fill-color);\n",
              "  }\n",
              "\n",
              "  .colab-df-quickchart-complete:disabled,\n",
              "  .colab-df-quickchart-complete:disabled:hover {\n",
              "    background-color: var(--disabled-bg-color);\n",
              "    fill: var(--disabled-fill-color);\n",
              "    box-shadow: none;\n",
              "  }\n",
              "\n",
              "  .colab-df-spinner {\n",
              "    border: 2px solid var(--fill-color);\n",
              "    border-color: transparent;\n",
              "    border-bottom-color: var(--fill-color);\n",
              "    animation:\n",
              "      spin 1s steps(1) infinite;\n",
              "  }\n",
              "\n",
              "  @keyframes spin {\n",
              "    0% {\n",
              "      border-color: transparent;\n",
              "      border-bottom-color: var(--fill-color);\n",
              "      border-left-color: var(--fill-color);\n",
              "    }\n",
              "    20% {\n",
              "      border-color: transparent;\n",
              "      border-left-color: var(--fill-color);\n",
              "      border-top-color: var(--fill-color);\n",
              "    }\n",
              "    30% {\n",
              "      border-color: transparent;\n",
              "      border-left-color: var(--fill-color);\n",
              "      border-top-color: var(--fill-color);\n",
              "      border-right-color: var(--fill-color);\n",
              "    }\n",
              "    40% {\n",
              "      border-color: transparent;\n",
              "      border-right-color: var(--fill-color);\n",
              "      border-top-color: var(--fill-color);\n",
              "    }\n",
              "    60% {\n",
              "      border-color: transparent;\n",
              "      border-right-color: var(--fill-color);\n",
              "    }\n",
              "    80% {\n",
              "      border-color: transparent;\n",
              "      border-right-color: var(--fill-color);\n",
              "      border-bottom-color: var(--fill-color);\n",
              "    }\n",
              "    90% {\n",
              "      border-color: transparent;\n",
              "      border-bottom-color: var(--fill-color);\n",
              "    }\n",
              "  }\n",
              "</style>\n",
              "\n",
              "      <script>\n",
              "        async function quickchart(key) {\n",
              "          const quickchartButtonEl =\n",
              "            document.querySelector('#' + key + ' button');\n",
              "          quickchartButtonEl.disabled = true;  // To prevent multiple clicks.\n",
              "          quickchartButtonEl.classList.add('colab-df-spinner');\n",
              "          try {\n",
              "            const charts = await google.colab.kernel.invokeFunction(\n",
              "                'suggestCharts', [key], {});\n",
              "          } catch (error) {\n",
              "            console.error('Error during call to suggestCharts:', error);\n",
              "          }\n",
              "          quickchartButtonEl.classList.remove('colab-df-spinner');\n",
              "          quickchartButtonEl.classList.add('colab-df-quickchart-complete');\n",
              "        }\n",
              "        (() => {\n",
              "          let quickchartButtonEl =\n",
              "            document.querySelector('#df-8c3c0600-1012-443e-9932-48200431503b button');\n",
              "          quickchartButtonEl.style.display =\n",
              "            google.colab.kernel.accessAllowed ? 'block' : 'none';\n",
              "        })();\n",
              "      </script>\n",
              "    </div>\n",
              "\n",
              "    </div>\n",
              "  </div>\n"
            ],
            "application/vnd.google.colaboratory.intrinsic+json": {
              "type": "dataframe",
              "summary": "{\n  \"name\": \"df_futbolistas[[\\\"nombre\\\", \\\"posici\\u00f3n\\\"]]\",\n  \"rows\": 20,\n  \"fields\": [\n    {\n      \"column\": \"id\",\n      \"properties\": {\n        \"dtype\": \"number\",\n        \"std\": 5,\n        \"min\": 1,\n        \"max\": 20,\n        \"num_unique_values\": 20,\n        \"samples\": [\n          1,\n          18,\n          16\n        ],\n        \"semantic_type\": \"\",\n        \"description\": \"\"\n      }\n    },\n    {\n      \"column\": \"nombre\",\n      \"properties\": {\n        \"dtype\": \"string\",\n        \"num_unique_values\": 20,\n        \"samples\": [\n          \"Juan P\\u00e9rez\",\n          \"Adri\\u00e1n Navarro\",\n          \"Ricardo Hern\\u00e1ndez\"\n        ],\n        \"semantic_type\": \"\",\n        \"description\": \"\"\n      }\n    },\n    {\n      \"column\": \"posici\\u00f3n\",\n      \"properties\": {\n        \"dtype\": \"category\",\n        \"num_unique_values\": 4,\n        \"samples\": [\n          \"Defensa\",\n          \"Portero\",\n          \"Delantero\"\n        ],\n        \"semantic_type\": \"\",\n        \"description\": \"\"\n      }\n    }\n  ]\n}"
            }
          },
          "metadata": {},
          "execution_count": 222
        }
      ],
      "source": [
        "df_futbolistas[[\"nombre\", \"posición\"]]"
      ]
    },
    {
      "cell_type": "markdown",
      "id": "7dab2767-722f-4cc9-8c6c-d0711d44f70d",
      "metadata": {
        "id": "7dab2767-722f-4cc9-8c6c-d0711d44f70d"
      },
      "source": [
        "Seleccionar las filas con índices 1 y 2, y las columnas \"nombre\" y \"horas_entrenamiento\" del DataFrame \"futbolistas\""
      ]
    },
    {
      "cell_type": "code",
      "execution_count": 223,
      "id": "9f914157-fa0b-4187-bb82-f7a7791c8955",
      "metadata": {
        "tags": [],
        "id": "9f914157-fa0b-4187-bb82-f7a7791c8955",
        "colab": {
          "base_uri": "https://localhost:8080/",
          "height": 112
        },
        "outputId": "02b46236-fcdd-4dab-b76a-a566bec28aad"
      },
      "outputs": [
        {
          "output_type": "execute_result",
          "data": {
            "text/plain": [
              "        nombre  horas_entrenamiento\n",
              "1  Carlos Ruiz                   18\n",
              "2   Luis Gómez                   22"
            ],
            "text/html": [
              "\n",
              "  <div id=\"df-9266c74f-2cf4-4918-8457-79305f1e96cb\" class=\"colab-df-container\">\n",
              "    <div>\n",
              "<style scoped>\n",
              "    .dataframe tbody tr th:only-of-type {\n",
              "        vertical-align: middle;\n",
              "    }\n",
              "\n",
              "    .dataframe tbody tr th {\n",
              "        vertical-align: top;\n",
              "    }\n",
              "\n",
              "    .dataframe thead th {\n",
              "        text-align: right;\n",
              "    }\n",
              "</style>\n",
              "<table border=\"1\" class=\"dataframe\">\n",
              "  <thead>\n",
              "    <tr style=\"text-align: right;\">\n",
              "      <th></th>\n",
              "      <th>nombre</th>\n",
              "      <th>horas_entrenamiento</th>\n",
              "    </tr>\n",
              "  </thead>\n",
              "  <tbody>\n",
              "    <tr>\n",
              "      <th>1</th>\n",
              "      <td>Carlos Ruiz</td>\n",
              "      <td>18</td>\n",
              "    </tr>\n",
              "    <tr>\n",
              "      <th>2</th>\n",
              "      <td>Luis Gómez</td>\n",
              "      <td>22</td>\n",
              "    </tr>\n",
              "  </tbody>\n",
              "</table>\n",
              "</div>\n",
              "    <div class=\"colab-df-buttons\">\n",
              "\n",
              "  <div class=\"colab-df-container\">\n",
              "    <button class=\"colab-df-convert\" onclick=\"convertToInteractive('df-9266c74f-2cf4-4918-8457-79305f1e96cb')\"\n",
              "            title=\"Convert this dataframe to an interactive table.\"\n",
              "            style=\"display:none;\">\n",
              "\n",
              "  <svg xmlns=\"http://www.w3.org/2000/svg\" height=\"24px\" viewBox=\"0 -960 960 960\">\n",
              "    <path d=\"M120-120v-720h720v720H120Zm60-500h600v-160H180v160Zm220 220h160v-160H400v160Zm0 220h160v-160H400v160ZM180-400h160v-160H180v160Zm440 0h160v-160H620v160ZM180-180h160v-160H180v160Zm440 0h160v-160H620v160Z\"/>\n",
              "  </svg>\n",
              "    </button>\n",
              "\n",
              "  <style>\n",
              "    .colab-df-container {\n",
              "      display:flex;\n",
              "      gap: 12px;\n",
              "    }\n",
              "\n",
              "    .colab-df-convert {\n",
              "      background-color: #E8F0FE;\n",
              "      border: none;\n",
              "      border-radius: 50%;\n",
              "      cursor: pointer;\n",
              "      display: none;\n",
              "      fill: #1967D2;\n",
              "      height: 32px;\n",
              "      padding: 0 0 0 0;\n",
              "      width: 32px;\n",
              "    }\n",
              "\n",
              "    .colab-df-convert:hover {\n",
              "      background-color: #E2EBFA;\n",
              "      box-shadow: 0px 1px 2px rgba(60, 64, 67, 0.3), 0px 1px 3px 1px rgba(60, 64, 67, 0.15);\n",
              "      fill: #174EA6;\n",
              "    }\n",
              "\n",
              "    .colab-df-buttons div {\n",
              "      margin-bottom: 4px;\n",
              "    }\n",
              "\n",
              "    [theme=dark] .colab-df-convert {\n",
              "      background-color: #3B4455;\n",
              "      fill: #D2E3FC;\n",
              "    }\n",
              "\n",
              "    [theme=dark] .colab-df-convert:hover {\n",
              "      background-color: #434B5C;\n",
              "      box-shadow: 0px 1px 3px 1px rgba(0, 0, 0, 0.15);\n",
              "      filter: drop-shadow(0px 1px 2px rgba(0, 0, 0, 0.3));\n",
              "      fill: #FFFFFF;\n",
              "    }\n",
              "  </style>\n",
              "\n",
              "    <script>\n",
              "      const buttonEl =\n",
              "        document.querySelector('#df-9266c74f-2cf4-4918-8457-79305f1e96cb button.colab-df-convert');\n",
              "      buttonEl.style.display =\n",
              "        google.colab.kernel.accessAllowed ? 'block' : 'none';\n",
              "\n",
              "      async function convertToInteractive(key) {\n",
              "        const element = document.querySelector('#df-9266c74f-2cf4-4918-8457-79305f1e96cb');\n",
              "        const dataTable =\n",
              "          await google.colab.kernel.invokeFunction('convertToInteractive',\n",
              "                                                    [key], {});\n",
              "        if (!dataTable) return;\n",
              "\n",
              "        const docLinkHtml = 'Like what you see? Visit the ' +\n",
              "          '<a target=\"_blank\" href=https://colab.research.google.com/notebooks/data_table.ipynb>data table notebook</a>'\n",
              "          + ' to learn more about interactive tables.';\n",
              "        element.innerHTML = '';\n",
              "        dataTable['output_type'] = 'display_data';\n",
              "        await google.colab.output.renderOutput(dataTable, element);\n",
              "        const docLink = document.createElement('div');\n",
              "        docLink.innerHTML = docLinkHtml;\n",
              "        element.appendChild(docLink);\n",
              "      }\n",
              "    </script>\n",
              "  </div>\n",
              "\n",
              "\n",
              "    <div id=\"df-24cdd967-0ca9-423a-ae58-90b956e135d1\">\n",
              "      <button class=\"colab-df-quickchart\" onclick=\"quickchart('df-24cdd967-0ca9-423a-ae58-90b956e135d1')\"\n",
              "                title=\"Suggest charts\"\n",
              "                style=\"display:none;\">\n",
              "\n",
              "<svg xmlns=\"http://www.w3.org/2000/svg\" height=\"24px\"viewBox=\"0 0 24 24\"\n",
              "     width=\"24px\">\n",
              "    <g>\n",
              "        <path d=\"M19 3H5c-1.1 0-2 .9-2 2v14c0 1.1.9 2 2 2h14c1.1 0 2-.9 2-2V5c0-1.1-.9-2-2-2zM9 17H7v-7h2v7zm4 0h-2V7h2v10zm4 0h-2v-4h2v4z\"/>\n",
              "    </g>\n",
              "</svg>\n",
              "      </button>\n",
              "\n",
              "<style>\n",
              "  .colab-df-quickchart {\n",
              "      --bg-color: #E8F0FE;\n",
              "      --fill-color: #1967D2;\n",
              "      --hover-bg-color: #E2EBFA;\n",
              "      --hover-fill-color: #174EA6;\n",
              "      --disabled-fill-color: #AAA;\n",
              "      --disabled-bg-color: #DDD;\n",
              "  }\n",
              "\n",
              "  [theme=dark] .colab-df-quickchart {\n",
              "      --bg-color: #3B4455;\n",
              "      --fill-color: #D2E3FC;\n",
              "      --hover-bg-color: #434B5C;\n",
              "      --hover-fill-color: #FFFFFF;\n",
              "      --disabled-bg-color: #3B4455;\n",
              "      --disabled-fill-color: #666;\n",
              "  }\n",
              "\n",
              "  .colab-df-quickchart {\n",
              "    background-color: var(--bg-color);\n",
              "    border: none;\n",
              "    border-radius: 50%;\n",
              "    cursor: pointer;\n",
              "    display: none;\n",
              "    fill: var(--fill-color);\n",
              "    height: 32px;\n",
              "    padding: 0;\n",
              "    width: 32px;\n",
              "  }\n",
              "\n",
              "  .colab-df-quickchart:hover {\n",
              "    background-color: var(--hover-bg-color);\n",
              "    box-shadow: 0 1px 2px rgba(60, 64, 67, 0.3), 0 1px 3px 1px rgba(60, 64, 67, 0.15);\n",
              "    fill: var(--button-hover-fill-color);\n",
              "  }\n",
              "\n",
              "  .colab-df-quickchart-complete:disabled,\n",
              "  .colab-df-quickchart-complete:disabled:hover {\n",
              "    background-color: var(--disabled-bg-color);\n",
              "    fill: var(--disabled-fill-color);\n",
              "    box-shadow: none;\n",
              "  }\n",
              "\n",
              "  .colab-df-spinner {\n",
              "    border: 2px solid var(--fill-color);\n",
              "    border-color: transparent;\n",
              "    border-bottom-color: var(--fill-color);\n",
              "    animation:\n",
              "      spin 1s steps(1) infinite;\n",
              "  }\n",
              "\n",
              "  @keyframes spin {\n",
              "    0% {\n",
              "      border-color: transparent;\n",
              "      border-bottom-color: var(--fill-color);\n",
              "      border-left-color: var(--fill-color);\n",
              "    }\n",
              "    20% {\n",
              "      border-color: transparent;\n",
              "      border-left-color: var(--fill-color);\n",
              "      border-top-color: var(--fill-color);\n",
              "    }\n",
              "    30% {\n",
              "      border-color: transparent;\n",
              "      border-left-color: var(--fill-color);\n",
              "      border-top-color: var(--fill-color);\n",
              "      border-right-color: var(--fill-color);\n",
              "    }\n",
              "    40% {\n",
              "      border-color: transparent;\n",
              "      border-right-color: var(--fill-color);\n",
              "      border-top-color: var(--fill-color);\n",
              "    }\n",
              "    60% {\n",
              "      border-color: transparent;\n",
              "      border-right-color: var(--fill-color);\n",
              "    }\n",
              "    80% {\n",
              "      border-color: transparent;\n",
              "      border-right-color: var(--fill-color);\n",
              "      border-bottom-color: var(--fill-color);\n",
              "    }\n",
              "    90% {\n",
              "      border-color: transparent;\n",
              "      border-bottom-color: var(--fill-color);\n",
              "    }\n",
              "  }\n",
              "</style>\n",
              "\n",
              "      <script>\n",
              "        async function quickchart(key) {\n",
              "          const quickchartButtonEl =\n",
              "            document.querySelector('#' + key + ' button');\n",
              "          quickchartButtonEl.disabled = true;  // To prevent multiple clicks.\n",
              "          quickchartButtonEl.classList.add('colab-df-spinner');\n",
              "          try {\n",
              "            const charts = await google.colab.kernel.invokeFunction(\n",
              "                'suggestCharts', [key], {});\n",
              "          } catch (error) {\n",
              "            console.error('Error during call to suggestCharts:', error);\n",
              "          }\n",
              "          quickchartButtonEl.classList.remove('colab-df-spinner');\n",
              "          quickchartButtonEl.classList.add('colab-df-quickchart-complete');\n",
              "        }\n",
              "        (() => {\n",
              "          let quickchartButtonEl =\n",
              "            document.querySelector('#df-24cdd967-0ca9-423a-ae58-90b956e135d1 button');\n",
              "          quickchartButtonEl.style.display =\n",
              "            google.colab.kernel.accessAllowed ? 'block' : 'none';\n",
              "        })();\n",
              "      </script>\n",
              "    </div>\n",
              "\n",
              "    </div>\n",
              "  </div>\n"
            ],
            "application/vnd.google.colaboratory.intrinsic+json": {
              "type": "dataframe",
              "summary": "{\n  \"name\": \"df_reset\",\n  \"rows\": 2,\n  \"fields\": [\n    {\n      \"column\": \"nombre\",\n      \"properties\": {\n        \"dtype\": \"string\",\n        \"num_unique_values\": 2,\n        \"samples\": [\n          \"Luis G\\u00f3mez\",\n          \"Carlos Ruiz\"\n        ],\n        \"semantic_type\": \"\",\n        \"description\": \"\"\n      }\n    },\n    {\n      \"column\": \"horas_entrenamiento\",\n      \"properties\": {\n        \"dtype\": \"number\",\n        \"std\": 2,\n        \"min\": 18,\n        \"max\": 22,\n        \"num_unique_values\": 2,\n        \"samples\": [\n          22,\n          18\n        ],\n        \"semantic_type\": \"\",\n        \"description\": \"\"\n      }\n    }\n  ]\n}"
            }
          },
          "metadata": {},
          "execution_count": 223
        }
      ],
      "source": [
        "df_reset = df_futbolistas.reset_index() #error de ids\n",
        "df_reset.loc[[1, 2], [\"nombre\", \"horas_entrenamiento\"]]\n"
      ]
    },
    {
      "cell_type": "markdown",
      "id": "f7970df8-eec0-46a6-bd4a-2cb9d0d25504",
      "metadata": {
        "id": "f7970df8-eec0-46a6-bd4a-2cb9d0d25504"
      },
      "source": [
        "Seleccionar las filas en las posiciones 1, 3 y 4, y las columnas en las posiciones 0 y 2 del DataFrame \"futbolistas\""
      ]
    },
    {
      "cell_type": "code",
      "execution_count": 224,
      "id": "bf6912ff-fbd9-4c1c-b896-b1ed379d0395",
      "metadata": {
        "tags": [],
        "id": "bf6912ff-fbd9-4c1c-b896-b1ed379d0395",
        "colab": {
          "base_uri": "https://localhost:8080/",
          "height": 175
        },
        "outputId": "12171499-22b6-4094-9c13-4f0c9fb8b347"
      },
      "outputs": [
        {
          "output_type": "execute_result",
          "data": {
            "text/plain": [
              "              nombre   posición\n",
              "id                             \n",
              "2        Carlos Ruiz    Defensa\n",
              "4   Miguel Fernández    Portero\n",
              "5    Andrés Martínez  Delantero"
            ],
            "text/html": [
              "\n",
              "  <div id=\"df-e33e548d-f217-4075-80ae-e8b3ab80de6e\" class=\"colab-df-container\">\n",
              "    <div>\n",
              "<style scoped>\n",
              "    .dataframe tbody tr th:only-of-type {\n",
              "        vertical-align: middle;\n",
              "    }\n",
              "\n",
              "    .dataframe tbody tr th {\n",
              "        vertical-align: top;\n",
              "    }\n",
              "\n",
              "    .dataframe thead th {\n",
              "        text-align: right;\n",
              "    }\n",
              "</style>\n",
              "<table border=\"1\" class=\"dataframe\">\n",
              "  <thead>\n",
              "    <tr style=\"text-align: right;\">\n",
              "      <th></th>\n",
              "      <th>nombre</th>\n",
              "      <th>posición</th>\n",
              "    </tr>\n",
              "    <tr>\n",
              "      <th>id</th>\n",
              "      <th></th>\n",
              "      <th></th>\n",
              "    </tr>\n",
              "  </thead>\n",
              "  <tbody>\n",
              "    <tr>\n",
              "      <th>2</th>\n",
              "      <td>Carlos Ruiz</td>\n",
              "      <td>Defensa</td>\n",
              "    </tr>\n",
              "    <tr>\n",
              "      <th>4</th>\n",
              "      <td>Miguel Fernández</td>\n",
              "      <td>Portero</td>\n",
              "    </tr>\n",
              "    <tr>\n",
              "      <th>5</th>\n",
              "      <td>Andrés Martínez</td>\n",
              "      <td>Delantero</td>\n",
              "    </tr>\n",
              "  </tbody>\n",
              "</table>\n",
              "</div>\n",
              "    <div class=\"colab-df-buttons\">\n",
              "\n",
              "  <div class=\"colab-df-container\">\n",
              "    <button class=\"colab-df-convert\" onclick=\"convertToInteractive('df-e33e548d-f217-4075-80ae-e8b3ab80de6e')\"\n",
              "            title=\"Convert this dataframe to an interactive table.\"\n",
              "            style=\"display:none;\">\n",
              "\n",
              "  <svg xmlns=\"http://www.w3.org/2000/svg\" height=\"24px\" viewBox=\"0 -960 960 960\">\n",
              "    <path d=\"M120-120v-720h720v720H120Zm60-500h600v-160H180v160Zm220 220h160v-160H400v160Zm0 220h160v-160H400v160ZM180-400h160v-160H180v160Zm440 0h160v-160H620v160ZM180-180h160v-160H180v160Zm440 0h160v-160H620v160Z\"/>\n",
              "  </svg>\n",
              "    </button>\n",
              "\n",
              "  <style>\n",
              "    .colab-df-container {\n",
              "      display:flex;\n",
              "      gap: 12px;\n",
              "    }\n",
              "\n",
              "    .colab-df-convert {\n",
              "      background-color: #E8F0FE;\n",
              "      border: none;\n",
              "      border-radius: 50%;\n",
              "      cursor: pointer;\n",
              "      display: none;\n",
              "      fill: #1967D2;\n",
              "      height: 32px;\n",
              "      padding: 0 0 0 0;\n",
              "      width: 32px;\n",
              "    }\n",
              "\n",
              "    .colab-df-convert:hover {\n",
              "      background-color: #E2EBFA;\n",
              "      box-shadow: 0px 1px 2px rgba(60, 64, 67, 0.3), 0px 1px 3px 1px rgba(60, 64, 67, 0.15);\n",
              "      fill: #174EA6;\n",
              "    }\n",
              "\n",
              "    .colab-df-buttons div {\n",
              "      margin-bottom: 4px;\n",
              "    }\n",
              "\n",
              "    [theme=dark] .colab-df-convert {\n",
              "      background-color: #3B4455;\n",
              "      fill: #D2E3FC;\n",
              "    }\n",
              "\n",
              "    [theme=dark] .colab-df-convert:hover {\n",
              "      background-color: #434B5C;\n",
              "      box-shadow: 0px 1px 3px 1px rgba(0, 0, 0, 0.15);\n",
              "      filter: drop-shadow(0px 1px 2px rgba(0, 0, 0, 0.3));\n",
              "      fill: #FFFFFF;\n",
              "    }\n",
              "  </style>\n",
              "\n",
              "    <script>\n",
              "      const buttonEl =\n",
              "        document.querySelector('#df-e33e548d-f217-4075-80ae-e8b3ab80de6e button.colab-df-convert');\n",
              "      buttonEl.style.display =\n",
              "        google.colab.kernel.accessAllowed ? 'block' : 'none';\n",
              "\n",
              "      async function convertToInteractive(key) {\n",
              "        const element = document.querySelector('#df-e33e548d-f217-4075-80ae-e8b3ab80de6e');\n",
              "        const dataTable =\n",
              "          await google.colab.kernel.invokeFunction('convertToInteractive',\n",
              "                                                    [key], {});\n",
              "        if (!dataTable) return;\n",
              "\n",
              "        const docLinkHtml = 'Like what you see? Visit the ' +\n",
              "          '<a target=\"_blank\" href=https://colab.research.google.com/notebooks/data_table.ipynb>data table notebook</a>'\n",
              "          + ' to learn more about interactive tables.';\n",
              "        element.innerHTML = '';\n",
              "        dataTable['output_type'] = 'display_data';\n",
              "        await google.colab.output.renderOutput(dataTable, element);\n",
              "        const docLink = document.createElement('div');\n",
              "        docLink.innerHTML = docLinkHtml;\n",
              "        element.appendChild(docLink);\n",
              "      }\n",
              "    </script>\n",
              "  </div>\n",
              "\n",
              "\n",
              "    <div id=\"df-2a41bdc9-dfac-4162-aea4-6ee709f63098\">\n",
              "      <button class=\"colab-df-quickchart\" onclick=\"quickchart('df-2a41bdc9-dfac-4162-aea4-6ee709f63098')\"\n",
              "                title=\"Suggest charts\"\n",
              "                style=\"display:none;\">\n",
              "\n",
              "<svg xmlns=\"http://www.w3.org/2000/svg\" height=\"24px\"viewBox=\"0 0 24 24\"\n",
              "     width=\"24px\">\n",
              "    <g>\n",
              "        <path d=\"M19 3H5c-1.1 0-2 .9-2 2v14c0 1.1.9 2 2 2h14c1.1 0 2-.9 2-2V5c0-1.1-.9-2-2-2zM9 17H7v-7h2v7zm4 0h-2V7h2v10zm4 0h-2v-4h2v4z\"/>\n",
              "    </g>\n",
              "</svg>\n",
              "      </button>\n",
              "\n",
              "<style>\n",
              "  .colab-df-quickchart {\n",
              "      --bg-color: #E8F0FE;\n",
              "      --fill-color: #1967D2;\n",
              "      --hover-bg-color: #E2EBFA;\n",
              "      --hover-fill-color: #174EA6;\n",
              "      --disabled-fill-color: #AAA;\n",
              "      --disabled-bg-color: #DDD;\n",
              "  }\n",
              "\n",
              "  [theme=dark] .colab-df-quickchart {\n",
              "      --bg-color: #3B4455;\n",
              "      --fill-color: #D2E3FC;\n",
              "      --hover-bg-color: #434B5C;\n",
              "      --hover-fill-color: #FFFFFF;\n",
              "      --disabled-bg-color: #3B4455;\n",
              "      --disabled-fill-color: #666;\n",
              "  }\n",
              "\n",
              "  .colab-df-quickchart {\n",
              "    background-color: var(--bg-color);\n",
              "    border: none;\n",
              "    border-radius: 50%;\n",
              "    cursor: pointer;\n",
              "    display: none;\n",
              "    fill: var(--fill-color);\n",
              "    height: 32px;\n",
              "    padding: 0;\n",
              "    width: 32px;\n",
              "  }\n",
              "\n",
              "  .colab-df-quickchart:hover {\n",
              "    background-color: var(--hover-bg-color);\n",
              "    box-shadow: 0 1px 2px rgba(60, 64, 67, 0.3), 0 1px 3px 1px rgba(60, 64, 67, 0.15);\n",
              "    fill: var(--button-hover-fill-color);\n",
              "  }\n",
              "\n",
              "  .colab-df-quickchart-complete:disabled,\n",
              "  .colab-df-quickchart-complete:disabled:hover {\n",
              "    background-color: var(--disabled-bg-color);\n",
              "    fill: var(--disabled-fill-color);\n",
              "    box-shadow: none;\n",
              "  }\n",
              "\n",
              "  .colab-df-spinner {\n",
              "    border: 2px solid var(--fill-color);\n",
              "    border-color: transparent;\n",
              "    border-bottom-color: var(--fill-color);\n",
              "    animation:\n",
              "      spin 1s steps(1) infinite;\n",
              "  }\n",
              "\n",
              "  @keyframes spin {\n",
              "    0% {\n",
              "      border-color: transparent;\n",
              "      border-bottom-color: var(--fill-color);\n",
              "      border-left-color: var(--fill-color);\n",
              "    }\n",
              "    20% {\n",
              "      border-color: transparent;\n",
              "      border-left-color: var(--fill-color);\n",
              "      border-top-color: var(--fill-color);\n",
              "    }\n",
              "    30% {\n",
              "      border-color: transparent;\n",
              "      border-left-color: var(--fill-color);\n",
              "      border-top-color: var(--fill-color);\n",
              "      border-right-color: var(--fill-color);\n",
              "    }\n",
              "    40% {\n",
              "      border-color: transparent;\n",
              "      border-right-color: var(--fill-color);\n",
              "      border-top-color: var(--fill-color);\n",
              "    }\n",
              "    60% {\n",
              "      border-color: transparent;\n",
              "      border-right-color: var(--fill-color);\n",
              "    }\n",
              "    80% {\n",
              "      border-color: transparent;\n",
              "      border-right-color: var(--fill-color);\n",
              "      border-bottom-color: var(--fill-color);\n",
              "    }\n",
              "    90% {\n",
              "      border-color: transparent;\n",
              "      border-bottom-color: var(--fill-color);\n",
              "    }\n",
              "  }\n",
              "</style>\n",
              "\n",
              "      <script>\n",
              "        async function quickchart(key) {\n",
              "          const quickchartButtonEl =\n",
              "            document.querySelector('#' + key + ' button');\n",
              "          quickchartButtonEl.disabled = true;  // To prevent multiple clicks.\n",
              "          quickchartButtonEl.classList.add('colab-df-spinner');\n",
              "          try {\n",
              "            const charts = await google.colab.kernel.invokeFunction(\n",
              "                'suggestCharts', [key], {});\n",
              "          } catch (error) {\n",
              "            console.error('Error during call to suggestCharts:', error);\n",
              "          }\n",
              "          quickchartButtonEl.classList.remove('colab-df-spinner');\n",
              "          quickchartButtonEl.classList.add('colab-df-quickchart-complete');\n",
              "        }\n",
              "        (() => {\n",
              "          let quickchartButtonEl =\n",
              "            document.querySelector('#df-2a41bdc9-dfac-4162-aea4-6ee709f63098 button');\n",
              "          quickchartButtonEl.style.display =\n",
              "            google.colab.kernel.accessAllowed ? 'block' : 'none';\n",
              "        })();\n",
              "      </script>\n",
              "    </div>\n",
              "\n",
              "    </div>\n",
              "  </div>\n"
            ],
            "application/vnd.google.colaboratory.intrinsic+json": {
              "type": "dataframe",
              "summary": "{\n  \"name\": \"df_futbolistas\",\n  \"rows\": 3,\n  \"fields\": [\n    {\n      \"column\": \"id\",\n      \"properties\": {\n        \"dtype\": \"number\",\n        \"std\": 1,\n        \"min\": 2,\n        \"max\": 5,\n        \"num_unique_values\": 3,\n        \"samples\": [\n          2,\n          4,\n          5\n        ],\n        \"semantic_type\": \"\",\n        \"description\": \"\"\n      }\n    },\n    {\n      \"column\": \"nombre\",\n      \"properties\": {\n        \"dtype\": \"string\",\n        \"num_unique_values\": 3,\n        \"samples\": [\n          \"Carlos Ruiz\",\n          \"Miguel Fern\\u00e1ndez\",\n          \"Andr\\u00e9s Mart\\u00ednez\"\n        ],\n        \"semantic_type\": \"\",\n        \"description\": \"\"\n      }\n    },\n    {\n      \"column\": \"posici\\u00f3n\",\n      \"properties\": {\n        \"dtype\": \"string\",\n        \"num_unique_values\": 3,\n        \"samples\": [\n          \"Defensa\",\n          \"Portero\",\n          \"Delantero\"\n        ],\n        \"semantic_type\": \"\",\n        \"description\": \"\"\n      }\n    }\n  ]\n}"
            }
          },
          "metadata": {},
          "execution_count": 224
        }
      ],
      "source": [
        "df_futbolistas.iloc[[1, 3, 4], [0, 2]]\n"
      ]
    },
    {
      "cell_type": "markdown",
      "id": "fa99de4f-2a59-4d0e-b09e-7738fdc2e643",
      "metadata": {
        "id": "fa99de4f-2a59-4d0e-b09e-7738fdc2e643"
      },
      "source": [
        "Calcular el promedio de las horas de entrenamiento agrupado por la columna \"posición\" en el DataFrame \"futbolistas\""
      ]
    },
    {
      "cell_type": "code",
      "execution_count": 225,
      "id": "56957590-50ad-4b5c-ae20-ff10108c8a3e",
      "metadata": {
        "tags": [],
        "id": "56957590-50ad-4b5c-ae20-ff10108c8a3e",
        "colab": {
          "base_uri": "https://localhost:8080/",
          "height": 241
        },
        "outputId": "83d06d98-4b98-4602-f82d-a80afda60f1f"
      },
      "outputs": [
        {
          "output_type": "execute_result",
          "data": {
            "text/plain": [
              "posición\n",
              "Centrocampista    20.000000\n",
              "Defensa           18.166667\n",
              "Delantero         21.666667\n",
              "Portero           18.250000\n",
              "Name: horas_entrenamiento, dtype: float64"
            ],
            "text/html": [
              "<div>\n",
              "<style scoped>\n",
              "    .dataframe tbody tr th:only-of-type {\n",
              "        vertical-align: middle;\n",
              "    }\n",
              "\n",
              "    .dataframe tbody tr th {\n",
              "        vertical-align: top;\n",
              "    }\n",
              "\n",
              "    .dataframe thead th {\n",
              "        text-align: right;\n",
              "    }\n",
              "</style>\n",
              "<table border=\"1\" class=\"dataframe\">\n",
              "  <thead>\n",
              "    <tr style=\"text-align: right;\">\n",
              "      <th></th>\n",
              "      <th>horas_entrenamiento</th>\n",
              "    </tr>\n",
              "    <tr>\n",
              "      <th>posición</th>\n",
              "      <th></th>\n",
              "    </tr>\n",
              "  </thead>\n",
              "  <tbody>\n",
              "    <tr>\n",
              "      <th>Centrocampista</th>\n",
              "      <td>20.000000</td>\n",
              "    </tr>\n",
              "    <tr>\n",
              "      <th>Defensa</th>\n",
              "      <td>18.166667</td>\n",
              "    </tr>\n",
              "    <tr>\n",
              "      <th>Delantero</th>\n",
              "      <td>21.666667</td>\n",
              "    </tr>\n",
              "    <tr>\n",
              "      <th>Portero</th>\n",
              "      <td>18.250000</td>\n",
              "    </tr>\n",
              "  </tbody>\n",
              "</table>\n",
              "</div><br><label><b>dtype:</b> float64</label>"
            ]
          },
          "metadata": {},
          "execution_count": 225
        }
      ],
      "source": [
        "df_futbolistas.groupby(\"posición\")[\"horas_entrenamiento\"].mean()"
      ]
    },
    {
      "cell_type": "markdown",
      "id": "a32b15f8-5168-4abf-a4f9-6c1191d7f68f",
      "metadata": {
        "id": "a32b15f8-5168-4abf-a4f9-6c1191d7f68f"
      },
      "source": [
        "Crear una tabla pivote en el DataFrame futbolistas, donde se muestre el mínimo de horas de entrenamiento para cada posición y liga"
      ]
    },
    {
      "cell_type": "code",
      "execution_count": 226,
      "id": "5253780e-379c-4dd4-9540-f1b59b14bb68",
      "metadata": {
        "tags": [],
        "id": "5253780e-379c-4dd4-9540-f1b59b14bb68",
        "colab": {
          "base_uri": "https://localhost:8080/",
          "height": 206
        },
        "outputId": "1beea76d-47b6-4981-83ed-f289086947b4"
      },
      "outputs": [
        {
          "output_type": "display_data",
          "data": {
            "text/plain": [
              "liga             1   2   3   4\n",
              "posición                      \n",
              "Centrocampista  22  20  18  20\n",
              "Defensa         16  17  20  19\n",
              "Delantero       20  23  21  22\n",
              "Portero         19  16  17  21"
            ],
            "text/html": [
              "\n",
              "  <div id=\"df-bc8fbea4-c648-45c3-a967-e70e29d95f11\" class=\"colab-df-container\">\n",
              "    <div>\n",
              "<style scoped>\n",
              "    .dataframe tbody tr th:only-of-type {\n",
              "        vertical-align: middle;\n",
              "    }\n",
              "\n",
              "    .dataframe tbody tr th {\n",
              "        vertical-align: top;\n",
              "    }\n",
              "\n",
              "    .dataframe thead th {\n",
              "        text-align: right;\n",
              "    }\n",
              "</style>\n",
              "<table border=\"1\" class=\"dataframe\">\n",
              "  <thead>\n",
              "    <tr style=\"text-align: right;\">\n",
              "      <th>liga</th>\n",
              "      <th>1</th>\n",
              "      <th>2</th>\n",
              "      <th>3</th>\n",
              "      <th>4</th>\n",
              "    </tr>\n",
              "    <tr>\n",
              "      <th>posición</th>\n",
              "      <th></th>\n",
              "      <th></th>\n",
              "      <th></th>\n",
              "      <th></th>\n",
              "    </tr>\n",
              "  </thead>\n",
              "  <tbody>\n",
              "    <tr>\n",
              "      <th>Centrocampista</th>\n",
              "      <td>22</td>\n",
              "      <td>20</td>\n",
              "      <td>18</td>\n",
              "      <td>20</td>\n",
              "    </tr>\n",
              "    <tr>\n",
              "      <th>Defensa</th>\n",
              "      <td>16</td>\n",
              "      <td>17</td>\n",
              "      <td>20</td>\n",
              "      <td>19</td>\n",
              "    </tr>\n",
              "    <tr>\n",
              "      <th>Delantero</th>\n",
              "      <td>20</td>\n",
              "      <td>23</td>\n",
              "      <td>21</td>\n",
              "      <td>22</td>\n",
              "    </tr>\n",
              "    <tr>\n",
              "      <th>Portero</th>\n",
              "      <td>19</td>\n",
              "      <td>16</td>\n",
              "      <td>17</td>\n",
              "      <td>21</td>\n",
              "    </tr>\n",
              "  </tbody>\n",
              "</table>\n",
              "</div>\n",
              "    <div class=\"colab-df-buttons\">\n",
              "\n",
              "  <div class=\"colab-df-container\">\n",
              "    <button class=\"colab-df-convert\" onclick=\"convertToInteractive('df-bc8fbea4-c648-45c3-a967-e70e29d95f11')\"\n",
              "            title=\"Convert this dataframe to an interactive table.\"\n",
              "            style=\"display:none;\">\n",
              "\n",
              "  <svg xmlns=\"http://www.w3.org/2000/svg\" height=\"24px\" viewBox=\"0 -960 960 960\">\n",
              "    <path d=\"M120-120v-720h720v720H120Zm60-500h600v-160H180v160Zm220 220h160v-160H400v160Zm0 220h160v-160H400v160ZM180-400h160v-160H180v160Zm440 0h160v-160H620v160ZM180-180h160v-160H180v160Zm440 0h160v-160H620v160Z\"/>\n",
              "  </svg>\n",
              "    </button>\n",
              "\n",
              "  <style>\n",
              "    .colab-df-container {\n",
              "      display:flex;\n",
              "      gap: 12px;\n",
              "    }\n",
              "\n",
              "    .colab-df-convert {\n",
              "      background-color: #E8F0FE;\n",
              "      border: none;\n",
              "      border-radius: 50%;\n",
              "      cursor: pointer;\n",
              "      display: none;\n",
              "      fill: #1967D2;\n",
              "      height: 32px;\n",
              "      padding: 0 0 0 0;\n",
              "      width: 32px;\n",
              "    }\n",
              "\n",
              "    .colab-df-convert:hover {\n",
              "      background-color: #E2EBFA;\n",
              "      box-shadow: 0px 1px 2px rgba(60, 64, 67, 0.3), 0px 1px 3px 1px rgba(60, 64, 67, 0.15);\n",
              "      fill: #174EA6;\n",
              "    }\n",
              "\n",
              "    .colab-df-buttons div {\n",
              "      margin-bottom: 4px;\n",
              "    }\n",
              "\n",
              "    [theme=dark] .colab-df-convert {\n",
              "      background-color: #3B4455;\n",
              "      fill: #D2E3FC;\n",
              "    }\n",
              "\n",
              "    [theme=dark] .colab-df-convert:hover {\n",
              "      background-color: #434B5C;\n",
              "      box-shadow: 0px 1px 3px 1px rgba(0, 0, 0, 0.15);\n",
              "      filter: drop-shadow(0px 1px 2px rgba(0, 0, 0, 0.3));\n",
              "      fill: #FFFFFF;\n",
              "    }\n",
              "  </style>\n",
              "\n",
              "    <script>\n",
              "      const buttonEl =\n",
              "        document.querySelector('#df-bc8fbea4-c648-45c3-a967-e70e29d95f11 button.colab-df-convert');\n",
              "      buttonEl.style.display =\n",
              "        google.colab.kernel.accessAllowed ? 'block' : 'none';\n",
              "\n",
              "      async function convertToInteractive(key) {\n",
              "        const element = document.querySelector('#df-bc8fbea4-c648-45c3-a967-e70e29d95f11');\n",
              "        const dataTable =\n",
              "          await google.colab.kernel.invokeFunction('convertToInteractive',\n",
              "                                                    [key], {});\n",
              "        if (!dataTable) return;\n",
              "\n",
              "        const docLinkHtml = 'Like what you see? Visit the ' +\n",
              "          '<a target=\"_blank\" href=https://colab.research.google.com/notebooks/data_table.ipynb>data table notebook</a>'\n",
              "          + ' to learn more about interactive tables.';\n",
              "        element.innerHTML = '';\n",
              "        dataTable['output_type'] = 'display_data';\n",
              "        await google.colab.output.renderOutput(dataTable, element);\n",
              "        const docLink = document.createElement('div');\n",
              "        docLink.innerHTML = docLinkHtml;\n",
              "        element.appendChild(docLink);\n",
              "      }\n",
              "    </script>\n",
              "  </div>\n",
              "\n",
              "\n",
              "    <div id=\"df-75972a76-f3bc-4024-a5f1-198545081e42\">\n",
              "      <button class=\"colab-df-quickchart\" onclick=\"quickchart('df-75972a76-f3bc-4024-a5f1-198545081e42')\"\n",
              "                title=\"Suggest charts\"\n",
              "                style=\"display:none;\">\n",
              "\n",
              "<svg xmlns=\"http://www.w3.org/2000/svg\" height=\"24px\"viewBox=\"0 0 24 24\"\n",
              "     width=\"24px\">\n",
              "    <g>\n",
              "        <path d=\"M19 3H5c-1.1 0-2 .9-2 2v14c0 1.1.9 2 2 2h14c1.1 0 2-.9 2-2V5c0-1.1-.9-2-2-2zM9 17H7v-7h2v7zm4 0h-2V7h2v10zm4 0h-2v-4h2v4z\"/>\n",
              "    </g>\n",
              "</svg>\n",
              "      </button>\n",
              "\n",
              "<style>\n",
              "  .colab-df-quickchart {\n",
              "      --bg-color: #E8F0FE;\n",
              "      --fill-color: #1967D2;\n",
              "      --hover-bg-color: #E2EBFA;\n",
              "      --hover-fill-color: #174EA6;\n",
              "      --disabled-fill-color: #AAA;\n",
              "      --disabled-bg-color: #DDD;\n",
              "  }\n",
              "\n",
              "  [theme=dark] .colab-df-quickchart {\n",
              "      --bg-color: #3B4455;\n",
              "      --fill-color: #D2E3FC;\n",
              "      --hover-bg-color: #434B5C;\n",
              "      --hover-fill-color: #FFFFFF;\n",
              "      --disabled-bg-color: #3B4455;\n",
              "      --disabled-fill-color: #666;\n",
              "  }\n",
              "\n",
              "  .colab-df-quickchart {\n",
              "    background-color: var(--bg-color);\n",
              "    border: none;\n",
              "    border-radius: 50%;\n",
              "    cursor: pointer;\n",
              "    display: none;\n",
              "    fill: var(--fill-color);\n",
              "    height: 32px;\n",
              "    padding: 0;\n",
              "    width: 32px;\n",
              "  }\n",
              "\n",
              "  .colab-df-quickchart:hover {\n",
              "    background-color: var(--hover-bg-color);\n",
              "    box-shadow: 0 1px 2px rgba(60, 64, 67, 0.3), 0 1px 3px 1px rgba(60, 64, 67, 0.15);\n",
              "    fill: var(--button-hover-fill-color);\n",
              "  }\n",
              "\n",
              "  .colab-df-quickchart-complete:disabled,\n",
              "  .colab-df-quickchart-complete:disabled:hover {\n",
              "    background-color: var(--disabled-bg-color);\n",
              "    fill: var(--disabled-fill-color);\n",
              "    box-shadow: none;\n",
              "  }\n",
              "\n",
              "  .colab-df-spinner {\n",
              "    border: 2px solid var(--fill-color);\n",
              "    border-color: transparent;\n",
              "    border-bottom-color: var(--fill-color);\n",
              "    animation:\n",
              "      spin 1s steps(1) infinite;\n",
              "  }\n",
              "\n",
              "  @keyframes spin {\n",
              "    0% {\n",
              "      border-color: transparent;\n",
              "      border-bottom-color: var(--fill-color);\n",
              "      border-left-color: var(--fill-color);\n",
              "    }\n",
              "    20% {\n",
              "      border-color: transparent;\n",
              "      border-left-color: var(--fill-color);\n",
              "      border-top-color: var(--fill-color);\n",
              "    }\n",
              "    30% {\n",
              "      border-color: transparent;\n",
              "      border-left-color: var(--fill-color);\n",
              "      border-top-color: var(--fill-color);\n",
              "      border-right-color: var(--fill-color);\n",
              "    }\n",
              "    40% {\n",
              "      border-color: transparent;\n",
              "      border-right-color: var(--fill-color);\n",
              "      border-top-color: var(--fill-color);\n",
              "    }\n",
              "    60% {\n",
              "      border-color: transparent;\n",
              "      border-right-color: var(--fill-color);\n",
              "    }\n",
              "    80% {\n",
              "      border-color: transparent;\n",
              "      border-right-color: var(--fill-color);\n",
              "      border-bottom-color: var(--fill-color);\n",
              "    }\n",
              "    90% {\n",
              "      border-color: transparent;\n",
              "      border-bottom-color: var(--fill-color);\n",
              "    }\n",
              "  }\n",
              "</style>\n",
              "\n",
              "      <script>\n",
              "        async function quickchart(key) {\n",
              "          const quickchartButtonEl =\n",
              "            document.querySelector('#' + key + ' button');\n",
              "          quickchartButtonEl.disabled = true;  // To prevent multiple clicks.\n",
              "          quickchartButtonEl.classList.add('colab-df-spinner');\n",
              "          try {\n",
              "            const charts = await google.colab.kernel.invokeFunction(\n",
              "                'suggestCharts', [key], {});\n",
              "          } catch (error) {\n",
              "            console.error('Error during call to suggestCharts:', error);\n",
              "          }\n",
              "          quickchartButtonEl.classList.remove('colab-df-spinner');\n",
              "          quickchartButtonEl.classList.add('colab-df-quickchart-complete');\n",
              "        }\n",
              "        (() => {\n",
              "          let quickchartButtonEl =\n",
              "            document.querySelector('#df-75972a76-f3bc-4024-a5f1-198545081e42 button');\n",
              "          quickchartButtonEl.style.display =\n",
              "            google.colab.kernel.accessAllowed ? 'block' : 'none';\n",
              "        })();\n",
              "      </script>\n",
              "    </div>\n",
              "\n",
              "  <div id=\"id_68884171-4010-4f65-9fe7-8f90b6092764\">\n",
              "    <style>\n",
              "      .colab-df-generate {\n",
              "        background-color: #E8F0FE;\n",
              "        border: none;\n",
              "        border-radius: 50%;\n",
              "        cursor: pointer;\n",
              "        display: none;\n",
              "        fill: #1967D2;\n",
              "        height: 32px;\n",
              "        padding: 0 0 0 0;\n",
              "        width: 32px;\n",
              "      }\n",
              "\n",
              "      .colab-df-generate:hover {\n",
              "        background-color: #E2EBFA;\n",
              "        box-shadow: 0px 1px 2px rgba(60, 64, 67, 0.3), 0px 1px 3px 1px rgba(60, 64, 67, 0.15);\n",
              "        fill: #174EA6;\n",
              "      }\n",
              "\n",
              "      [theme=dark] .colab-df-generate {\n",
              "        background-color: #3B4455;\n",
              "        fill: #D2E3FC;\n",
              "      }\n",
              "\n",
              "      [theme=dark] .colab-df-generate:hover {\n",
              "        background-color: #434B5C;\n",
              "        box-shadow: 0px 1px 3px 1px rgba(0, 0, 0, 0.15);\n",
              "        filter: drop-shadow(0px 1px 2px rgba(0, 0, 0, 0.3));\n",
              "        fill: #FFFFFF;\n",
              "      }\n",
              "    </style>\n",
              "    <button class=\"colab-df-generate\" onclick=\"generateWithVariable('pivot_table')\"\n",
              "            title=\"Generate code using this dataframe.\"\n",
              "            style=\"display:none;\">\n",
              "\n",
              "  <svg xmlns=\"http://www.w3.org/2000/svg\" height=\"24px\"viewBox=\"0 0 24 24\"\n",
              "       width=\"24px\">\n",
              "    <path d=\"M7,19H8.4L18.45,9,17,7.55,7,17.6ZM5,21V16.75L18.45,3.32a2,2,0,0,1,2.83,0l1.4,1.43a1.91,1.91,0,0,1,.58,1.4,1.91,1.91,0,0,1-.58,1.4L9.25,21ZM18.45,9,17,7.55Zm-12,3A5.31,5.31,0,0,0,4.9,8.1,5.31,5.31,0,0,0,1,6.5,5.31,5.31,0,0,0,4.9,4.9,5.31,5.31,0,0,0,6.5,1,5.31,5.31,0,0,0,8.1,4.9,5.31,5.31,0,0,0,12,6.5,5.46,5.46,0,0,0,6.5,12Z\"/>\n",
              "  </svg>\n",
              "    </button>\n",
              "    <script>\n",
              "      (() => {\n",
              "      const buttonEl =\n",
              "        document.querySelector('#id_68884171-4010-4f65-9fe7-8f90b6092764 button.colab-df-generate');\n",
              "      buttonEl.style.display =\n",
              "        google.colab.kernel.accessAllowed ? 'block' : 'none';\n",
              "\n",
              "      buttonEl.onclick = () => {\n",
              "        google.colab.notebook.generateWithVariable('pivot_table');\n",
              "      }\n",
              "      })();\n",
              "    </script>\n",
              "  </div>\n",
              "\n",
              "    </div>\n",
              "  </div>\n"
            ],
            "application/vnd.google.colaboratory.intrinsic+json": {
              "type": "dataframe",
              "variable_name": "pivot_table",
              "summary": "{\n  \"name\": \"pivot_table\",\n  \"rows\": 4,\n  \"fields\": [\n    {\n      \"column\": \"posici\\u00f3n\",\n      \"properties\": {\n        \"dtype\": \"string\",\n        \"num_unique_values\": 4,\n        \"samples\": [\n          \"Defensa\",\n          \"Portero\",\n          \"Centrocampista\"\n        ],\n        \"semantic_type\": \"\",\n        \"description\": \"\"\n      }\n    },\n    {\n      \"column\": 1,\n      \"properties\": {\n        \"dtype\": \"number\",\n        \"std\": 2,\n        \"min\": 16,\n        \"max\": 22,\n        \"num_unique_values\": 4,\n        \"samples\": [\n          16,\n          19,\n          22\n        ],\n        \"semantic_type\": \"\",\n        \"description\": \"\"\n      }\n    },\n    {\n      \"column\": 2,\n      \"properties\": {\n        \"dtype\": \"number\",\n        \"std\": 3,\n        \"min\": 16,\n        \"max\": 23,\n        \"num_unique_values\": 4,\n        \"samples\": [\n          17,\n          16,\n          20\n        ],\n        \"semantic_type\": \"\",\n        \"description\": \"\"\n      }\n    },\n    {\n      \"column\": 3,\n      \"properties\": {\n        \"dtype\": \"number\",\n        \"std\": 1,\n        \"min\": 17,\n        \"max\": 21,\n        \"num_unique_values\": 4,\n        \"samples\": [\n          20,\n          17,\n          18\n        ],\n        \"semantic_type\": \"\",\n        \"description\": \"\"\n      }\n    },\n    {\n      \"column\": 4,\n      \"properties\": {\n        \"dtype\": \"number\",\n        \"std\": 1,\n        \"min\": 19,\n        \"max\": 22,\n        \"num_unique_values\": 4,\n        \"samples\": [\n          19,\n          21,\n          20\n        ],\n        \"semantic_type\": \"\",\n        \"description\": \"\"\n      }\n    }\n  ]\n}"
            }
          },
          "metadata": {}
        }
      ],
      "source": [
        "pivot_table = pd.pivot_table(df_futbolistas, values='horas_entrenamiento', index='posición', columns='liga', aggfunc='min')\n",
        "display(pivot_table)"
      ]
    },
    {
      "cell_type": "markdown",
      "id": "586e1d13-2951-4388-b06e-57fd8236c1cd",
      "metadata": {
        "id": "586e1d13-2951-4388-b06e-57fd8236c1cd"
      },
      "source": [
        "## Matplotlib"
      ]
    },
    {
      "cell_type": "code",
      "execution_count": 227,
      "id": "4192f584-4739-4288-8016-88f217b4f973",
      "metadata": {
        "tags": [],
        "id": "4192f584-4739-4288-8016-88f217b4f973"
      },
      "outputs": [],
      "source": [
        "import matplotlib.pyplot as plt"
      ]
    },
    {
      "cell_type": "markdown",
      "id": "2e2bb976-02bf-4886-8bce-d969f382fc34",
      "metadata": {
        "id": "2e2bb976-02bf-4886-8bce-d969f382fc34"
      },
      "source": [
        "Leer un archivo Excel llamado \"futbolistas.xlsx\" desde la carpeta \"DB\", estableciendo la columna \"Id\" como índice y parseando la columna \"Nacimiento\" como fecha"
      ]
    },
    {
      "cell_type": "code",
      "execution_count": 228,
      "id": "662f97f8-e1b0-4218-b00b-aade08c3fad6",
      "metadata": {
        "tags": [],
        "id": "662f97f8-e1b0-4218-b00b-aade08c3fad6",
        "colab": {
          "base_uri": "https://localhost:8080/",
          "height": 361
        },
        "outputId": "7f51f25e-214d-4c68-b581-3d0e7da3bbed"
      },
      "outputs": [
        {
          "output_type": "stream",
          "name": "stdout",
          "text": [
            "(400, 12)\n"
          ]
        },
        {
          "output_type": "execute_result",
          "data": {
            "text/plain": [
              "            Nombre  Liga  Prácticas  Horas_Entrenando    Altura        Precio  \\\n",
              "Id                                                                              \n",
              "1     Mario Llanos     1          4                 6  1.691695  4.711956e+05   \n",
              "2     Marta Nathal     1          6                 6  1.649811  7.872461e+05   \n",
              "3    Howard Sierra     1          5                13  1.835804  1.795484e+06   \n",
              "4        Luna Nava     1          3                 9  1.675274  9.755637e+05   \n",
              "5   Eugenio Ibarra     1          3                 5  1.597647  4.048235e+05   \n",
              "\n",
              "    Juegos Gimnasio Fuma Nacimiento Nutriólogo  Horas_Casa  \n",
              "Id                                                          \n",
              "1       12       No   Si 1998-01-25         Si           8  \n",
              "2       12       Si   No 1998-01-23         Si           8  \n",
              "3       10       Si   No 1998-01-24         Si           9  \n",
              "4       12       Si   No 1998-01-08         No           5  \n",
              "5        9       Si   No 1998-01-20         Si           5  "
            ],
            "text/html": [
              "\n",
              "  <div id=\"df-dd3a0703-7ee8-4872-a52c-a77694123c1c\" class=\"colab-df-container\">\n",
              "    <div>\n",
              "<style scoped>\n",
              "    .dataframe tbody tr th:only-of-type {\n",
              "        vertical-align: middle;\n",
              "    }\n",
              "\n",
              "    .dataframe tbody tr th {\n",
              "        vertical-align: top;\n",
              "    }\n",
              "\n",
              "    .dataframe thead th {\n",
              "        text-align: right;\n",
              "    }\n",
              "</style>\n",
              "<table border=\"1\" class=\"dataframe\">\n",
              "  <thead>\n",
              "    <tr style=\"text-align: right;\">\n",
              "      <th></th>\n",
              "      <th>Nombre</th>\n",
              "      <th>Liga</th>\n",
              "      <th>Prácticas</th>\n",
              "      <th>Horas_Entrenando</th>\n",
              "      <th>Altura</th>\n",
              "      <th>Precio</th>\n",
              "      <th>Juegos</th>\n",
              "      <th>Gimnasio</th>\n",
              "      <th>Fuma</th>\n",
              "      <th>Nacimiento</th>\n",
              "      <th>Nutriólogo</th>\n",
              "      <th>Horas_Casa</th>\n",
              "    </tr>\n",
              "    <tr>\n",
              "      <th>Id</th>\n",
              "      <th></th>\n",
              "      <th></th>\n",
              "      <th></th>\n",
              "      <th></th>\n",
              "      <th></th>\n",
              "      <th></th>\n",
              "      <th></th>\n",
              "      <th></th>\n",
              "      <th></th>\n",
              "      <th></th>\n",
              "      <th></th>\n",
              "      <th></th>\n",
              "    </tr>\n",
              "  </thead>\n",
              "  <tbody>\n",
              "    <tr>\n",
              "      <th>1</th>\n",
              "      <td>Mario Llanos</td>\n",
              "      <td>1</td>\n",
              "      <td>4</td>\n",
              "      <td>6</td>\n",
              "      <td>1.691695</td>\n",
              "      <td>4.711956e+05</td>\n",
              "      <td>12</td>\n",
              "      <td>No</td>\n",
              "      <td>Si</td>\n",
              "      <td>1998-01-25</td>\n",
              "      <td>Si</td>\n",
              "      <td>8</td>\n",
              "    </tr>\n",
              "    <tr>\n",
              "      <th>2</th>\n",
              "      <td>Marta Nathal</td>\n",
              "      <td>1</td>\n",
              "      <td>6</td>\n",
              "      <td>6</td>\n",
              "      <td>1.649811</td>\n",
              "      <td>7.872461e+05</td>\n",
              "      <td>12</td>\n",
              "      <td>Si</td>\n",
              "      <td>No</td>\n",
              "      <td>1998-01-23</td>\n",
              "      <td>Si</td>\n",
              "      <td>8</td>\n",
              "    </tr>\n",
              "    <tr>\n",
              "      <th>3</th>\n",
              "      <td>Howard Sierra</td>\n",
              "      <td>1</td>\n",
              "      <td>5</td>\n",
              "      <td>13</td>\n",
              "      <td>1.835804</td>\n",
              "      <td>1.795484e+06</td>\n",
              "      <td>10</td>\n",
              "      <td>Si</td>\n",
              "      <td>No</td>\n",
              "      <td>1998-01-24</td>\n",
              "      <td>Si</td>\n",
              "      <td>9</td>\n",
              "    </tr>\n",
              "    <tr>\n",
              "      <th>4</th>\n",
              "      <td>Luna Nava</td>\n",
              "      <td>1</td>\n",
              "      <td>3</td>\n",
              "      <td>9</td>\n",
              "      <td>1.675274</td>\n",
              "      <td>9.755637e+05</td>\n",
              "      <td>12</td>\n",
              "      <td>Si</td>\n",
              "      <td>No</td>\n",
              "      <td>1998-01-08</td>\n",
              "      <td>No</td>\n",
              "      <td>5</td>\n",
              "    </tr>\n",
              "    <tr>\n",
              "      <th>5</th>\n",
              "      <td>Eugenio Ibarra</td>\n",
              "      <td>1</td>\n",
              "      <td>3</td>\n",
              "      <td>5</td>\n",
              "      <td>1.597647</td>\n",
              "      <td>4.048235e+05</td>\n",
              "      <td>9</td>\n",
              "      <td>Si</td>\n",
              "      <td>No</td>\n",
              "      <td>1998-01-20</td>\n",
              "      <td>Si</td>\n",
              "      <td>5</td>\n",
              "    </tr>\n",
              "  </tbody>\n",
              "</table>\n",
              "</div>\n",
              "    <div class=\"colab-df-buttons\">\n",
              "\n",
              "  <div class=\"colab-df-container\">\n",
              "    <button class=\"colab-df-convert\" onclick=\"convertToInteractive('df-dd3a0703-7ee8-4872-a52c-a77694123c1c')\"\n",
              "            title=\"Convert this dataframe to an interactive table.\"\n",
              "            style=\"display:none;\">\n",
              "\n",
              "  <svg xmlns=\"http://www.w3.org/2000/svg\" height=\"24px\" viewBox=\"0 -960 960 960\">\n",
              "    <path d=\"M120-120v-720h720v720H120Zm60-500h600v-160H180v160Zm220 220h160v-160H400v160Zm0 220h160v-160H400v160ZM180-400h160v-160H180v160Zm440 0h160v-160H620v160ZM180-180h160v-160H180v160Zm440 0h160v-160H620v160Z\"/>\n",
              "  </svg>\n",
              "    </button>\n",
              "\n",
              "  <style>\n",
              "    .colab-df-container {\n",
              "      display:flex;\n",
              "      gap: 12px;\n",
              "    }\n",
              "\n",
              "    .colab-df-convert {\n",
              "      background-color: #E8F0FE;\n",
              "      border: none;\n",
              "      border-radius: 50%;\n",
              "      cursor: pointer;\n",
              "      display: none;\n",
              "      fill: #1967D2;\n",
              "      height: 32px;\n",
              "      padding: 0 0 0 0;\n",
              "      width: 32px;\n",
              "    }\n",
              "\n",
              "    .colab-df-convert:hover {\n",
              "      background-color: #E2EBFA;\n",
              "      box-shadow: 0px 1px 2px rgba(60, 64, 67, 0.3), 0px 1px 3px 1px rgba(60, 64, 67, 0.15);\n",
              "      fill: #174EA6;\n",
              "    }\n",
              "\n",
              "    .colab-df-buttons div {\n",
              "      margin-bottom: 4px;\n",
              "    }\n",
              "\n",
              "    [theme=dark] .colab-df-convert {\n",
              "      background-color: #3B4455;\n",
              "      fill: #D2E3FC;\n",
              "    }\n",
              "\n",
              "    [theme=dark] .colab-df-convert:hover {\n",
              "      background-color: #434B5C;\n",
              "      box-shadow: 0px 1px 3px 1px rgba(0, 0, 0, 0.15);\n",
              "      filter: drop-shadow(0px 1px 2px rgba(0, 0, 0, 0.3));\n",
              "      fill: #FFFFFF;\n",
              "    }\n",
              "  </style>\n",
              "\n",
              "    <script>\n",
              "      const buttonEl =\n",
              "        document.querySelector('#df-dd3a0703-7ee8-4872-a52c-a77694123c1c button.colab-df-convert');\n",
              "      buttonEl.style.display =\n",
              "        google.colab.kernel.accessAllowed ? 'block' : 'none';\n",
              "\n",
              "      async function convertToInteractive(key) {\n",
              "        const element = document.querySelector('#df-dd3a0703-7ee8-4872-a52c-a77694123c1c');\n",
              "        const dataTable =\n",
              "          await google.colab.kernel.invokeFunction('convertToInteractive',\n",
              "                                                    [key], {});\n",
              "        if (!dataTable) return;\n",
              "\n",
              "        const docLinkHtml = 'Like what you see? Visit the ' +\n",
              "          '<a target=\"_blank\" href=https://colab.research.google.com/notebooks/data_table.ipynb>data table notebook</a>'\n",
              "          + ' to learn more about interactive tables.';\n",
              "        element.innerHTML = '';\n",
              "        dataTable['output_type'] = 'display_data';\n",
              "        await google.colab.output.renderOutput(dataTable, element);\n",
              "        const docLink = document.createElement('div');\n",
              "        docLink.innerHTML = docLinkHtml;\n",
              "        element.appendChild(docLink);\n",
              "      }\n",
              "    </script>\n",
              "  </div>\n",
              "\n",
              "\n",
              "    <div id=\"df-71dc7c11-6bb9-45a9-8224-44bb3434a00f\">\n",
              "      <button class=\"colab-df-quickchart\" onclick=\"quickchart('df-71dc7c11-6bb9-45a9-8224-44bb3434a00f')\"\n",
              "                title=\"Suggest charts\"\n",
              "                style=\"display:none;\">\n",
              "\n",
              "<svg xmlns=\"http://www.w3.org/2000/svg\" height=\"24px\"viewBox=\"0 0 24 24\"\n",
              "     width=\"24px\">\n",
              "    <g>\n",
              "        <path d=\"M19 3H5c-1.1 0-2 .9-2 2v14c0 1.1.9 2 2 2h14c1.1 0 2-.9 2-2V5c0-1.1-.9-2-2-2zM9 17H7v-7h2v7zm4 0h-2V7h2v10zm4 0h-2v-4h2v4z\"/>\n",
              "    </g>\n",
              "</svg>\n",
              "      </button>\n",
              "\n",
              "<style>\n",
              "  .colab-df-quickchart {\n",
              "      --bg-color: #E8F0FE;\n",
              "      --fill-color: #1967D2;\n",
              "      --hover-bg-color: #E2EBFA;\n",
              "      --hover-fill-color: #174EA6;\n",
              "      --disabled-fill-color: #AAA;\n",
              "      --disabled-bg-color: #DDD;\n",
              "  }\n",
              "\n",
              "  [theme=dark] .colab-df-quickchart {\n",
              "      --bg-color: #3B4455;\n",
              "      --fill-color: #D2E3FC;\n",
              "      --hover-bg-color: #434B5C;\n",
              "      --hover-fill-color: #FFFFFF;\n",
              "      --disabled-bg-color: #3B4455;\n",
              "      --disabled-fill-color: #666;\n",
              "  }\n",
              "\n",
              "  .colab-df-quickchart {\n",
              "    background-color: var(--bg-color);\n",
              "    border: none;\n",
              "    border-radius: 50%;\n",
              "    cursor: pointer;\n",
              "    display: none;\n",
              "    fill: var(--fill-color);\n",
              "    height: 32px;\n",
              "    padding: 0;\n",
              "    width: 32px;\n",
              "  }\n",
              "\n",
              "  .colab-df-quickchart:hover {\n",
              "    background-color: var(--hover-bg-color);\n",
              "    box-shadow: 0 1px 2px rgba(60, 64, 67, 0.3), 0 1px 3px 1px rgba(60, 64, 67, 0.15);\n",
              "    fill: var(--button-hover-fill-color);\n",
              "  }\n",
              "\n",
              "  .colab-df-quickchart-complete:disabled,\n",
              "  .colab-df-quickchart-complete:disabled:hover {\n",
              "    background-color: var(--disabled-bg-color);\n",
              "    fill: var(--disabled-fill-color);\n",
              "    box-shadow: none;\n",
              "  }\n",
              "\n",
              "  .colab-df-spinner {\n",
              "    border: 2px solid var(--fill-color);\n",
              "    border-color: transparent;\n",
              "    border-bottom-color: var(--fill-color);\n",
              "    animation:\n",
              "      spin 1s steps(1) infinite;\n",
              "  }\n",
              "\n",
              "  @keyframes spin {\n",
              "    0% {\n",
              "      border-color: transparent;\n",
              "      border-bottom-color: var(--fill-color);\n",
              "      border-left-color: var(--fill-color);\n",
              "    }\n",
              "    20% {\n",
              "      border-color: transparent;\n",
              "      border-left-color: var(--fill-color);\n",
              "      border-top-color: var(--fill-color);\n",
              "    }\n",
              "    30% {\n",
              "      border-color: transparent;\n",
              "      border-left-color: var(--fill-color);\n",
              "      border-top-color: var(--fill-color);\n",
              "      border-right-color: var(--fill-color);\n",
              "    }\n",
              "    40% {\n",
              "      border-color: transparent;\n",
              "      border-right-color: var(--fill-color);\n",
              "      border-top-color: var(--fill-color);\n",
              "    }\n",
              "    60% {\n",
              "      border-color: transparent;\n",
              "      border-right-color: var(--fill-color);\n",
              "    }\n",
              "    80% {\n",
              "      border-color: transparent;\n",
              "      border-right-color: var(--fill-color);\n",
              "      border-bottom-color: var(--fill-color);\n",
              "    }\n",
              "    90% {\n",
              "      border-color: transparent;\n",
              "      border-bottom-color: var(--fill-color);\n",
              "    }\n",
              "  }\n",
              "</style>\n",
              "\n",
              "      <script>\n",
              "        async function quickchart(key) {\n",
              "          const quickchartButtonEl =\n",
              "            document.querySelector('#' + key + ' button');\n",
              "          quickchartButtonEl.disabled = true;  // To prevent multiple clicks.\n",
              "          quickchartButtonEl.classList.add('colab-df-spinner');\n",
              "          try {\n",
              "            const charts = await google.colab.kernel.invokeFunction(\n",
              "                'suggestCharts', [key], {});\n",
              "          } catch (error) {\n",
              "            console.error('Error during call to suggestCharts:', error);\n",
              "          }\n",
              "          quickchartButtonEl.classList.remove('colab-df-spinner');\n",
              "          quickchartButtonEl.classList.add('colab-df-quickchart-complete');\n",
              "        }\n",
              "        (() => {\n",
              "          let quickchartButtonEl =\n",
              "            document.querySelector('#df-71dc7c11-6bb9-45a9-8224-44bb3434a00f button');\n",
              "          quickchartButtonEl.style.display =\n",
              "            google.colab.kernel.accessAllowed ? 'block' : 'none';\n",
              "        })();\n",
              "      </script>\n",
              "    </div>\n",
              "\n",
              "    </div>\n",
              "  </div>\n"
            ],
            "application/vnd.google.colaboratory.intrinsic+json": {
              "type": "dataframe",
              "variable_name": "df",
              "summary": "{\n  \"name\": \"df\",\n  \"rows\": 400,\n  \"fields\": [\n    {\n      \"column\": \"Id\",\n      \"properties\": {\n        \"dtype\": \"number\",\n        \"std\": 115,\n        \"min\": 1,\n        \"max\": 400,\n        \"num_unique_values\": 400,\n        \"samples\": [\n          210,\n          281,\n          34\n        ],\n        \"semantic_type\": \"\",\n        \"description\": \"\"\n      }\n    },\n    {\n      \"column\": \"Nombre\",\n      \"properties\": {\n        \"dtype\": \"string\",\n        \"num_unique_values\": 399,\n        \"samples\": [\n          \"Kunico Uscanga\",\n          \"F\\u00e9lix Lazcano\",\n          \"Pablo Vanegas\"\n        ],\n        \"semantic_type\": \"\",\n        \"description\": \"\"\n      }\n    },\n    {\n      \"column\": \"Liga\",\n      \"properties\": {\n        \"dtype\": \"number\",\n        \"std\": 0,\n        \"min\": 1,\n        \"max\": 4,\n        \"num_unique_values\": 4,\n        \"samples\": [\n          2,\n          4,\n          1\n        ],\n        \"semantic_type\": \"\",\n        \"description\": \"\"\n      }\n    },\n    {\n      \"column\": \"Pr\\u00e1cticas\",\n      \"properties\": {\n        \"dtype\": \"number\",\n        \"std\": 1,\n        \"min\": 1,\n        \"max\": 9,\n        \"num_unique_values\": 9,\n        \"samples\": [\n          2,\n          6,\n          8\n        ],\n        \"semantic_type\": \"\",\n        \"description\": \"\"\n      }\n    },\n    {\n      \"column\": \"Horas_Entrenando\",\n      \"properties\": {\n        \"dtype\": \"number\",\n        \"std\": 4,\n        \"min\": 1,\n        \"max\": 21,\n        \"num_unique_values\": 21,\n        \"samples\": [\n          6,\n          3,\n          2\n        ],\n        \"semantic_type\": \"\",\n        \"description\": \"\"\n      }\n    },\n    {\n      \"column\": \"Altura\",\n      \"properties\": {\n        \"dtype\": \"number\",\n        \"std\": 0.10555987909593399,\n        \"min\": 1.3599207960012298,\n        \"max\": 2.0191158621762084,\n        \"num_unique_values\": 400,\n        \"samples\": [\n          1.409876893832877,\n          1.5396166958780761,\n          1.7007768464351423\n        ],\n        \"semantic_type\": \"\",\n        \"description\": \"\"\n      }\n    },\n    {\n      \"column\": \"Precio\",\n      \"properties\": {\n        \"dtype\": \"number\",\n        \"std\": 548807.0309607987,\n        \"min\": 0.0,\n        \"max\": 2558990.7109169997,\n        \"num_unique_values\": 369,\n        \"samples\": [\n          1538065.7519038625,\n          477571.5116038099,\n          1263484.3780784518\n        ],\n        \"semantic_type\": \"\",\n        \"description\": \"\"\n      }\n    },\n    {\n      \"column\": \"Juegos\",\n      \"properties\": {\n        \"dtype\": \"number\",\n        \"std\": 2,\n        \"min\": 1,\n        \"max\": 12,\n        \"num_unique_values\": 12,\n        \"samples\": [\n          3,\n          2,\n          12\n        ],\n        \"semantic_type\": \"\",\n        \"description\": \"\"\n      }\n    },\n    {\n      \"column\": \"Gimnasio\",\n      \"properties\": {\n        \"dtype\": \"category\",\n        \"num_unique_values\": 2,\n        \"samples\": [\n          \"Si\",\n          \"No\"\n        ],\n        \"semantic_type\": \"\",\n        \"description\": \"\"\n      }\n    },\n    {\n      \"column\": \"Fuma\",\n      \"properties\": {\n        \"dtype\": \"category\",\n        \"num_unique_values\": 2,\n        \"samples\": [\n          \"No\",\n          \"Si\"\n        ],\n        \"semantic_type\": \"\",\n        \"description\": \"\"\n      }\n    },\n    {\n      \"column\": \"Nacimiento\",\n      \"properties\": {\n        \"dtype\": \"date\",\n        \"min\": \"1998-01-01 00:00:00\",\n        \"max\": \"1998-12-28 00:00:00\",\n        \"num_unique_values\": 224,\n        \"samples\": [\n          \"1998-01-06 00:00:00\",\n          \"1998-05-17 00:00:00\"\n        ],\n        \"semantic_type\": \"\",\n        \"description\": \"\"\n      }\n    },\n    {\n      \"column\": \"Nutri\\u00f3logo\",\n      \"properties\": {\n        \"dtype\": \"category\",\n        \"num_unique_values\": 2,\n        \"samples\": [\n          \"No\",\n          \"Si\"\n        ],\n        \"semantic_type\": \"\",\n        \"description\": \"\"\n      }\n    },\n    {\n      \"column\": \"Horas_Casa\",\n      \"properties\": {\n        \"dtype\": \"number\",\n        \"std\": 2,\n        \"min\": 0,\n        \"max\": 9,\n        \"num_unique_values\": 10,\n        \"samples\": [\n          0,\n          9\n        ],\n        \"semantic_type\": \"\",\n        \"description\": \"\"\n      }\n    }\n  ]\n}"
            }
          },
          "metadata": {},
          "execution_count": 228
        }
      ],
      "source": [
        "df=pd.read_excel(\"DB/futbolistas.xlsx\", index_col=\"Id\", parse_dates=[\"Nacimiento\"])\n",
        "print(df.shape)\n",
        "df.head()"
      ]
    },
    {
      "cell_type": "markdown",
      "id": "9780c3de-a73b-4955-a9f1-d6a99a64b9b9",
      "metadata": {
        "id": "9780c3de-a73b-4955-a9f1-d6a99a64b9b9"
      },
      "source": [
        "Crear un gráfico de dispersión con las \"horas de entrenamiento\" en el eje x y el \"precio\" en el eje y"
      ]
    },
    {
      "cell_type": "code",
      "execution_count": 229,
      "id": "29b1779e-6df4-4bd3-a48e-f0cc1296cae0",
      "metadata": {
        "tags": [],
        "id": "29b1779e-6df4-4bd3-a48e-f0cc1296cae0",
        "colab": {
          "base_uri": "https://localhost:8080/",
          "height": 472
        },
        "outputId": "08d972cf-2b79-42c2-95c2-cd3ce2c12aa1"
      },
      "outputs": [
        {
          "output_type": "display_data",
          "data": {
            "text/plain": [
              "<Figure size 640x480 with 1 Axes>"
            ],
            "image/png": "[encoded data removed]"
          },
          "metadata": {}
        }
      ],
      "source": [
        "plt.scatter(df['Horas_Entrenando'], df['Precio'])\n",
        "plt.xlabel('Horas de Entrenamiento')\n",
        "plt.ylabel('Precio')\n",
        "plt.title('Relación entre Horas de Entrenamiento y Precio')\n",
        "plt.show()"
      ]
    },
    {
      "cell_type": "markdown",
      "id": "e3fae701-b067-4d60-b331-3b8d977ee1c6",
      "metadata": {
        "id": "e3fae701-b067-4d60-b331-3b8d977ee1c6"
      },
      "source": [
        "Crear un gráfico de pastel con la distribución de jugadores por liga del DataFrame \"futbolistas\""
      ]
    },
    {
      "cell_type": "code",
      "execution_count": 230,
      "id": "1764f9f9-0f69-48fc-b9dd-e3bc050755d7",
      "metadata": {
        "tags": [],
        "id": "1764f9f9-0f69-48fc-b9dd-e3bc050755d7",
        "colab": {
          "base_uri": "https://localhost:8080/",
          "height": 429
        },
        "outputId": "a92a5766-5005-475d-cc88-45fd8c42b66f"
      },
      "outputs": [
        {
          "output_type": "display_data",
          "data": {
            "text/plain": [
              "<Figure size 640x480 with 1 Axes>"
            ],
            "image/png": "[encoded data removed]"
          },
          "metadata": {}
        }
      ],
      "source": [
        "# Conteo de jugadores por liga\n",
        "conteo_ligas = df['Liga'].value_counts()\n",
        "\n",
        "# Etiquetas y tamaños\n",
        "labels = conteo_ligas.index\n",
        "sizes = conteo_ligas.values\n",
        "\n",
        "import matplotlib.pyplot as plt\n",
        "\n",
        "fig, ax = plt.subplots()\n",
        "ax.pie(sizes, labels=labels, autopct='%1.1f%%', startangle=90)\n",
        "ax.set_title(\"Distribución de jugadores por liga\")\n",
        "plt.show()\n"
      ]
    },
    {
      "cell_type": "markdown",
      "id": "4d9a5210-9341-4681-aaa0-d0ad70356d58",
      "metadata": {
        "id": "4d9a5210-9341-4681-aaa0-d0ad70356d58"
      },
      "source": [
        "Crear una tabla pivote con las horas de entrenamiento según las prácticas y si fuman o no en el DataFrame \"futbolistas\""
      ]
    },
    {
      "cell_type": "code",
      "execution_count": 231,
      "id": "3a08f413-1996-477f-8053-419c5b9a845f",
      "metadata": {
        "tags": [],
        "id": "3a08f413-1996-477f-8053-419c5b9a845f",
        "colab": {
          "base_uri": "https://localhost:8080/",
          "height": 363
        },
        "outputId": "c7382e15-cdf4-45d4-8789-aceeda2cdd05"
      },
      "outputs": [
        {
          "output_type": "display_data",
          "data": {
            "text/plain": [
              "Fuma              No         Si\n",
              "Prácticas                      \n",
              "1           2.028571   2.200000\n",
              "2           3.730769   3.700000\n",
              "3           5.767857   5.730769\n",
              "4           8.152174   9.045455\n",
              "5           9.666667  10.411765\n",
              "6          13.842105  14.000000\n",
              "7          16.380952  16.750000\n",
              "8          12.400000  13.333333\n",
              "9          21.000000  11.000000"
            ],
            "text/html": [
              "\n",
              "  <div id=\"df-9dbbab43-65ea-40fe-aeeb-0e1d64a27d76\" class=\"colab-df-container\">\n",
              "    <div>\n",
              "<style scoped>\n",
              "    .dataframe tbody tr th:only-of-type {\n",
              "        vertical-align: middle;\n",
              "    }\n",
              "\n",
              "    .dataframe tbody tr th {\n",
              "        vertical-align: top;\n",
              "    }\n",
              "\n",
              "    .dataframe thead th {\n",
              "        text-align: right;\n",
              "    }\n",
              "</style>\n",
              "<table border=\"1\" class=\"dataframe\">\n",
              "  <thead>\n",
              "    <tr style=\"text-align: right;\">\n",
              "      <th>Fuma</th>\n",
              "      <th>No</th>\n",
              "      <th>Si</th>\n",
              "    </tr>\n",
              "    <tr>\n",
              "      <th>Prácticas</th>\n",
              "      <th></th>\n",
              "      <th></th>\n",
              "    </tr>\n",
              "  </thead>\n",
              "  <tbody>\n",
              "    <tr>\n",
              "      <th>1</th>\n",
              "      <td>2.028571</td>\n",
              "      <td>2.200000</td>\n",
              "    </tr>\n",
              "    <tr>\n",
              "      <th>2</th>\n",
              "      <td>3.730769</td>\n",
              "      <td>3.700000</td>\n",
              "    </tr>\n",
              "    <tr>\n",
              "      <th>3</th>\n",
              "      <td>5.767857</td>\n",
              "      <td>5.730769</td>\n",
              "    </tr>\n",
              "    <tr>\n",
              "      <th>4</th>\n",
              "      <td>8.152174</td>\n",
              "      <td>9.045455</td>\n",
              "    </tr>\n",
              "    <tr>\n",
              "      <th>5</th>\n",
              "      <td>9.666667</td>\n",
              "      <td>10.411765</td>\n",
              "    </tr>\n",
              "    <tr>\n",
              "      <th>6</th>\n",
              "      <td>13.842105</td>\n",
              "      <td>14.000000</td>\n",
              "    </tr>\n",
              "    <tr>\n",
              "      <th>7</th>\n",
              "      <td>16.380952</td>\n",
              "      <td>16.750000</td>\n",
              "    </tr>\n",
              "    <tr>\n",
              "      <th>8</th>\n",
              "      <td>12.400000</td>\n",
              "      <td>13.333333</td>\n",
              "    </tr>\n",
              "    <tr>\n",
              "      <th>9</th>\n",
              "      <td>21.000000</td>\n",
              "      <td>11.000000</td>\n",
              "    </tr>\n",
              "  </tbody>\n",
              "</table>\n",
              "</div>\n",
              "    <div class=\"colab-df-buttons\">\n",
              "\n",
              "  <div class=\"colab-df-container\">\n",
              "    <button class=\"colab-df-convert\" onclick=\"convertToInteractive('df-9dbbab43-65ea-40fe-aeeb-0e1d64a27d76')\"\n",
              "            title=\"Convert this dataframe to an interactive table.\"\n",
              "            style=\"display:none;\">\n",
              "\n",
              "  <svg xmlns=\"http://www.w3.org/2000/svg\" height=\"24px\" viewBox=\"0 -960 960 960\">\n",
              "    <path d=\"M120-120v-720h720v720H120Zm60-500h600v-160H180v160Zm220 220h160v-160H400v160Zm0 220h160v-160H400v160ZM180-400h160v-160H180v160Zm440 0h160v-160H620v160ZM180-180h160v-160H180v160Zm440 0h160v-160H620v160Z\"/>\n",
              "  </svg>\n",
              "    </button>\n",
              "\n",
              "  <style>\n",
              "    .colab-df-container {\n",
              "      display:flex;\n",
              "      gap: 12px;\n",
              "    }\n",
              "\n",
              "    .colab-df-convert {\n",
              "      background-color: #E8F0FE;\n",
              "      border: none;\n",
              "      border-radius: 50%;\n",
              "      cursor: pointer;\n",
              "      display: none;\n",
              "      fill: #1967D2;\n",
              "      height: 32px;\n",
              "      padding: 0 0 0 0;\n",
              "      width: 32px;\n",
              "    }\n",
              "\n",
              "    .colab-df-convert:hover {\n",
              "      background-color: #E2EBFA;\n",
              "      box-shadow: 0px 1px 2px rgba(60, 64, 67, 0.3), 0px 1px 3px 1px rgba(60, 64, 67, 0.15);\n",
              "      fill: #174EA6;\n",
              "    }\n",
              "\n",
              "    .colab-df-buttons div {\n",
              "      margin-bottom: 4px;\n",
              "    }\n",
              "\n",
              "    [theme=dark] .colab-df-convert {\n",
              "      background-color: #3B4455;\n",
              "      fill: #D2E3FC;\n",
              "    }\n",
              "\n",
              "    [theme=dark] .colab-df-convert:hover {\n",
              "      background-color: #434B5C;\n",
              "      box-shadow: 0px 1px 3px 1px rgba(0, 0, 0, 0.15);\n",
              "      filter: drop-shadow(0px 1px 2px rgba(0, 0, 0, 0.3));\n",
              "      fill: #FFFFFF;\n",
              "    }\n",
              "  </style>\n",
              "\n",
              "    <script>\n",
              "      const buttonEl =\n",
              "        document.querySelector('#df-9dbbab43-65ea-40fe-aeeb-0e1d64a27d76 button.colab-df-convert');\n",
              "      buttonEl.style.display =\n",
              "        google.colab.kernel.accessAllowed ? 'block' : 'none';\n",
              "\n",
              "      async function convertToInteractive(key) {\n",
              "        const element = document.querySelector('#df-9dbbab43-65ea-40fe-aeeb-0e1d64a27d76');\n",
              "        const dataTable =\n",
              "          await google.colab.kernel.invokeFunction('convertToInteractive',\n",
              "                                                    [key], {});\n",
              "        if (!dataTable) return;\n",
              "\n",
              "        const docLinkHtml = 'Like what you see? Visit the ' +\n",
              "          '<a target=\"_blank\" href=https://colab.research.google.com/notebooks/data_table.ipynb>data table notebook</a>'\n",
              "          + ' to learn more about interactive tables.';\n",
              "        element.innerHTML = '';\n",
              "        dataTable['output_type'] = 'display_data';\n",
              "        await google.colab.output.renderOutput(dataTable, element);\n",
              "        const docLink = document.createElement('div');\n",
              "        docLink.innerHTML = docLinkHtml;\n",
              "        element.appendChild(docLink);\n",
              "      }\n",
              "    </script>\n",
              "  </div>\n",
              "\n",
              "\n",
              "    <div id=\"df-9ad92ab2-6552-4ceb-859c-5fb576fc1088\">\n",
              "      <button class=\"colab-df-quickchart\" onclick=\"quickchart('df-9ad92ab2-6552-4ceb-859c-5fb576fc1088')\"\n",
              "                title=\"Suggest charts\"\n",
              "                style=\"display:none;\">\n",
              "\n",
              "<svg xmlns=\"http://www.w3.org/2000/svg\" height=\"24px\"viewBox=\"0 0 24 24\"\n",
              "     width=\"24px\">\n",
              "    <g>\n",
              "        <path d=\"M19 3H5c-1.1 0-2 .9-2 2v14c0 1.1.9 2 2 2h14c1.1 0 2-.9 2-2V5c0-1.1-.9-2-2-2zM9 17H7v-7h2v7zm4 0h-2V7h2v10zm4 0h-2v-4h2v4z\"/>\n",
              "    </g>\n",
              "</svg>\n",
              "      </button>\n",
              "\n",
              "<style>\n",
              "  .colab-df-quickchart {\n",
              "      --bg-color: #E8F0FE;\n",
              "      --fill-color: #1967D2;\n",
              "      --hover-bg-color: #E2EBFA;\n",
              "      --hover-fill-color: #174EA6;\n",
              "      --disabled-fill-color: #AAA;\n",
              "      --disabled-bg-color: #DDD;\n",
              "  }\n",
              "\n",
              "  [theme=dark] .colab-df-quickchart {\n",
              "      --bg-color: #3B4455;\n",
              "      --fill-color: #D2E3FC;\n",
              "      --hover-bg-color: #434B5C;\n",
              "      --hover-fill-color: #FFFFFF;\n",
              "      --disabled-bg-color: #3B4455;\n",
              "      --disabled-fill-color: #666;\n",
              "  }\n",
              "\n",
              "  .colab-df-quickchart {\n",
              "    background-color: var(--bg-color);\n",
              "    border: none;\n",
              "    border-radius: 50%;\n",
              "    cursor: pointer;\n",
              "    display: none;\n",
              "    fill: var(--fill-color);\n",
              "    height: 32px;\n",
              "    padding: 0;\n",
              "    width: 32px;\n",
              "  }\n",
              "\n",
              "  .colab-df-quickchart:hover {\n",
              "    background-color: var(--hover-bg-color);\n",
              "    box-shadow: 0 1px 2px rgba(60, 64, 67, 0.3), 0 1px 3px 1px rgba(60, 64, 67, 0.15);\n",
              "    fill: var(--button-hover-fill-color);\n",
              "  }\n",
              "\n",
              "  .colab-df-quickchart-complete:disabled,\n",
              "  .colab-df-quickchart-complete:disabled:hover {\n",
              "    background-color: var(--disabled-bg-color);\n",
              "    fill: var(--disabled-fill-color);\n",
              "    box-shadow: none;\n",
              "  }\n",
              "\n",
              "  .colab-df-spinner {\n",
              "    border: 2px solid var(--fill-color);\n",
              "    border-color: transparent;\n",
              "    border-bottom-color: var(--fill-color);\n",
              "    animation:\n",
              "      spin 1s steps(1) infinite;\n",
              "  }\n",
              "\n",
              "  @keyframes spin {\n",
              "    0% {\n",
              "      border-color: transparent;\n",
              "      border-bottom-color: var(--fill-color);\n",
              "      border-left-color: var(--fill-color);\n",
              "    }\n",
              "    20% {\n",
              "      border-color: transparent;\n",
              "      border-left-color: var(--fill-color);\n",
              "      border-top-color: var(--fill-color);\n",
              "    }\n",
              "    30% {\n",
              "      border-color: transparent;\n",
              "      border-left-color: var(--fill-color);\n",
              "      border-top-color: var(--fill-color);\n",
              "      border-right-color: var(--fill-color);\n",
              "    }\n",
              "    40% {\n",
              "      border-color: transparent;\n",
              "      border-right-color: var(--fill-color);\n",
              "      border-top-color: var(--fill-color);\n",
              "    }\n",
              "    60% {\n",
              "      border-color: transparent;\n",
              "      border-right-color: var(--fill-color);\n",
              "    }\n",
              "    80% {\n",
              "      border-color: transparent;\n",
              "      border-right-color: var(--fill-color);\n",
              "      border-bottom-color: var(--fill-color);\n",
              "    }\n",
              "    90% {\n",
              "      border-color: transparent;\n",
              "      border-bottom-color: var(--fill-color);\n",
              "    }\n",
              "  }\n",
              "</style>\n",
              "\n",
              "      <script>\n",
              "        async function quickchart(key) {\n",
              "          const quickchartButtonEl =\n",
              "            document.querySelector('#' + key + ' button');\n",
              "          quickchartButtonEl.disabled = true;  // To prevent multiple clicks.\n",
              "          quickchartButtonEl.classList.add('colab-df-spinner');\n",
              "          try {\n",
              "            const charts = await google.colab.kernel.invokeFunction(\n",
              "                'suggestCharts', [key], {});\n",
              "          } catch (error) {\n",
              "            console.error('Error during call to suggestCharts:', error);\n",
              "          }\n",
              "          quickchartButtonEl.classList.remove('colab-df-spinner');\n",
              "          quickchartButtonEl.classList.add('colab-df-quickchart-complete');\n",
              "        }\n",
              "        (() => {\n",
              "          let quickchartButtonEl =\n",
              "            document.querySelector('#df-9ad92ab2-6552-4ceb-859c-5fb576fc1088 button');\n",
              "          quickchartButtonEl.style.display =\n",
              "            google.colab.kernel.accessAllowed ? 'block' : 'none';\n",
              "        })();\n",
              "      </script>\n",
              "    </div>\n",
              "\n",
              "  <div id=\"id_158280bd-7923-4715-9b4e-801118e79f6f\">\n",
              "    <style>\n",
              "      .colab-df-generate {\n",
              "        background-color: #E8F0FE;\n",
              "        border: none;\n",
              "        border-radius: 50%;\n",
              "        cursor: pointer;\n",
              "        display: none;\n",
              "        fill: #1967D2;\n",
              "        height: 32px;\n",
              "        padding: 0 0 0 0;\n",
              "        width: 32px;\n",
              "      }\n",
              "\n",
              "      .colab-df-generate:hover {\n",
              "        background-color: #E2EBFA;\n",
              "        box-shadow: 0px 1px 2px rgba(60, 64, 67, 0.3), 0px 1px 3px 1px rgba(60, 64, 67, 0.15);\n",
              "        fill: #174EA6;\n",
              "      }\n",
              "\n",
              "      [theme=dark] .colab-df-generate {\n",
              "        background-color: #3B4455;\n",
              "        fill: #D2E3FC;\n",
              "      }\n",
              "\n",
              "      [theme=dark] .colab-df-generate:hover {\n",
              "        background-color: #434B5C;\n",
              "        box-shadow: 0px 1px 3px 1px rgba(0, 0, 0, 0.15);\n",
              "        filter: drop-shadow(0px 1px 2px rgba(0, 0, 0, 0.3));\n",
              "        fill: #FFFFFF;\n",
              "      }\n",
              "    </style>\n",
              "    <button class=\"colab-df-generate\" onclick=\"generateWithVariable('fumatabla')\"\n",
              "            title=\"Generate code using this dataframe.\"\n",
              "            style=\"display:none;\">\n",
              "\n",
              "  <svg xmlns=\"http://www.w3.org/2000/svg\" height=\"24px\"viewBox=\"0 0 24 24\"\n",
              "       width=\"24px\">\n",
              "    <path d=\"M7,19H8.4L18.45,9,17,7.55,7,17.6ZM5,21V16.75L18.45,3.32a2,2,0,0,1,2.83,0l1.4,1.43a1.91,1.91,0,0,1,.58,1.4,1.91,1.91,0,0,1-.58,1.4L9.25,21ZM18.45,9,17,7.55Zm-12,3A5.31,5.31,0,0,0,4.9,8.1,5.31,5.31,0,0,0,1,6.5,5.31,5.31,0,0,0,4.9,4.9,5.31,5.31,0,0,0,6.5,1,5.31,5.31,0,0,0,8.1,4.9,5.31,5.31,0,0,0,12,6.5,5.46,5.46,0,0,0,6.5,12Z\"/>\n",
              "  </svg>\n",
              "    </button>\n",
              "    <script>\n",
              "      (() => {\n",
              "      const buttonEl =\n",
              "        document.querySelector('#id_158280bd-7923-4715-9b4e-801118e79f6f button.colab-df-generate');\n",
              "      buttonEl.style.display =\n",
              "        google.colab.kernel.accessAllowed ? 'block' : 'none';\n",
              "\n",
              "      buttonEl.onclick = () => {\n",
              "        google.colab.notebook.generateWithVariable('fumatabla');\n",
              "      }\n",
              "      })();\n",
              "    </script>\n",
              "  </div>\n",
              "\n",
              "    </div>\n",
              "  </div>\n"
            ],
            "application/vnd.google.colaboratory.intrinsic+json": {
              "type": "dataframe",
              "variable_name": "fumatabla",
              "summary": "{\n  \"name\": \"fumatabla\",\n  \"rows\": 9,\n  \"fields\": [\n    {\n      \"column\": \"Pr\\u00e1cticas\",\n      \"properties\": {\n        \"dtype\": \"number\",\n        \"std\": 2,\n        \"min\": 1,\n        \"max\": 9,\n        \"num_unique_values\": 9,\n        \"samples\": [\n          8,\n          2,\n          6\n        ],\n        \"semantic_type\": \"\",\n        \"description\": \"\"\n      }\n    },\n    {\n      \"column\": \"No\",\n      \"properties\": {\n        \"dtype\": \"number\",\n        \"std\": 6.1800319184296075,\n        \"min\": 2.0285714285714285,\n        \"max\": 21.0,\n        \"num_unique_values\": 9,\n        \"samples\": [\n          12.4,\n          3.730769230769231,\n          13.842105263157896\n        ],\n        \"semantic_type\": \"\",\n        \"description\": \"\"\n      }\n    },\n    {\n      \"column\": \"Si\",\n      \"properties\": {\n        \"dtype\": \"number\",\n        \"std\": 4.89747252046602,\n        \"min\": 2.2,\n        \"max\": 16.75,\n        \"num_unique_values\": 9,\n        \"samples\": [\n          13.333333333333334,\n          3.7,\n          14.0\n        ],\n        \"semantic_type\": \"\",\n        \"description\": \"\"\n      }\n    }\n  ]\n}"
            }
          },
          "metadata": {}
        }
      ],
      "source": [
        "fumatabla = pd.pivot_table(\n",
        "    df,\n",
        "    values='Horas_Entrenando',\n",
        "    index='Prácticas',\n",
        "    columns='Fuma',\n",
        "    aggfunc='mean'\n",
        ")\n",
        "display(fumatabla)\n"
      ]
    },
    {
      "cell_type": "markdown",
      "id": "4c5dd863-6fab-491f-9602-7ecd74e4170f",
      "metadata": {
        "id": "4c5dd863-6fab-491f-9602-7ecd74e4170f"
      },
      "source": [
        "Crear un gráfico de barras con las horas de entrenamiento según las prácticas y si fuman o no"
      ]
    },
    {
      "cell_type": "code",
      "execution_count": 232,
      "id": "bd90b95a-4eae-42ca-9535-cc23cdf99b09",
      "metadata": {
        "tags": [],
        "id": "bd90b95a-4eae-42ca-9535-cc23cdf99b09",
        "colab": {
          "base_uri": "https://localhost:8080/",
          "height": 559
        },
        "outputId": "5d3fb157-a7fa-44d8-eb58-c9921b765e8f"
      },
      "outputs": [
        {
          "output_type": "display_data",
          "data": {
            "text/plain": [
              "<Figure size 1000x600 with 1 Axes>"
            ],
            "image/png": "[encoded data removed]"
          },
          "metadata": {}
        }
      ],
      "source": [
        "fumatabla.plot(kind=\"bar\", figsize=(10,6))\n",
        "\n",
        "plt.title(\"Horas de entrenamiento según Prácticas y si Fuman\")\n",
        "plt.xlabel(\"Prácticas\")\n",
        "plt.ylabel(\"Horas de Entrenamiento (promedio)\")\n",
        "plt.legend(title=\"Fuma\")\n",
        "plt.grid(axis=\"y\", linestyle=\"--\", alpha=0.7)\n",
        "\n",
        "plt.show()"
      ]
    },
    {
      "cell_type": "markdown",
      "id": "141bd6f1-e795-4f0d-aca8-7c5a647f042e",
      "metadata": {
        "id": "141bd6f1-e795-4f0d-aca8-7c5a647f042e"
      },
      "source": [
        "Crear un gráfico de barras con subplots para cada categoría de \"Fuma\" en la tabla pivote"
      ]
    },
    {
      "cell_type": "code",
      "execution_count": 233,
      "id": "c57f46ac-ee0f-4f10-8392-cbfad92883d9",
      "metadata": {
        "id": "c57f46ac-ee0f-4f10-8392-cbfad92883d9",
        "colab": {
          "base_uri": "https://localhost:8080/",
          "height": 449
        },
        "outputId": "4d604935-a319-4942-81d0-d5c78b9743f4"
      },
      "outputs": [
        {
          "output_type": "display_data",
          "data": {
            "text/plain": [
              "<Figure size 1200x600 with 2 Axes>"
            ],
            "image/png": "[encoded data removed]"
          },
          "metadata": {}
        }
      ],
      "source": [
        "fig, axes = plt.subplots(1, 2, figsize=(12,6), sharey=True)\n",
        "\n",
        "# Gráfico para los que NO fuman\n",
        "axes[0].bar(fumatabla.index, fumatabla[\"No\"], color=\"skyblue\")\n",
        "axes[0].set_title(\"Horas de entrenamiento (No fuman)\")\n",
        "axes[0].set_xlabel(\"Prácticas\")\n",
        "axes[0].set_ylabel(\"Horas de Entrenamiento\")\n",
        "axes[0].grid(axis=\"y\", linestyle=\"--\", alpha=0.6)\n",
        "\n",
        "# Gráfico para los que SÍ fuman\n",
        "axes[1].bar(fumatabla.index, fumatabla[\"Si\"], color=\"salmon\")\n",
        "axes[1].set_title(\"Horas de entrenamiento (Sí fuman)\")\n",
        "axes[1].set_xlabel(\"Prácticas\")\n",
        "axes[1].grid(axis=\"y\", linestyle=\"--\", alpha=0.6)\n",
        "\n",
        "# Ajustar espacio entre subplots\n",
        "plt.suptitle(\"Horas de entrenamiento según Prácticas y Fuma\", fontsize=14, fontweight=\"bold\")\n",
        "plt.tight_layout()\n",
        "plt.show()"
      ]
    },
    {
      "cell_type": "markdown",
      "id": "fa8c1c79-48df-4bd0-b7b1-a7d51e0a994c",
      "metadata": {
        "tags": [],
        "id": "fa8c1c79-48df-4bd0-b7b1-a7d51e0a994c"
      },
      "source": [
        "Crear un histograma de la columna 'Juegos' del DataFrame \"futbolistas\""
      ]
    },
    {
      "cell_type": "code",
      "execution_count": 234,
      "id": "9f12190f-27f3-4ffc-a4d7-c890a32adb29",
      "metadata": {
        "tags": [],
        "id": "9f12190f-27f3-4ffc-a4d7-c890a32adb29",
        "colab": {
          "base_uri": "https://localhost:8080/",
          "height": 565
        },
        "outputId": "6e17d95a-2b20-47e5-b187-d3f0c5bd3756"
      },
      "outputs": [
        {
          "output_type": "display_data",
          "data": {
            "text/plain": [
              "<Figure size 800x600 with 1 Axes>"
            ],
            "image/png": "[encoded data removed]"
          },
          "metadata": {}
        }
      ],
      "source": [
        "plt.figure(figsize=(8,6))\n",
        "plt.hist(df[\"Juegos\"], bins=10, color=\"steelblue\", edgecolor=\"black\")\n",
        "\n",
        "plt.title(\"Distribución de Juegos de los Futbolistas\")\n",
        "plt.xlabel(\"Número de Juegos\")\n",
        "plt.ylabel(\"Frecuencia\")\n",
        "plt.grid(axis=\"y\", linestyle=\"--\", alpha=0.7)\n",
        "\n",
        "plt.show()"
      ]
    },
    {
      "cell_type": "markdown",
      "id": "648fedf7-18d8-4976-8363-a8950790868e",
      "metadata": {
        "id": "648fedf7-18d8-4976-8363-a8950790868e"
      },
      "source": [
        "Calcular un histograma utilizando NumPy con los datos de la columna 'Juegos' del DataFrame futbolistas"
      ]
    },
    {
      "cell_type": "code",
      "execution_count": 235,
      "id": "1ac50350-cf73-45da-8e7b-d6b31796675b",
      "metadata": {
        "id": "1ac50350-cf73-45da-8e7b-d6b31796675b",
        "colab": {
          "base_uri": "https://localhost:8080/",
          "height": 600
        },
        "outputId": "7611778c-e1f4-4349-eb9a-c3ae44999e6b"
      },
      "outputs": [
        {
          "output_type": "stream",
          "name": "stdout",
          "text": [
            "Frecuencias: [35 34 42 58 51 55 56 27 20 22]\n",
            "Intervalos: [ 1.   2.1  3.2  4.3  5.4  6.5  7.6  8.7  9.8 10.9 12. ]\n"
          ]
        },
        {
          "output_type": "display_data",
          "data": {
            "text/plain": [
              "<Figure size 800x600 with 1 Axes>"
            ],
            "image/png": "[encoded data removed]"
          },
          "metadata": {}
        }
      ],
      "source": [
        "import numpy as np\n",
        "\n",
        "juegos = df[\"Juegos\"].values   # lo pasamos a un array de NumPy\n",
        "\n",
        "# Calcular histograma con NumPy\n",
        "conteo, bins = np.histogram(juegos, bins=10)\n",
        "\n",
        "print(\"Frecuencias:\", conteo)\n",
        "print(\"Intervalos:\", bins)\n",
        "\n",
        "# Graficar usando matplotlib\n",
        "plt.figure(figsize=(8,6))\n",
        "plt.hist(juegos, bins=10, color=\"skyblue\", edgecolor=\"black\")\n",
        "\n",
        "plt.title(\"Histograma de Juegos (usando NumPy)\")\n",
        "plt.xlabel(\"Número de Juegos\")\n",
        "plt.ylabel(\"Frecuencia\")\n",
        "plt.grid(axis=\"y\", linestyle=\"--\", alpha=0.7)\n",
        "plt.show()"
      ]
    },
    {
      "cell_type": "markdown",
      "id": "69d78911-cf52-4f68-8613-ff828d0c0ff2",
      "metadata": {
        "id": "69d78911-cf52-4f68-8613-ff828d0c0ff2"
      },
      "source": [
        "## Seaborn"
      ]
    },
    {
      "cell_type": "code",
      "execution_count": 236,
      "id": "8de07e64-d8db-462a-b766-01de96f4ea5e",
      "metadata": {
        "id": "8de07e64-d8db-462a-b766-01de96f4ea5e"
      },
      "outputs": [],
      "source": [
        "import seaborn as sns"
      ]
    },
    {
      "cell_type": "markdown",
      "id": "ff170daf-699e-4e7c-b6d7-576e0e336bb3",
      "metadata": {
        "tags": [],
        "id": "ff170daf-699e-4e7c-b6d7-576e0e336bb3"
      },
      "source": [
        "Crea un diagrama de cajas utilizando \"boxplot\" para mostrar la distribución de los precios en función de si los futbolistas asisten al gimnasio o no"
      ]
    },
    {
      "cell_type": "code",
      "execution_count": 237,
      "id": "18f3159c-fbb3-456f-9af6-8efe810d1c8e",
      "metadata": {
        "tags": [],
        "id": "18f3159c-fbb3-456f-9af6-8efe810d1c8e",
        "colab": {
          "base_uri": "https://localhost:8080/",
          "height": 489
        },
        "outputId": "2052d306-df35-4444-cad7-189adacce6f6"
      },
      "outputs": [
        {
          "output_type": "execute_result",
          "data": {
            "text/plain": [
              "Text(0, 0.5, 'Precio')"
            ]
          },
          "metadata": {},
          "execution_count": 237
        },
        {
          "output_type": "display_data",
          "data": {
            "text/plain": [
              "<Figure size 640x480 with 1 Axes>"
            ],
            "image/png": "[encoded data removed]"
          },
          "metadata": {}
        }
      ],
      "source": [
        "sns.boxplot(x='Gimnasio', y='Precio', data=df)\n",
        "plt.title('Distribución de precios según asistencia al gimnasio')\n",
        "plt.xlabel('Asistencia al Gimnasio')\n",
        "plt.ylabel('Precio')"
      ]
    },
    {
      "cell_type": "markdown",
      "id": "b81d03e1-3b9a-4de3-8bc8-172179acd03a",
      "metadata": {
        "id": "b81d03e1-3b9a-4de3-8bc8-172179acd03a"
      },
      "source": [
        "Calcula los cuartiles y los límites para el diagrama de cajas usando los datos de la columna \"Precio\" y el agrupamiento por \"Gimnasio\""
      ]
    },
    {
      "cell_type": "code",
      "execution_count": 238,
      "id": "774885ad-01ef-4a90-9803-3e3d387d65bb",
      "metadata": {
        "tags": [],
        "id": "774885ad-01ef-4a90-9803-3e3d387d65bb",
        "colab": {
          "base_uri": "https://localhost:8080/",
          "height": 534
        },
        "outputId": "72096976-ad96-4e90-bc9d-436e43d9d71a"
      },
      "outputs": [
        {
          "output_type": "display_data",
          "data": {
            "text/plain": [
              "          count           mean            std  min            25%  \\\n",
              "Gimnasio                                                            \n",
              "No        164.0  659093.304845  568417.847902  0.0  272904.008530   \n",
              "Si        236.0  703399.856758  535224.806657  0.0  340490.719648   \n",
              "\n",
              "                    50%           75%           max  \n",
              "Gimnasio                                             \n",
              "No        507077.654828  9.149468e+05  2.409926e+06  \n",
              "Si        655543.531446  1.020046e+06  2.558991e+06  "
            ],
            "text/html": [
              "\n",
              "  <div id=\"df-fcb3fe4a-a557-4f59-82a2-e9fe6b0ad8d6\" class=\"colab-df-container\">\n",
              "    <div>\n",
              "<style scoped>\n",
              "    .dataframe tbody tr th:only-of-type {\n",
              "        vertical-align: middle;\n",
              "    }\n",
              "\n",
              "    .dataframe tbody tr th {\n",
              "        vertical-align: top;\n",
              "    }\n",
              "\n",
              "    .dataframe thead th {\n",
              "        text-align: right;\n",
              "    }\n",
              "</style>\n",
              "<table border=\"1\" class=\"dataframe\">\n",
              "  <thead>\n",
              "    <tr style=\"text-align: right;\">\n",
              "      <th></th>\n",
              "      <th>count</th>\n",
              "      <th>mean</th>\n",
              "      <th>std</th>\n",
              "      <th>min</th>\n",
              "      <th>25%</th>\n",
              "      <th>50%</th>\n",
              "      <th>75%</th>\n",
              "      <th>max</th>\n",
              "    </tr>\n",
              "    <tr>\n",
              "      <th>Gimnasio</th>\n",
              "      <th></th>\n",
              "      <th></th>\n",
              "      <th></th>\n",
              "      <th></th>\n",
              "      <th></th>\n",
              "      <th></th>\n",
              "      <th></th>\n",
              "      <th></th>\n",
              "    </tr>\n",
              "  </thead>\n",
              "  <tbody>\n",
              "    <tr>\n",
              "      <th>No</th>\n",
              "      <td>164.0</td>\n",
              "      <td>659093.304845</td>\n",
              "      <td>568417.847902</td>\n",
              "      <td>0.0</td>\n",
              "      <td>272904.008530</td>\n",
              "      <td>507077.654828</td>\n",
              "      <td>9.149468e+05</td>\n",
              "      <td>2.409926e+06</td>\n",
              "    </tr>\n",
              "    <tr>\n",
              "      <th>Si</th>\n",
              "      <td>236.0</td>\n",
              "      <td>703399.856758</td>\n",
              "      <td>535224.806657</td>\n",
              "      <td>0.0</td>\n",
              "      <td>340490.719648</td>\n",
              "      <td>655543.531446</td>\n",
              "      <td>1.020046e+06</td>\n",
              "      <td>2.558991e+06</td>\n",
              "    </tr>\n",
              "  </tbody>\n",
              "</table>\n",
              "</div>\n",
              "    <div class=\"colab-df-buttons\">\n",
              "\n",
              "  <div class=\"colab-df-container\">\n",
              "    <button class=\"colab-df-convert\" onclick=\"convertToInteractive('df-fcb3fe4a-a557-4f59-82a2-e9fe6b0ad8d6')\"\n",
              "            title=\"Convert this dataframe to an interactive table.\"\n",
              "            style=\"display:none;\">\n",
              "\n",
              "  <svg xmlns=\"http://www.w3.org/2000/svg\" height=\"24px\" viewBox=\"0 -960 960 960\">\n",
              "    <path d=\"M120-120v-720h720v720H120Zm60-500h600v-160H180v160Zm220 220h160v-160H400v160Zm0 220h160v-160H400v160ZM180-400h160v-160H180v160Zm440 0h160v-160H620v160ZM180-180h160v-160H180v160Zm440 0h160v-160H620v160Z\"/>\n",
              "  </svg>\n",
              "    </button>\n",
              "\n",
              "  <style>\n",
              "    .colab-df-container {\n",
              "      display:flex;\n",
              "      gap: 12px;\n",
              "    }\n",
              "\n",
              "    .colab-df-convert {\n",
              "      background-color: #E8F0FE;\n",
              "      border: none;\n",
              "      border-radius: 50%;\n",
              "      cursor: pointer;\n",
              "      display: none;\n",
              "      fill: #1967D2;\n",
              "      height: 32px;\n",
              "      padding: 0 0 0 0;\n",
              "      width: 32px;\n",
              "    }\n",
              "\n",
              "    .colab-df-convert:hover {\n",
              "      background-color: #E2EBFA;\n",
              "      box-shadow: 0px 1px 2px rgba(60, 64, 67, 0.3), 0px 1px 3px 1px rgba(60, 64, 67, 0.15);\n",
              "      fill: #174EA6;\n",
              "    }\n",
              "\n",
              "    .colab-df-buttons div {\n",
              "      margin-bottom: 4px;\n",
              "    }\n",
              "\n",
              "    [theme=dark] .colab-df-convert {\n",
              "      background-color: #3B4455;\n",
              "      fill: #D2E3FC;\n",
              "    }\n",
              "\n",
              "    [theme=dark] .colab-df-convert:hover {\n",
              "      background-color: #434B5C;\n",
              "      box-shadow: 0px 1px 3px 1px rgba(0, 0, 0, 0.15);\n",
              "      filter: drop-shadow(0px 1px 2px rgba(0, 0, 0, 0.3));\n",
              "      fill: #FFFFFF;\n",
              "    }\n",
              "  </style>\n",
              "\n",
              "    <script>\n",
              "      const buttonEl =\n",
              "        document.querySelector('#df-fcb3fe4a-a557-4f59-82a2-e9fe6b0ad8d6 button.colab-df-convert');\n",
              "      buttonEl.style.display =\n",
              "        google.colab.kernel.accessAllowed ? 'block' : 'none';\n",
              "\n",
              "      async function convertToInteractive(key) {\n",
              "        const element = document.querySelector('#df-fcb3fe4a-a557-4f59-82a2-e9fe6b0ad8d6');\n",
              "        const dataTable =\n",
              "          await google.colab.kernel.invokeFunction('convertToInteractive',\n",
              "                                                    [key], {});\n",
              "        if (!dataTable) return;\n",
              "\n",
              "        const docLinkHtml = 'Like what you see? Visit the ' +\n",
              "          '<a target=\"_blank\" href=https://colab.research.google.com/notebooks/data_table.ipynb>data table notebook</a>'\n",
              "          + ' to learn more about interactive tables.';\n",
              "        element.innerHTML = '';\n",
              "        dataTable['output_type'] = 'display_data';\n",
              "        await google.colab.output.renderOutput(dataTable, element);\n",
              "        const docLink = document.createElement('div');\n",
              "        docLink.innerHTML = docLinkHtml;\n",
              "        element.appendChild(docLink);\n",
              "      }\n",
              "    </script>\n",
              "  </div>\n",
              "\n",
              "\n",
              "    <div id=\"df-fc59b562-cc5d-4634-8912-3f2d5423b6d2\">\n",
              "      <button class=\"colab-df-quickchart\" onclick=\"quickchart('df-fc59b562-cc5d-4634-8912-3f2d5423b6d2')\"\n",
              "                title=\"Suggest charts\"\n",
              "                style=\"display:none;\">\n",
              "\n",
              "<svg xmlns=\"http://www.w3.org/2000/svg\" height=\"24px\"viewBox=\"0 0 24 24\"\n",
              "     width=\"24px\">\n",
              "    <g>\n",
              "        <path d=\"M19 3H5c-1.1 0-2 .9-2 2v14c0 1.1.9 2 2 2h14c1.1 0 2-.9 2-2V5c0-1.1-.9-2-2-2zM9 17H7v-7h2v7zm4 0h-2V7h2v10zm4 0h-2v-4h2v4z\"/>\n",
              "    </g>\n",
              "</svg>\n",
              "      </button>\n",
              "\n",
              "<style>\n",
              "  .colab-df-quickchart {\n",
              "      --bg-color: #E8F0FE;\n",
              "      --fill-color: #1967D2;\n",
              "      --hover-bg-color: #E2EBFA;\n",
              "      --hover-fill-color: #174EA6;\n",
              "      --disabled-fill-color: #AAA;\n",
              "      --disabled-bg-color: #DDD;\n",
              "  }\n",
              "\n",
              "  [theme=dark] .colab-df-quickchart {\n",
              "      --bg-color: #3B4455;\n",
              "      --fill-color: #D2E3FC;\n",
              "      --hover-bg-color: #434B5C;\n",
              "      --hover-fill-color: #FFFFFF;\n",
              "      --disabled-bg-color: #3B4455;\n",
              "      --disabled-fill-color: #666;\n",
              "  }\n",
              "\n",
              "  .colab-df-quickchart {\n",
              "    background-color: var(--bg-color);\n",
              "    border: none;\n",
              "    border-radius: 50%;\n",
              "    cursor: pointer;\n",
              "    display: none;\n",
              "    fill: var(--fill-color);\n",
              "    height: 32px;\n",
              "    padding: 0;\n",
              "    width: 32px;\n",
              "  }\n",
              "\n",
              "  .colab-df-quickchart:hover {\n",
              "    background-color: var(--hover-bg-color);\n",
              "    box-shadow: 0 1px 2px rgba(60, 64, 67, 0.3), 0 1px 3px 1px rgba(60, 64, 67, 0.15);\n",
              "    fill: var(--button-hover-fill-color);\n",
              "  }\n",
              "\n",
              "  .colab-df-quickchart-complete:disabled,\n",
              "  .colab-df-quickchart-complete:disabled:hover {\n",
              "    background-color: var(--disabled-bg-color);\n",
              "    fill: var(--disabled-fill-color);\n",
              "    box-shadow: none;\n",
              "  }\n",
              "\n",
              "  .colab-df-spinner {\n",
              "    border: 2px solid var(--fill-color);\n",
              "    border-color: transparent;\n",
              "    border-bottom-color: var(--fill-color);\n",
              "    animation:\n",
              "      spin 1s steps(1) infinite;\n",
              "  }\n",
              "\n",
              "  @keyframes spin {\n",
              "    0% {\n",
              "      border-color: transparent;\n",
              "      border-bottom-color: var(--fill-color);\n",
              "      border-left-color: var(--fill-color);\n",
              "    }\n",
              "    20% {\n",
              "      border-color: transparent;\n",
              "      border-left-color: var(--fill-color);\n",
              "      border-top-color: var(--fill-color);\n",
              "    }\n",
              "    30% {\n",
              "      border-color: transparent;\n",
              "      border-left-color: var(--fill-color);\n",
              "      border-top-color: var(--fill-color);\n",
              "      border-right-color: var(--fill-color);\n",
              "    }\n",
              "    40% {\n",
              "      border-color: transparent;\n",
              "      border-right-color: var(--fill-color);\n",
              "      border-top-color: var(--fill-color);\n",
              "    }\n",
              "    60% {\n",
              "      border-color: transparent;\n",
              "      border-right-color: var(--fill-color);\n",
              "    }\n",
              "    80% {\n",
              "      border-color: transparent;\n",
              "      border-right-color: var(--fill-color);\n",
              "      border-bottom-color: var(--fill-color);\n",
              "    }\n",
              "    90% {\n",
              "      border-color: transparent;\n",
              "      border-bottom-color: var(--fill-color);\n",
              "    }\n",
              "  }\n",
              "</style>\n",
              "\n",
              "      <script>\n",
              "        async function quickchart(key) {\n",
              "          const quickchartButtonEl =\n",
              "            document.querySelector('#' + key + ' button');\n",
              "          quickchartButtonEl.disabled = true;  // To prevent multiple clicks.\n",
              "          quickchartButtonEl.classList.add('colab-df-spinner');\n",
              "          try {\n",
              "            const charts = await google.colab.kernel.invokeFunction(\n",
              "                'suggestCharts', [key], {});\n",
              "          } catch (error) {\n",
              "            console.error('Error during call to suggestCharts:', error);\n",
              "          }\n",
              "          quickchartButtonEl.classList.remove('colab-df-spinner');\n",
              "          quickchartButtonEl.classList.add('colab-df-quickchart-complete');\n",
              "        }\n",
              "        (() => {\n",
              "          let quickchartButtonEl =\n",
              "            document.querySelector('#df-fc59b562-cc5d-4634-8912-3f2d5423b6d2 button');\n",
              "          quickchartButtonEl.style.display =\n",
              "            google.colab.kernel.accessAllowed ? 'block' : 'none';\n",
              "        })();\n",
              "      </script>\n",
              "    </div>\n",
              "\n",
              "  <div id=\"id_f71bd29b-7cfe-4093-8845-1eb30a70a619\">\n",
              "    <style>\n",
              "      .colab-df-generate {\n",
              "        background-color: #E8F0FE;\n",
              "        border: none;\n",
              "        border-radius: 50%;\n",
              "        cursor: pointer;\n",
              "        display: none;\n",
              "        fill: #1967D2;\n",
              "        height: 32px;\n",
              "        padding: 0 0 0 0;\n",
              "        width: 32px;\n",
              "      }\n",
              "\n",
              "      .colab-df-generate:hover {\n",
              "        background-color: #E2EBFA;\n",
              "        box-shadow: 0px 1px 2px rgba(60, 64, 67, 0.3), 0px 1px 3px 1px rgba(60, 64, 67, 0.15);\n",
              "        fill: #174EA6;\n",
              "      }\n",
              "\n",
              "      [theme=dark] .colab-df-generate {\n",
              "        background-color: #3B4455;\n",
              "        fill: #D2E3FC;\n",
              "      }\n",
              "\n",
              "      [theme=dark] .colab-df-generate:hover {\n",
              "        background-color: #434B5C;\n",
              "        box-shadow: 0px 1px 3px 1px rgba(0, 0, 0, 0.15);\n",
              "        filter: drop-shadow(0px 1px 2px rgba(0, 0, 0, 0.3));\n",
              "        fill: #FFFFFF;\n",
              "      }\n",
              "    </style>\n",
              "    <button class=\"colab-df-generate\" onclick=\"generateWithVariable('quartiles')\"\n",
              "            title=\"Generate code using this dataframe.\"\n",
              "            style=\"display:none;\">\n",
              "\n",
              "  <svg xmlns=\"http://www.w3.org/2000/svg\" height=\"24px\"viewBox=\"0 0 24 24\"\n",
              "       width=\"24px\">\n",
              "    <path d=\"M7,19H8.4L18.45,9,17,7.55,7,17.6ZM5,21V16.75L18.45,3.32a2,2,0,0,1,2.83,0l1.4,1.43a1.91,1.91,0,0,1,.58,1.4,1.91,1.91,0,0,1-.58,1.4L9.25,21ZM18.45,9,17,7.55Zm-12,3A5.31,5.31,0,0,0,4.9,8.1,5.31,5.31,0,0,0,1,6.5,5.31,5.31,0,0,0,4.9,4.9,5.31,5.31,0,0,0,6.5,1,5.31,5.31,0,0,0,8.1,4.9,5.31,5.31,0,0,0,12,6.5,5.46,5.46,0,0,0,6.5,12Z\"/>\n",
              "  </svg>\n",
              "    </button>\n",
              "    <script>\n",
              "      (() => {\n",
              "      const buttonEl =\n",
              "        document.querySelector('#id_f71bd29b-7cfe-4093-8845-1eb30a70a619 button.colab-df-generate');\n",
              "      buttonEl.style.display =\n",
              "        google.colab.kernel.accessAllowed ? 'block' : 'none';\n",
              "\n",
              "      buttonEl.onclick = () => {\n",
              "        google.colab.notebook.generateWithVariable('quartiles');\n",
              "      }\n",
              "      })();\n",
              "    </script>\n",
              "  </div>\n",
              "\n",
              "    </div>\n",
              "  </div>\n"
            ],
            "application/vnd.google.colaboratory.intrinsic+json": {
              "type": "dataframe",
              "variable_name": "quartiles",
              "summary": "{\n  \"name\": \"quartiles\",\n  \"rows\": 2,\n  \"fields\": [\n    {\n      \"column\": \"Gimnasio\",\n      \"properties\": {\n        \"dtype\": \"string\",\n        \"num_unique_values\": 2,\n        \"samples\": [\n          \"Si\",\n          \"No\"\n        ],\n        \"semantic_type\": \"\",\n        \"description\": \"\"\n      }\n    },\n    {\n      \"column\": \"count\",\n      \"properties\": {\n        \"dtype\": \"number\",\n        \"std\": 50.91168824543142,\n        \"min\": 164.0,\n        \"max\": 236.0,\n        \"num_unique_values\": 2,\n        \"samples\": [\n          236.0,\n          164.0\n        ],\n        \"semantic_type\": \"\",\n        \"description\": \"\"\n      }\n    },\n    {\n      \"column\": \"mean\",\n      \"properties\": {\n        \"dtype\": \"number\",\n        \"std\": 31329.463309103536,\n        \"min\": 659093.3048448177,\n        \"max\": 703399.8567584222,\n        \"num_unique_values\": 2,\n        \"samples\": [\n          703399.8567584222,\n          659093.3048448177\n        ],\n        \"semantic_type\": \"\",\n        \"description\": \"\"\n      }\n    },\n    {\n      \"column\": \"std\",\n      \"properties\": {\n        \"dtype\": \"number\",\n        \"std\": 23471.02455250218,\n        \"min\": 535224.8066568729,\n        \"max\": 568417.8479018133,\n        \"num_unique_values\": 2,\n        \"samples\": [\n          535224.8066568729,\n          568417.8479018133\n        ],\n        \"semantic_type\": \"\",\n        \"description\": \"\"\n      }\n    },\n    {\n      \"column\": \"min\",\n      \"properties\": {\n        \"dtype\": \"number\",\n        \"std\": 0.0,\n        \"min\": 0.0,\n        \"max\": 0.0,\n        \"num_unique_values\": 1,\n        \"samples\": [\n          0.0\n        ],\n        \"semantic_type\": \"\",\n        \"description\": \"\"\n      }\n    },\n    {\n      \"column\": \"25%\",\n      \"properties\": {\n        \"dtype\": \"number\",\n        \"std\": 47791.02174939903,\n        \"min\": 272904.0085298514,\n        \"max\": 340490.71964751906,\n        \"num_unique_values\": 2,\n        \"samples\": [\n          340490.71964751906\n        ],\n        \"semantic_type\": \"\",\n        \"description\": \"\"\n      }\n    },\n    {\n      \"column\": \"50%\",\n      \"properties\": {\n        \"dtype\": \"number\",\n        \"std\": 104981.22813118753,\n        \"min\": 507077.6548283041,\n        \"max\": 655543.5314460134,\n        \"num_unique_values\": 2,\n        \"samples\": [\n          655543.5314460134\n        ],\n        \"semantic_type\": \"\",\n        \"description\": \"\"\n      }\n    },\n    {\n      \"column\": \"75%\",\n      \"properties\": {\n        \"dtype\": \"number\",\n        \"std\": 74316.34757820755,\n        \"min\": 914946.7753583518,\n        \"max\": 1020045.9620094858,\n        \"num_unique_values\": 2,\n        \"samples\": [\n          1020045.9620094858\n        ],\n        \"semantic_type\": \"\",\n        \"description\": \"\"\n      }\n    },\n    {\n      \"column\": \"max\",\n      \"properties\": {\n        \"dtype\": \"number\",\n        \"std\": 105404.49473655551,\n        \"min\": 2409926.2449254794,\n        \"max\": 2558990.7109169997,\n        \"num_unique_values\": 2,\n        \"samples\": [\n          2558990.7109169997\n        ],\n        \"semantic_type\": \"\",\n        \"description\": \"\"\n      }\n    }\n  ]\n}"
            }
          },
          "metadata": {}
        },
        {
          "output_type": "stream",
          "name": "stdout",
          "text": [
            "\n",
            "Lower Bounds:\n"
          ]
        },
        {
          "output_type": "display_data",
          "data": {
            "text/plain": [
              "Gimnasio\n",
              "No   -690160.141713\n",
              "Si   -678842.143895\n",
              "dtype: float64"
            ],
            "text/html": [
              "<div>\n",
              "<style scoped>\n",
              "    .dataframe tbody tr th:only-of-type {\n",
              "        vertical-align: middle;\n",
              "    }\n",
              "\n",
              "    .dataframe tbody tr th {\n",
              "        vertical-align: top;\n",
              "    }\n",
              "\n",
              "    .dataframe thead th {\n",
              "        text-align: right;\n",
              "    }\n",
              "</style>\n",
              "<table border=\"1\" class=\"dataframe\">\n",
              "  <thead>\n",
              "    <tr style=\"text-align: right;\">\n",
              "      <th></th>\n",
              "      <th>0</th>\n",
              "    </tr>\n",
              "    <tr>\n",
              "      <th>Gimnasio</th>\n",
              "      <th></th>\n",
              "    </tr>\n",
              "  </thead>\n",
              "  <tbody>\n",
              "    <tr>\n",
              "      <th>No</th>\n",
              "      <td>-690160.141713</td>\n",
              "    </tr>\n",
              "    <tr>\n",
              "      <th>Si</th>\n",
              "      <td>-678842.143895</td>\n",
              "    </tr>\n",
              "  </tbody>\n",
              "</table>\n",
              "</div><br><label><b>dtype:</b> float64</label>"
            ]
          },
          "metadata": {}
        },
        {
          "output_type": "stream",
          "name": "stdout",
          "text": [
            "\n",
            "Upper Bounds:\n"
          ]
        },
        {
          "output_type": "display_data",
          "data": {
            "text/plain": [
              "Gimnasio\n",
              "No    1.878011e+06\n",
              "Si    2.039379e+06\n",
              "dtype: float64"
            ],
            "text/html": [
              "<div>\n",
              "<style scoped>\n",
              "    .dataframe tbody tr th:only-of-type {\n",
              "        vertical-align: middle;\n",
              "    }\n",
              "\n",
              "    .dataframe tbody tr th {\n",
              "        vertical-align: top;\n",
              "    }\n",
              "\n",
              "    .dataframe thead th {\n",
              "        text-align: right;\n",
              "    }\n",
              "</style>\n",
              "<table border=\"1\" class=\"dataframe\">\n",
              "  <thead>\n",
              "    <tr style=\"text-align: right;\">\n",
              "      <th></th>\n",
              "      <th>0</th>\n",
              "    </tr>\n",
              "    <tr>\n",
              "      <th>Gimnasio</th>\n",
              "      <th></th>\n",
              "    </tr>\n",
              "  </thead>\n",
              "  <tbody>\n",
              "    <tr>\n",
              "      <th>No</th>\n",
              "      <td>1.878011e+06</td>\n",
              "    </tr>\n",
              "    <tr>\n",
              "      <th>Si</th>\n",
              "      <td>2.039379e+06</td>\n",
              "    </tr>\n",
              "  </tbody>\n",
              "</table>\n",
              "</div><br><label><b>dtype:</b> float64</label>"
            ]
          },
          "metadata": {}
        }
      ],
      "source": [
        "quartiles = df.groupby('Gimnasio')['Precio'].describe()\n",
        "display(quartiles)\n",
        "\n",
        "# Calculate IQR and limits\n",
        "iqr = quartiles['75%'] - quartiles['25%']\n",
        "lower_bound = quartiles['25%'] - 1.5 * iqr\n",
        "upper_bound = quartiles['75%'] + 1.5 * iqr\n",
        "\n",
        "print(\"\\nLower Bounds:\")\n",
        "display(lower_bound)\n",
        "print(\"\\nUpper Bounds:\")\n",
        "display(upper_bound)"
      ]
    },
    {
      "cell_type": "markdown",
      "id": "1fd0ffb5-01c0-43c3-a4aa-46126c74dd59",
      "metadata": {
        "id": "1fd0ffb5-01c0-43c3-a4aa-46126c74dd59"
      },
      "source": [
        "Crea una gráfica de puntos con jitter para mostrar la distribución de la altura por liga utilizando \"stripplot\""
      ]
    },
    {
      "cell_type": "code",
      "execution_count": 239,
      "id": "f70d8eaa-c588-4e2d-bc29-d15cc9933790",
      "metadata": {
        "tags": [],
        "id": "f70d8eaa-c588-4e2d-bc29-d15cc9933790",
        "colab": {
          "base_uri": "https://localhost:8080/",
          "height": 579
        },
        "outputId": "5d5dfa36-144a-42c7-8ec9-8025314d95f5"
      },
      "outputs": [
        {
          "output_type": "stream",
          "name": "stderr",
          "text": [
            "/tmp/ipython-input-2279365593.py:2: FutureWarning: \n",
            "\n",
            "Passing `palette` without assigning `hue` is deprecated and will be removed in v0.14.0. Assign the `x` variable to `hue` and set `legend=False` for the same effect.\n",
            "\n",
            "  sns.stripplot(x=\"Liga\", y=\"Altura\", data=df, jitter=True, palette=\"Set2\")\n"
          ]
        },
        {
          "output_type": "display_data",
          "data": {
            "text/plain": [
              "<Figure size 640x480 with 1 Axes>"
            ],
            "image/png": "[encoded data removed]"
          },
          "metadata": {}
        }
      ],
      "source": [
        "\n",
        "# Stripplot con jitter\n",
        "sns.stripplot(x=\"Liga\", y=\"Altura\", data=df, jitter=True, palette=\"Set2\")\n",
        "\n",
        "plt.title(\"Distribución de la Altura por Liga\")\n",
        "plt.xlabel(\"Liga\")\n",
        "plt.ylabel(\"Altura\")\n",
        "plt.show()\n"
      ]
    },
    {
      "cell_type": "markdown",
      "id": "39095926-0283-4be7-a234-6eec9692feaa",
      "metadata": {
        "id": "39095926-0283-4be7-a234-6eec9692feaa"
      },
      "source": [
        "Calcula la matriz de correlación de las columnas numéricas del DataFrame \"futbolistas\" utilizando \"corr\""
      ]
    },
    {
      "cell_type": "code",
      "execution_count": 240,
      "id": "9b3160f1-383e-4d68-b2aa-663e8e41ba4a",
      "metadata": {
        "id": "9b3160f1-383e-4d68-b2aa-663e8e41ba4a",
        "colab": {
          "base_uri": "https://localhost:8080/",
          "height": 269
        },
        "outputId": "4bd77806-2e45-4f40-e0c2-61235122d3d2"
      },
      "outputs": [
        {
          "output_type": "display_data",
          "data": {
            "text/plain": [
              "                      Liga  Prácticas  Horas_Entrenando    Altura    Precio  \\\n",
              "Liga              1.000000  -0.361737         -0.370715 -0.032321 -0.753858   \n",
              "Prácticas        -0.361737   1.000000          0.838011 -0.012429  0.578304   \n",
              "Horas_Entrenando -0.370715   0.838011          1.000000 -0.027972  0.691749   \n",
              "Altura           -0.032321  -0.012429         -0.027972  1.000000  0.048787   \n",
              "Precio           -0.753858   0.578304          0.691749  0.048787  1.000000   \n",
              "Juegos           -0.376605   0.236395          0.208769  0.032708  0.320549   \n",
              "Horas_Casa       -0.293405   0.279133          0.222710  0.073725  0.248739   \n",
              "\n",
              "                    Juegos  Horas_Casa  \n",
              "Liga             -0.376605   -0.293405  \n",
              "Prácticas         0.236395    0.279133  \n",
              "Horas_Entrenando  0.208769    0.222710  \n",
              "Altura            0.032708    0.073725  \n",
              "Precio            0.320549    0.248739  \n",
              "Juegos            1.000000    0.314029  \n",
              "Horas_Casa        0.314029    1.000000  "
            ],
            "text/html": [
              "\n",
              "  <div id=\"df-867c7201-d9ee-4801-bb2a-dcd40c5546be\" class=\"colab-df-container\">\n",
              "    <div>\n",
              "<style scoped>\n",
              "    .dataframe tbody tr th:only-of-type {\n",
              "        vertical-align: middle;\n",
              "    }\n",
              "\n",
              "    .dataframe tbody tr th {\n",
              "        vertical-align: top;\n",
              "    }\n",
              "\n",
              "    .dataframe thead th {\n",
              "        text-align: right;\n",
              "    }\n",
              "</style>\n",
              "<table border=\"1\" class=\"dataframe\">\n",
              "  <thead>\n",
              "    <tr style=\"text-align: right;\">\n",
              "      <th></th>\n",
              "      <th>Liga</th>\n",
              "      <th>Prácticas</th>\n",
              "      <th>Horas_Entrenando</th>\n",
              "      <th>Altura</th>\n",
              "      <th>Precio</th>\n",
              "      <th>Juegos</th>\n",
              "      <th>Horas_Casa</th>\n",
              "    </tr>\n",
              "  </thead>\n",
              "  <tbody>\n",
              "    <tr>\n",
              "      <th>Liga</th>\n",
              "      <td>1.000000</td>\n",
              "      <td>-0.361737</td>\n",
              "      <td>-0.370715</td>\n",
              "      <td>-0.032321</td>\n",
              "      <td>-0.753858</td>\n",
              "      <td>-0.376605</td>\n",
              "      <td>-0.293405</td>\n",
              "    </tr>\n",
              "    <tr>\n",
              "      <th>Prácticas</th>\n",
              "      <td>-0.361737</td>\n",
              "      <td>1.000000</td>\n",
              "      <td>0.838011</td>\n",
              "      <td>-0.012429</td>\n",
              "      <td>0.578304</td>\n",
              "      <td>0.236395</td>\n",
              "      <td>0.279133</td>\n",
              "    </tr>\n",
              "    <tr>\n",
              "      <th>Horas_Entrenando</th>\n",
              "      <td>-0.370715</td>\n",
              "      <td>0.838011</td>\n",
              "      <td>1.000000</td>\n",
              "      <td>-0.027972</td>\n",
              "      <td>0.691749</td>\n",
              "      <td>0.208769</td>\n",
              "      <td>0.222710</td>\n",
              "    </tr>\n",
              "    <tr>\n",
              "      <th>Altura</th>\n",
              "      <td>-0.032321</td>\n",
              "      <td>-0.012429</td>\n",
              "      <td>-0.027972</td>\n",
              "      <td>1.000000</td>\n",
              "      <td>0.048787</td>\n",
              "      <td>0.032708</td>\n",
              "      <td>0.073725</td>\n",
              "    </tr>\n",
              "    <tr>\n",
              "      <th>Precio</th>\n",
              "      <td>-0.753858</td>\n",
              "      <td>0.578304</td>\n",
              "      <td>0.691749</td>\n",
              "      <td>0.048787</td>\n",
              "      <td>1.000000</td>\n",
              "      <td>0.320549</td>\n",
              "      <td>0.248739</td>\n",
              "    </tr>\n",
              "    <tr>\n",
              "      <th>Juegos</th>\n",
              "      <td>-0.376605</td>\n",
              "      <td>0.236395</td>\n",
              "      <td>0.208769</td>\n",
              "      <td>0.032708</td>\n",
              "      <td>0.320549</td>\n",
              "      <td>1.000000</td>\n",
              "      <td>0.314029</td>\n",
              "    </tr>\n",
              "    <tr>\n",
              "      <th>Horas_Casa</th>\n",
              "      <td>-0.293405</td>\n",
              "      <td>0.279133</td>\n",
              "      <td>0.222710</td>\n",
              "      <td>0.073725</td>\n",
              "      <td>0.248739</td>\n",
              "      <td>0.314029</td>\n",
              "      <td>1.000000</td>\n",
              "    </tr>\n",
              "  </tbody>\n",
              "</table>\n",
              "</div>\n",
              "    <div class=\"colab-df-buttons\">\n",
              "\n",
              "  <div class=\"colab-df-container\">\n",
              "    <button class=\"colab-df-convert\" onclick=\"convertToInteractive('df-867c7201-d9ee-4801-bb2a-dcd40c5546be')\"\n",
              "            title=\"Convert this dataframe to an interactive table.\"\n",
              "            style=\"display:none;\">\n",
              "\n",
              "  <svg xmlns=\"http://www.w3.org/2000/svg\" height=\"24px\" viewBox=\"0 -960 960 960\">\n",
              "    <path d=\"M120-120v-720h720v720H120Zm60-500h600v-160H180v160Zm220 220h160v-160H400v160Zm0 220h160v-160H400v160ZM180-400h160v-160H180v160Zm440 0h160v-160H620v160ZM180-180h160v-160H180v160Zm440 0h160v-160H620v160Z\"/>\n",
              "  </svg>\n",
              "    </button>\n",
              "\n",
              "  <style>\n",
              "    .colab-df-container {\n",
              "      display:flex;\n",
              "      gap: 12px;\n",
              "    }\n",
              "\n",
              "    .colab-df-convert {\n",
              "      background-color: #E8F0FE;\n",
              "      border: none;\n",
              "      border-radius: 50%;\n",
              "      cursor: pointer;\n",
              "      display: none;\n",
              "      fill: #1967D2;\n",
              "      height: 32px;\n",
              "      padding: 0 0 0 0;\n",
              "      width: 32px;\n",
              "    }\n",
              "\n",
              "    .colab-df-convert:hover {\n",
              "      background-color: #E2EBFA;\n",
              "      box-shadow: 0px 1px 2px rgba(60, 64, 67, 0.3), 0px 1px 3px 1px rgba(60, 64, 67, 0.15);\n",
              "      fill: #174EA6;\n",
              "    }\n",
              "\n",
              "    .colab-df-buttons div {\n",
              "      margin-bottom: 4px;\n",
              "    }\n",
              "\n",
              "    [theme=dark] .colab-df-convert {\n",
              "      background-color: #3B4455;\n",
              "      fill: #D2E3FC;\n",
              "    }\n",
              "\n",
              "    [theme=dark] .colab-df-convert:hover {\n",
              "      background-color: #434B5C;\n",
              "      box-shadow: 0px 1px 3px 1px rgba(0, 0, 0, 0.15);\n",
              "      filter: drop-shadow(0px 1px 2px rgba(0, 0, 0, 0.3));\n",
              "      fill: #FFFFFF;\n",
              "    }\n",
              "  </style>\n",
              "\n",
              "    <script>\n",
              "      const buttonEl =\n",
              "        document.querySelector('#df-867c7201-d9ee-4801-bb2a-dcd40c5546be button.colab-df-convert');\n",
              "      buttonEl.style.display =\n",
              "        google.colab.kernel.accessAllowed ? 'block' : 'none';\n",
              "\n",
              "      async function convertToInteractive(key) {\n",
              "        const element = document.querySelector('#df-867c7201-d9ee-4801-bb2a-dcd40c5546be');\n",
              "        const dataTable =\n",
              "          await google.colab.kernel.invokeFunction('convertToInteractive',\n",
              "                                                    [key], {});\n",
              "        if (!dataTable) return;\n",
              "\n",
              "        const docLinkHtml = 'Like what you see? Visit the ' +\n",
              "          '<a target=\"_blank\" href=https://colab.research.google.com/notebooks/data_table.ipynb>data table notebook</a>'\n",
              "          + ' to learn more about interactive tables.';\n",
              "        element.innerHTML = '';\n",
              "        dataTable['output_type'] = 'display_data';\n",
              "        await google.colab.output.renderOutput(dataTable, element);\n",
              "        const docLink = document.createElement('div');\n",
              "        docLink.innerHTML = docLinkHtml;\n",
              "        element.appendChild(docLink);\n",
              "      }\n",
              "    </script>\n",
              "  </div>\n",
              "\n",
              "\n",
              "    <div id=\"df-332b198f-ef1c-4e28-9d37-513c02470bfe\">\n",
              "      <button class=\"colab-df-quickchart\" onclick=\"quickchart('df-332b198f-ef1c-4e28-9d37-513c02470bfe')\"\n",
              "                title=\"Suggest charts\"\n",
              "                style=\"display:none;\">\n",
              "\n",
              "<svg xmlns=\"http://www.w3.org/2000/svg\" height=\"24px\"viewBox=\"0 0 24 24\"\n",
              "     width=\"24px\">\n",
              "    <g>\n",
              "        <path d=\"M19 3H5c-1.1 0-2 .9-2 2v14c0 1.1.9 2 2 2h14c1.1 0 2-.9 2-2V5c0-1.1-.9-2-2-2zM9 17H7v-7h2v7zm4 0h-2V7h2v10zm4 0h-2v-4h2v4z\"/>\n",
              "    </g>\n",
              "</svg>\n",
              "      </button>\n",
              "\n",
              "<style>\n",
              "  .colab-df-quickchart {\n",
              "      --bg-color: #E8F0FE;\n",
              "      --fill-color: #1967D2;\n",
              "      --hover-bg-color: #E2EBFA;\n",
              "      --hover-fill-color: #174EA6;\n",
              "      --disabled-fill-color: #AAA;\n",
              "      --disabled-bg-color: #DDD;\n",
              "  }\n",
              "\n",
              "  [theme=dark] .colab-df-quickchart {\n",
              "      --bg-color: #3B4455;\n",
              "      --fill-color: #D2E3FC;\n",
              "      --hover-bg-color: #434B5C;\n",
              "      --hover-fill-color: #FFFFFF;\n",
              "      --disabled-bg-color: #3B4455;\n",
              "      --disabled-fill-color: #666;\n",
              "  }\n",
              "\n",
              "  .colab-df-quickchart {\n",
              "    background-color: var(--bg-color);\n",
              "    border: none;\n",
              "    border-radius: 50%;\n",
              "    cursor: pointer;\n",
              "    display: none;\n",
              "    fill: var(--fill-color);\n",
              "    height: 32px;\n",
              "    padding: 0;\n",
              "    width: 32px;\n",
              "  }\n",
              "\n",
              "  .colab-df-quickchart:hover {\n",
              "    background-color: var(--hover-bg-color);\n",
              "    box-shadow: 0 1px 2px rgba(60, 64, 67, 0.3), 0 1px 3px 1px rgba(60, 64, 67, 0.15);\n",
              "    fill: var(--button-hover-fill-color);\n",
              "  }\n",
              "\n",
              "  .colab-df-quickchart-complete:disabled,\n",
              "  .colab-df-quickchart-complete:disabled:hover {\n",
              "    background-color: var(--disabled-bg-color);\n",
              "    fill: var(--disabled-fill-color);\n",
              "    box-shadow: none;\n",
              "  }\n",
              "\n",
              "  .colab-df-spinner {\n",
              "    border: 2px solid var(--fill-color);\n",
              "    border-color: transparent;\n",
              "    border-bottom-color: var(--fill-color);\n",
              "    animation:\n",
              "      spin 1s steps(1) infinite;\n",
              "  }\n",
              "\n",
              "  @keyframes spin {\n",
              "    0% {\n",
              "      border-color: transparent;\n",
              "      border-bottom-color: var(--fill-color);\n",
              "      border-left-color: var(--fill-color);\n",
              "    }\n",
              "    20% {\n",
              "      border-color: transparent;\n",
              "      border-left-color: var(--fill-color);\n",
              "      border-top-color: var(--fill-color);\n",
              "    }\n",
              "    30% {\n",
              "      border-color: transparent;\n",
              "      border-left-color: var(--fill-color);\n",
              "      border-top-color: var(--fill-color);\n",
              "      border-right-color: var(--fill-color);\n",
              "    }\n",
              "    40% {\n",
              "      border-color: transparent;\n",
              "      border-right-color: var(--fill-color);\n",
              "      border-top-color: var(--fill-color);\n",
              "    }\n",
              "    60% {\n",
              "      border-color: transparent;\n",
              "      border-right-color: var(--fill-color);\n",
              "    }\n",
              "    80% {\n",
              "      border-color: transparent;\n",
              "      border-right-color: var(--fill-color);\n",
              "      border-bottom-color: var(--fill-color);\n",
              "    }\n",
              "    90% {\n",
              "      border-color: transparent;\n",
              "      border-bottom-color: var(--fill-color);\n",
              "    }\n",
              "  }\n",
              "</style>\n",
              "\n",
              "      <script>\n",
              "        async function quickchart(key) {\n",
              "          const quickchartButtonEl =\n",
              "            document.querySelector('#' + key + ' button');\n",
              "          quickchartButtonEl.disabled = true;  // To prevent multiple clicks.\n",
              "          quickchartButtonEl.classList.add('colab-df-spinner');\n",
              "          try {\n",
              "            const charts = await google.colab.kernel.invokeFunction(\n",
              "                'suggestCharts', [key], {});\n",
              "          } catch (error) {\n",
              "            console.error('Error during call to suggestCharts:', error);\n",
              "          }\n",
              "          quickchartButtonEl.classList.remove('colab-df-spinner');\n",
              "          quickchartButtonEl.classList.add('colab-df-quickchart-complete');\n",
              "        }\n",
              "        (() => {\n",
              "          let quickchartButtonEl =\n",
              "            document.querySelector('#df-332b198f-ef1c-4e28-9d37-513c02470bfe button');\n",
              "          quickchartButtonEl.style.display =\n",
              "            google.colab.kernel.accessAllowed ? 'block' : 'none';\n",
              "        })();\n",
              "      </script>\n",
              "    </div>\n",
              "\n",
              "  <div id=\"id_3b5835fe-37d5-4d62-a078-059084b07fa6\">\n",
              "    <style>\n",
              "      .colab-df-generate {\n",
              "        background-color: #E8F0FE;\n",
              "        border: none;\n",
              "        border-radius: 50%;\n",
              "        cursor: pointer;\n",
              "        display: none;\n",
              "        fill: #1967D2;\n",
              "        height: 32px;\n",
              "        padding: 0 0 0 0;\n",
              "        width: 32px;\n",
              "      }\n",
              "\n",
              "      .colab-df-generate:hover {\n",
              "        background-color: #E2EBFA;\n",
              "        box-shadow: 0px 1px 2px rgba(60, 64, 67, 0.3), 0px 1px 3px 1px rgba(60, 64, 67, 0.15);\n",
              "        fill: #174EA6;\n",
              "      }\n",
              "\n",
              "      [theme=dark] .colab-df-generate {\n",
              "        background-color: #3B4455;\n",
              "        fill: #D2E3FC;\n",
              "      }\n",
              "\n",
              "      [theme=dark] .colab-df-generate:hover {\n",
              "        background-color: #434B5C;\n",
              "        box-shadow: 0px 1px 3px 1px rgba(0, 0, 0, 0.15);\n",
              "        filter: drop-shadow(0px 1px 2px rgba(0, 0, 0, 0.3));\n",
              "        fill: #FFFFFF;\n",
              "      }\n",
              "    </style>\n",
              "    <button class=\"colab-df-generate\" onclick=\"generateWithVariable('corr_matrix')\"\n",
              "            title=\"Generate code using this dataframe.\"\n",
              "            style=\"display:none;\">\n",
              "\n",
              "  <svg xmlns=\"http://www.w3.org/2000/svg\" height=\"24px\"viewBox=\"0 0 24 24\"\n",
              "       width=\"24px\">\n",
              "    <path d=\"M7,19H8.4L18.45,9,17,7.55,7,17.6ZM5,21V16.75L18.45,3.32a2,2,0,0,1,2.83,0l1.4,1.43a1.91,1.91,0,0,1,.58,1.4,1.91,1.91,0,0,1-.58,1.4L9.25,21ZM18.45,9,17,7.55Zm-12,3A5.31,5.31,0,0,0,4.9,8.1,5.31,5.31,0,0,0,1,6.5,5.31,5.31,0,0,0,4.9,4.9,5.31,5.31,0,0,0,6.5,1,5.31,5.31,0,0,0,8.1,4.9,5.31,5.31,0,0,0,12,6.5,5.46,5.46,0,0,0,6.5,12Z\"/>\n",
              "  </svg>\n",
              "    </button>\n",
              "    <script>\n",
              "      (() => {\n",
              "      const buttonEl =\n",
              "        document.querySelector('#id_3b5835fe-37d5-4d62-a078-059084b07fa6 button.colab-df-generate');\n",
              "      buttonEl.style.display =\n",
              "        google.colab.kernel.accessAllowed ? 'block' : 'none';\n",
              "\n",
              "      buttonEl.onclick = () => {\n",
              "        google.colab.notebook.generateWithVariable('corr_matrix');\n",
              "      }\n",
              "      })();\n",
              "    </script>\n",
              "  </div>\n",
              "\n",
              "    </div>\n",
              "  </div>\n"
            ],
            "application/vnd.google.colaboratory.intrinsic+json": {
              "type": "dataframe",
              "variable_name": "corr_matrix",
              "summary": "{\n  \"name\": \"corr_matrix\",\n  \"rows\": 7,\n  \"fields\": [\n    {\n      \"column\": \"Liga\",\n      \"properties\": {\n        \"dtype\": \"number\",\n        \"std\": 0.5573313302873938,\n        \"min\": -0.7538579580273554,\n        \"max\": 1.0,\n        \"num_unique_values\": 7,\n        \"samples\": [\n          1.0,\n          -0.3617365245067317,\n          -0.37660542015441095\n        ],\n        \"semantic_type\": \"\",\n        \"description\": \"\"\n      }\n    },\n    {\n      \"column\": \"Pr\\u00e1cticas\",\n      \"properties\": {\n        \"dtype\": \"number\",\n        \"std\": 0.47731425216008144,\n        \"min\": -0.3617365245067317,\n        \"max\": 1.0,\n        \"num_unique_values\": 7,\n        \"samples\": [\n          -0.3617365245067317,\n          1.0,\n          0.2363946880201292\n        ],\n        \"semantic_type\": \"\",\n        \"description\": \"\"\n      }\n    },\n    {\n      \"column\": \"Horas_Entrenando\",\n      \"properties\": {\n        \"dtype\": \"number\",\n        \"std\": 0.49566094714547326,\n        \"min\": -0.37071474872617555,\n        \"max\": 1.0,\n        \"num_unique_values\": 7,\n        \"samples\": [\n          -0.37071474872617555,\n          0.8380110050661748,\n          0.20876860662029653\n        ],\n        \"semantic_type\": \"\",\n        \"description\": \"\"\n      }\n    },\n    {\n      \"column\": \"Altura\",\n      \"properties\": {\n        \"dtype\": \"number\",\n        \"std\": 0.37493702556064484,\n        \"min\": -0.032320914176092216,\n        \"max\": 1.0,\n        \"num_unique_values\": 7,\n        \"samples\": [\n          -0.032320914176092216,\n          -0.012429338877281364,\n          0.03270823577412573\n        ],\n        \"semantic_type\": \"\",\n        \"description\": \"\"\n      }\n    },\n    {\n      \"column\": \"Precio\",\n      \"properties\": {\n        \"dtype\": \"number\",\n        \"std\": 0.5623651022181176,\n        \"min\": -0.7538579580273554,\n        \"max\": 1.0,\n        \"num_unique_values\": 7,\n        \"samples\": [\n          -0.7538579580273554,\n          0.5783041988751356,\n          0.3205488716160445\n        ],\n        \"semantic_type\": \"\",\n        \"description\": \"\"\n      }\n    },\n    {\n      \"column\": \"Juegos\",\n      \"properties\": {\n        \"dtype\": \"number\",\n        \"std\": 0.41095080654389005,\n        \"min\": -0.37660542015441095,\n        \"max\": 1.0,\n        \"num_unique_values\": 7,\n        \"samples\": [\n          -0.37660542015441095,\n          0.2363946880201292,\n          1.0\n        ],\n        \"semantic_type\": \"\",\n        \"description\": \"\"\n      }\n    },\n    {\n      \"column\": \"Horas_Casa\",\n      \"properties\": {\n        \"dtype\": \"number\",\n        \"std\": 0.38584734321369957,\n        \"min\": -0.29340495815040357,\n        \"max\": 1.0,\n        \"num_unique_values\": 7,\n        \"samples\": [\n          -0.29340495815040357,\n          0.2791332687175528,\n          0.31402875879039394\n        ],\n        \"semantic_type\": \"\",\n        \"description\": \"\"\n      }\n    }\n  ]\n}"
            }
          },
          "metadata": {}
        }
      ],
      "source": [
        "corr_matrix = df.corr(numeric_only=True)\n",
        "display(corr_matrix)"
      ]
    },
    {
      "cell_type": "markdown",
      "id": "4f9e7c2a-4808-4783-9f72-5fb9f9bd2a9c",
      "metadata": {
        "id": "4f9e7c2a-4808-4783-9f72-5fb9f9bd2a9c"
      },
      "source": [
        "Crea un heatmap de la matriz de correlación corr con anotaciones, utilizando una paleta de colores 'coolwarm', centrada en 0 y con líneas de separación de 0.5"
      ]
    },
    {
      "cell_type": "code",
      "execution_count": 241,
      "id": "247311e4-12ba-468d-bf40-78b67f56e316",
      "metadata": {
        "tags": [],
        "id": "247311e4-12ba-468d-bf40-78b67f56e316",
        "colab": {
          "base_uri": "https://localhost:8080/",
          "height": 794
        },
        "outputId": "128f086d-a550-4062-8646-0aecc9ec9684"
      },
      "outputs": [
        {
          "output_type": "display_data",
          "data": {
            "text/plain": [
              "<Figure size 1000x800 with 2 Axes>"
            ],
            "image/png": "[encoded data removed]"
          },
          "metadata": {}
        }
      ],
      "source": [
        "plt.figure(figsize=(10, 8))\n",
        "sns.heatmap(corr_matrix, annot=True, cmap='coolwarm', center=0, linewidths=.5)\n",
        "plt.title('Heatmap de la Matriz de Correlación')\n",
        "plt.show()"
      ]
    }
  ],
  "metadata": {
    "kernelspec": {
      "display_name": "Python 3 (ipykernel)",
      "language": "python",
      "name": "python3"
    },
    "language_info": {
      "codemirror_mode": {
        "name": "ipython",
        "version": 3
      },
      "file_extension": ".py",
      "mimetype": "text/x-python",
      "name": "python",
      "nbconvert_exporter": "python",
      "pygments_lexer": "ipython3",
      "version": "3.11.5"
    },
    "colab": {
      "provenance": []
    }
  },
  "nbformat": 4,
  "nbformat_minor": 5
}