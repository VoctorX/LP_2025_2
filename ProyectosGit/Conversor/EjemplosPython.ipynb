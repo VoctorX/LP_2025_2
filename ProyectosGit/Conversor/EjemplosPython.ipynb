{
 "cells": [
  {
   "cell_type": "markdown",
   "id": "a76bed05",
   "metadata": {},
   "source": [
    "# Conversor\n",
    "## Millas a Km"
   ]
  },
  {
   "cell_type": "code",
   "execution_count": null,
   "id": "adf60e40",
   "metadata": {},
   "outputs": [],
   "source": [
    "print(\"Bienveido al conversor de millas a KM\")\n",
    "print(\"Escribe un numero en millas: \")\n",
    "millas=input()\n",
    "print(\"Tipo de dato en millas\", type(millas))\n",
    "#Convertir String a Float\n",
    "millas=float(millas)\n",
    "print(\"Tipo de dato en millas\", type(millas))\n",
    "input(\"\\nPresione Enter para continuar... \")\n",
    "km=millas * 1.60934\n",
    "print(f\"Sus {millas} millas ingresadas, equivalen a {km} Kilometros\")"
   ]
  },
  {
   "cell_type": "markdown",
   "id": "4bf2ae55",
   "metadata": {},
   "source": [
    "# Logica Booleana\n",
    "## Verdadero / Falso  True/False\n",
    "\n",
    "# > < ==\n",
    "# Piensa en un programa, que ingrese su nombre, lo amacene, lo muestre y con un else indique que no reconoce el nombre."
   ]
  },
  {
   "cell_type": "code",
   "execution_count": 9,
   "id": "1f8dc5a4",
   "metadata": {},
   "outputs": [
    {
     "name": "stdout",
     "output_type": "stream",
     "text": [
      "Tu nombre es Victor, \n",
      "¡WOW, tienes un gran nombre!\n"
     ]
    }
   ],
   "source": [
    "nombre=str(input(\"Digita tu nombre: \"))\n",
    "nombre=nombre.title()\n",
    "if nombre== \"Victor\": \n",
    "    print(f\"Tu nombre es {nombre}, \\n¡WOW, tienes un gran nombre!\")\n",
    "else:\n",
    "    print(f\"No reconozco tu nombre, identificate {nombre}\")"
   ]
  },
  {
   "cell_type": "code",
   "execution_count": null,
   "id": "8cfc7fd3",
   "metadata": {},
   "outputs": [],
   "source": [
    "# Operadores Logicos\n",
    "> *and* (&): Todas las expreciones sean verdaderas / *True*\n",
    "> *or* (o): Con que cada una de las expreciones sean verdaderas / *True*"
   ]
  },
  {
   "cell_type": "markdown",
   "id": "2b797a44",
   "metadata": {},
   "source": [
    "#\n",
    "# Piensa en un programa, que ingrese su nombre, lo amacene, lo muestre y con un else indique que no reconoce el nombre."
   ]
  },
  {
   "cell_type": "code",
   "execution_count": 1,
   "id": "df126512",
   "metadata": {},
   "outputs": [
    {
     "name": "stdout",
     "output_type": "stream",
     "text": [
      "Tu nombre es Manuel, \n",
      "¡WOW, tienes un gran nombre!\n"
     ]
    }
   ],
   "source": [
    "nombre=str(input(\"Digita tu nombre: \"))\n",
    "nombre=nombre.title()\n",
    "if nombre== \"Victor\" or \"Manuel\": \n",
    "    print(f\"Tu nombre es {nombre}, \\n¡WOW, tienes un gran nombre!\")\n",
    "else:\n",
    "    print(f\"No reconozco tu nombre, identificate {nombre}\")"
   ]
  },
  {
   "cell_type": "markdown",
   "id": "aeb1f899",
   "metadata": {},
   "source": [
    "# Ciclos\n",
    "## 1. while\n",
    "# Piensa en un programa que determine si un numero es menor, igual o mayor a 5"
   ]
  },
  {
   "cell_type": "code",
   "execution_count": null,
   "id": "0fb84fd8",
   "metadata": {},
   "outputs": [
    {
     "name": "stdout",
     "output_type": "stream",
     "text": [
      "El numero 0, es menor a 5\n",
      "El numero 1, es menor a 5\n",
      "El numero 2, es menor a 5\n",
      "El numero 3, es menor a 5\n",
      "El numero 4, es menor a 5\n",
      "Tu numeor es igual a 5\n",
      "El numero 6, es mayor o igual a 5\n",
      "El numero 7, es mayor o igual a 5\n",
      "El numero 8, es mayor o igual a 5\n",
      "El numero 9, es mayor o igual a 5\n",
      "Fin del programa\n"
     ]
    }
   ],
   "source": [
    "i=0\n",
    "while i<10:\n",
    "    if i <5:\n",
    "        print(f\"El numero {i}, es menor a 5\")\n",
    "        input(\"\\nPresione Enter para continuar... \")\n",
    "    elif i==5:\n",
    "        print(\"Tu numero es igual a 5\")\n",
    "    else: \n",
    "        print(f\"El numero {i}, es mayor a 5\")\n",
    "        input(\"\\nPresione Enter para continuar... \")\n",
    "    i+=1\n",
    "print(\"Fin del programa\")    "
   ]
  },
  {
   "cell_type": "markdown",
   "id": "41f337b3",
   "metadata": {},
   "source": [
    "# Ciclos\n",
    "## 2. For\n",
    "# Piensa en un programa que imprima todos los datos del 1 al 11"
   ]
  },
  {
   "cell_type": "code",
   "execution_count": null,
   "id": "a991f4e0",
   "metadata": {},
   "outputs": [
    {
     "name": "stdout",
     "output_type": "stream",
     "text": [
      "1\n",
      "2\n",
      "3\n",
      "4\n",
      "5\n",
      "6\n",
      "7\n",
      "8\n",
      "9\n",
      "10\n"
     ]
    }
   ],
   "source": [
    "for i in range (1,11):\n",
    "    print(f\"{i}\")"
   ]
  },
  {
   "cell_type": "markdown",
   "id": "522a9312",
   "metadata": {},
   "source": [
    "# Piensa en un programa que imprima tolas tablas de multiplicar del 1 al 10"
   ]
  },
  {
   "cell_type": "code",
   "execution_count": 11,
   "id": "8b67c107",
   "metadata": {},
   "outputs": [
    {
     "name": "stdout",
     "output_type": "stream",
     "text": [
      "1 * 1 = 1\n",
      "1 * 2 = 2\n",
      "1 * 3 = 3\n",
      "1 * 4 = 4\n",
      "1 * 5 = 5\n",
      "1 * 6 = 6\n",
      "1 * 7 = 7\n",
      "1 * 8 = 8\n",
      "1 * 9 = 9\n",
      "1 * 10 = 10\n",
      "\n",
      "2 * 1 = 2\n",
      "2 * 2 = 4\n",
      "2 * 3 = 6\n",
      "2 * 4 = 8\n",
      "2 * 5 = 10\n",
      "2 * 6 = 12\n",
      "2 * 7 = 14\n",
      "2 * 8 = 16\n",
      "2 * 9 = 18\n",
      "2 * 10 = 20\n",
      "\n",
      "3 * 1 = 3\n",
      "3 * 2 = 6\n",
      "3 * 3 = 9\n",
      "3 * 4 = 12\n",
      "3 * 5 = 15\n",
      "3 * 6 = 18\n",
      "3 * 7 = 21\n",
      "3 * 8 = 24\n",
      "3 * 9 = 27\n",
      "3 * 10 = 30\n",
      "\n",
      "4 * 1 = 4\n",
      "4 * 2 = 8\n",
      "4 * 3 = 12\n",
      "4 * 4 = 16\n",
      "4 * 5 = 20\n",
      "4 * 6 = 24\n",
      "4 * 7 = 28\n",
      "4 * 8 = 32\n",
      "4 * 9 = 36\n",
      "4 * 10 = 40\n",
      "\n",
      "5 * 1 = 5\n",
      "5 * 2 = 10\n",
      "5 * 3 = 15\n",
      "5 * 4 = 20\n",
      "5 * 5 = 25\n",
      "5 * 6 = 30\n",
      "5 * 7 = 35\n",
      "5 * 8 = 40\n",
      "5 * 9 = 45\n",
      "5 * 10 = 50\n",
      "\n",
      "6 * 1 = 6\n",
      "6 * 2 = 12\n",
      "6 * 3 = 18\n",
      "6 * 4 = 24\n",
      "6 * 5 = 30\n",
      "6 * 6 = 36\n",
      "6 * 7 = 42\n",
      "6 * 8 = 48\n",
      "6 * 9 = 54\n",
      "6 * 10 = 60\n",
      "\n",
      "7 * 1 = 7\n",
      "7 * 2 = 14\n",
      "7 * 3 = 21\n",
      "7 * 4 = 28\n",
      "7 * 5 = 35\n",
      "7 * 6 = 42\n",
      "7 * 7 = 49\n",
      "7 * 8 = 56\n",
      "7 * 9 = 63\n",
      "7 * 10 = 70\n",
      "\n",
      "8 * 1 = 8\n",
      "8 * 2 = 16\n",
      "8 * 3 = 24\n",
      "8 * 4 = 32\n",
      "8 * 5 = 40\n",
      "8 * 6 = 48\n",
      "8 * 7 = 56\n",
      "8 * 8 = 64\n",
      "8 * 9 = 72\n",
      "8 * 10 = 80\n",
      "\n",
      "9 * 1 = 9\n",
      "9 * 2 = 18\n",
      "9 * 3 = 27\n",
      "9 * 4 = 36\n",
      "9 * 5 = 45\n",
      "9 * 6 = 54\n",
      "9 * 7 = 63\n",
      "9 * 8 = 72\n",
      "9 * 9 = 81\n",
      "9 * 10 = 90\n",
      "\n",
      "10 * 1 = 10\n",
      "10 * 2 = 20\n",
      "10 * 3 = 30\n",
      "10 * 4 = 40\n",
      "10 * 5 = 50\n",
      "10 * 6 = 60\n",
      "10 * 7 = 70\n",
      "10 * 8 = 80\n",
      "10 * 9 = 90\n",
      "10 * 10 = 100\n",
      "\n"
     ]
    }
   ],
   "source": [
    "for i in range (1,11):\n",
    "    for j in range (1,11):\n",
    "        print(i,\"*\",j,\"=\",i*j)\n",
    "    print()"
   ]
  },
  {
   "cell_type": "markdown",
   "id": "bf61b722",
   "metadata": {},
   "source": [
    "# Funciones \n",
    ">Para definir la funcion se usa 'def' es una palabra clave que indica que se trata de una definicion de funcion. El nombre e la funcion es."
   ]
  },
  {
   "cell_type": "code",
   "execution_count": null,
   "id": "160c4fec",
   "metadata": {},
   "outputs": [
    {
     "name": "stdout",
     "output_type": "stream",
     "text": [
      "Tu nombre es: v\n",
      "Y tu suma es: 5.0\n"
     ]
    }
   ],
   "source": [
    "#Piensa en un programa que permita crear una funcion que salude y pida sumar dos numeros ingresados por teclado en la misma funcion y con parametros\n",
    "def saludarSumar():\n",
    "    \"\"\"\n",
    "    Esta funcion saluda y suma dos numeros ingresados por teclado y devuelve el resultado.\n",
    "    \"\"\"\n",
    "\n",
    "    nombre=input(\"Hola, Digita tu nombre\")\n",
    "    print(f\"Hola {nombre}, ten un buen dia :)\")\n",
    "    num1=input(\"Digita tu primer numero: \")\n",
    "    num2=input(\"Digita tu segundo numero: \")\n",
    "    try:\n",
    "        num1=float(num1)\n",
    "        num2=float(num2)\n",
    "        suma=num1+num2\n",
    "        print(f\"Tu suma es: {suma}\")\n",
    "        return suma\n",
    "    except ValueError:\n",
    "        print(\"Por favor, ingresa un numero valido\")\n",
    "        return None #El retorno indica un error.\n",
    "#LLamar la funcion va a imprimir el resultado\n",
    "resultadoSuma= saludarSumar()\n",
    "help(saludarSumar)\n",
    "\n",
    "\n"
   ]
  }
 ],
 "metadata": {
  "kernelspec": {
   "display_name": "Python 3",
   "language": "python",
   "name": "python3"
  },
  "language_info": {
   "codemirror_mode": {
    "name": "ipython",
    "version": 3
   },
   "file_extension": ".py",
   "mimetype": "text/x-python",
   "name": "python",
   "nbconvert_exporter": "python",
   "pygments_lexer": "ipython3",
   "version": "3.13.5"
  }
 },
 "nbformat": 4,
 "nbformat_minor": 5
}
