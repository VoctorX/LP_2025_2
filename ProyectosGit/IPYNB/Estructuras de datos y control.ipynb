{
 "cells": [
  {
   "cell_type": "markdown",
   "id": "a1298025",
   "metadata": {},
   "source": [
    "# Listas"
   ]
  },
  {
   "cell_type": "code",
   "execution_count": 1,
   "id": "dd236247",
   "metadata": {},
   "outputs": [
    {
     "name": "stdout",
     "output_type": "stream",
     "text": [
      "['Victor', 'Cordoba', 18]\n",
      "<class 'list'>\n"
     ]
    }
   ],
   "source": [
    "lista = [\"Victor\", \"Cordoba\", 18]\n",
    "print(lista)\n",
    "print(type(lista))"
   ]
  },
  {
   "cell_type": "code",
   "execution_count": null,
   "id": "60b19f6c",
   "metadata": {},
   "outputs": [
    {
     "data": {
      "text/plain": [
       "['Cordoba', 18]"
      ]
     },
     "execution_count": 6,
     "metadata": {},
     "output_type": "execute_result"
    }
   ],
   "source": [
    "lista[:2]\n",
    "\n",
    "# o\n",
    "\n",
    "lista[1:]\n"
   ]
  },
  {
   "cell_type": "code",
   "execution_count": null,
   "id": "dc29d5be",
   "metadata": {},
   "outputs": [],
   "source": [
    "len(lista)"
   ]
  },
  {
   "cell_type": "code",
   "execution_count": null,
   "id": "f7897f42",
   "metadata": {},
   "outputs": [
    {
     "ename": "ValueError",
     "evalue": "28 is not in list",
     "output_type": "error",
     "traceback": [
      "\u001b[31m---------------------------------------------------------------------------\u001b[39m",
      "\u001b[31mValueError\u001b[39m                                Traceback (most recent call last)",
      "\u001b[36mCell\u001b[39m\u001b[36m \u001b[39m\u001b[32mIn[8]\u001b[39m\u001b[32m, line 1\u001b[39m\n\u001b[32m----> \u001b[39m\u001b[32m1\u001b[39m \u001b[43mlista\u001b[49m\u001b[43m.\u001b[49m\u001b[43mindex\u001b[49m\u001b[43m(\u001b[49m\u001b[32;43m28\u001b[39;49m\u001b[43m)\u001b[49m\n",
      "\u001b[31mValueError\u001b[39m: 28 is not in list"
     ]
    }
   ],
   "source": [
    "lista.index(18)"
   ]
  },
  {
   "cell_type": "code",
   "execution_count": null,
   "id": "72b39f50",
   "metadata": {},
   "outputs": [],
   "source": [
    "lista.insert(1, \"Valen\")\n",
    "print(lista)"
   ]
  }
 ],
 "metadata": {
  "kernelspec": {
   "display_name": "Python 3",
   "language": "python",
   "name": "python3"
  },
  "language_info": {
   "codemirror_mode": {
    "name": "ipython",
    "version": 3
   },
   "file_extension": ".py",
   "mimetype": "text/x-python",
   "name": "python",
   "nbconvert_exporter": "python",
   "pygments_lexer": "ipython3",
   "version": "3.13.5"
  }
 },
 "nbformat": 4,
 "nbformat_minor": 5
}
